{
 "cells": [
  {
   "cell_type": "code",
   "execution_count": null,
   "id": "6cb9179b",
   "metadata": {},
   "outputs": [],
   "source": [
    "# Fctorial of a number"
   ]
  },
  {
   "cell_type": "code",
   "execution_count": 18,
   "id": "9c8d6496",
   "metadata": {},
   "outputs": [
    {
     "name": "stdout",
     "output_type": "stream",
     "text": [
      "Factorial of 7 is 5040\n"
     ]
    }
   ],
   "source": [
    "def fact(n):  #user defined function\n",
    "    return 1 if (n==1 or n==0) else n * fact(n - 1);   \n",
    " \n",
    "num = 7;  \n",
    "print(\"Factorial of the\",num,\"is\",fact(num))  "
   ]
  },
  {
   "cell_type": "code",
   "execution_count": null,
   "id": "f95dda4f",
   "metadata": {},
   "outputs": [],
   "source": []
  },
  {
   "cell_type": "code",
   "execution_count": null,
   "id": "fbcdc005",
   "metadata": {},
   "outputs": [],
   "source": []
  }
 ],
 "metadata": {
  "kernelspec": {
   "display_name": "Python 3 (ipykernel)",
   "language": "python",
   "name": "python3"
  },
  "language_info": {
   "codemirror_mode": {
    "name": "ipython",
    "version": 3
   },
   "file_extension": ".py",
   "mimetype": "text/x-python",
   "name": "python",
   "nbconvert_exporter": "python",
   "pygments_lexer": "ipython3",
   "version": "3.9.7"
  }
 },
 "nbformat": 4,
 "nbformat_minor": 5
}
