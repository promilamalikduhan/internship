{
 "cells": [
  {
   "cell_type": "code",
   "execution_count": null,
   "id": "d1f908b6",
   "metadata": {},
   "outputs": [],
   "source": [
    "# Python program to check if a string is palindrome or not"
   ]
  },
  {
   "cell_type": "code",
   "execution_count": 1,
   "id": "b1b88dc9",
   "metadata": {},
   "outputs": [
    {
     "name": "stdout",
     "output_type": "stream",
     "text": [
      "Enter a name: racecar\n",
      "Yes\n"
     ]
    }
   ],
   "source": [
    "nam = str(input(\"Enter a name: \"))\n",
    " \n",
    "w = \"\"\n",
    "for i in nam:\n",
    "    w = i + w\n",
    " \n",
    "if (nam == w):\n",
    "    print(\"Yes\")\n",
    "else:\n",
    "    print(\"No\")"
   ]
  },
  {
   "cell_type": "code",
   "execution_count": null,
   "id": "5e7083b0",
   "metadata": {},
   "outputs": [],
   "source": []
  }
 ],
 "metadata": {
  "kernelspec": {
   "display_name": "Python 3 (ipykernel)",
   "language": "python",
   "name": "python3"
  },
  "language_info": {
   "codemirror_mode": {
    "name": "ipython",
    "version": 3
   },
   "file_extension": ".py",
   "mimetype": "text/x-python",
   "name": "python",
   "nbconvert_exporter": "python",
   "pygments_lexer": "ipython3",
   "version": "3.9.7"
  }
 },
 "nbformat": 4,
 "nbformat_minor": 5
}
