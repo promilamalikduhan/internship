{
 "cells": [
  {
   "cell_type": "code",
   "execution_count": null,
   "id": "07087c8c",
   "metadata": {},
   "outputs": [],
   "source": [
    "#to print the frequency of each of the characters present in a given string.And also counting the length of the string"
   ]
  },
  {
   "cell_type": "code",
   "execution_count": 2,
   "id": "c4637148",
   "metadata": {},
   "outputs": [
    {
     "name": "stdout",
     "output_type": "stream",
     "text": [
      "Enter a string: madam\n",
      "m,2\n",
      "a,2\n",
      "d,1\n"
     ]
    }
   ],
   "source": [
    "string = input(\"Enter a string: \") #string enter by user\n",
    "\n",
    "lst1 = []  #define list\n",
    "\n",
    "\n",
    "for char in string:  \n",
    "    if char not in lst1:\n",
    "        lst1.append(char)# append() is used for adds a single item to the existing list\n",
    "for item in lst1:\n",
    "    print(item,string.count(item), sep = \",\") #sep is used for seperstion between charcters\n",
    "   "
   ]
  }
 ],
 "metadata": {
  "kernelspec": {
   "display_name": "Python 3 (ipykernel)",
   "language": "python",
   "name": "python3"
  },
  "language_info": {
   "codemirror_mode": {
    "name": "ipython",
    "version": 3
   },
   "file_extension": ".py",
   "mimetype": "text/x-python",
   "name": "python",
   "nbconvert_exporter": "python",
   "pygments_lexer": "ipython3",
   "version": "3.9.7"
  }
 },
 "nbformat": 4,
 "nbformat_minor": 5
}
