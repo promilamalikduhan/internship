{
 "cells": [
  {
   "cell_type": "code",
   "execution_count": 1,
   "id": "af47f4fb",
   "metadata": {},
   "outputs": [],
   "source": [
    "# Program to check if a number is prime or not"
   ]
  },
  {
   "cell_type": "code",
   "execution_count": 1,
   "id": "be3c2360",
   "metadata": {},
   "outputs": [
    {
     "name": "stdout",
     "output_type": "stream",
     "text": [
      "Enter a number: 67\n",
      "67  this is a prime number\n"
     ]
    }
   ],
   "source": [
    "\n",
    "num = int(input(\"Enter a number: \"))   # To take input from the user\n",
    "\n",
    "if num > 1:           # prime numbers are greater than 1\n",
    "                      \n",
    "    for i in range(2,num):\n",
    "        if (num % i) == 0:\n",
    "            print(num,\"this number is composite number\")   #they can be divided by more than two numbers.\n",
    "            print(i,\"times\",num//i,\"is\",num)\n",
    "            break\n",
    "    print(num,\" this is a prime number\")     \n",
    "        #if input number is less than or equal to 1, it is not prime\n",
    "else:\n",
    "    print(num,\"is not a prime number\")"
   ]
  },
  {
   "cell_type": "code",
   "execution_count": null,
   "id": "07ec738c",
   "metadata": {},
   "outputs": [],
   "source": []
  },
  {
   "cell_type": "code",
   "execution_count": null,
   "id": "c4f713f0",
   "metadata": {},
   "outputs": [],
   "source": []
  }
 ],
 "metadata": {
  "kernelspec": {
   "display_name": "Python 3 (ipykernel)",
   "language": "python",
   "name": "python3"
  },
  "language_info": {
   "codemirror_mode": {
    "name": "ipython",
    "version": 3
   },
   "file_extension": ".py",
   "mimetype": "text/x-python",
   "name": "python",
   "nbconvert_exporter": "python",
   "pygments_lexer": "ipython3",
   "version": "3.9.7"
  }
 },
 "nbformat": 4,
 "nbformat_minor": 5
}
