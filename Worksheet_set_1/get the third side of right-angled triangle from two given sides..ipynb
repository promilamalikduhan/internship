{
 "cells": [
  {
   "cell_type": "code",
   "execution_count": 2,
   "id": "d0bf577d",
   "metadata": {},
   "outputs": [],
   "source": [
    "#to get the third side of right-angled triangle from two given sides.\n",
    "\n",
    "import math"
   ]
  },
  {
   "cell_type": "code",
   "execution_count": 3,
   "id": "5038f828",
   "metadata": {},
   "outputs": [
    {
     "name": "stdout",
     "output_type": "stream",
     "text": [
      "Enter base: 45\n",
      "Enter height: 45\n",
      "Hypotenuse = 63.63961030678928\n"
     ]
    }
   ],
   "source": [
    "a = float(input(\"Enter base: \")) \n",
    "b = float(input(\"Enter height: \"))\n",
    "\n",
    "c = math.sqrt(a ** 2 + b ** 2) #squareroot of (a)2+(b)2\n",
    "\n",
    "print(\"Hypotenuse =\", c)# hypotenuse is the longest side of a right-angled triangle, opposite the right angle."
   ]
  },
  {
   "cell_type": "code",
   "execution_count": null,
   "id": "4ac167bc",
   "metadata": {},
   "outputs": [],
   "source": []
  }
 ],
 "metadata": {
  "kernelspec": {
   "display_name": "Python 3 (ipykernel)",
   "language": "python",
   "name": "python3"
  },
  "language_info": {
   "codemirror_mode": {
    "name": "ipython",
    "version": 3
   },
   "file_extension": ".py",
   "mimetype": "text/x-python",
   "name": "python",
   "nbconvert_exporter": "python",
   "pygments_lexer": "ipython3",
   "version": "3.9.7"
  }
 },
 "nbformat": 4,
 "nbformat_minor": 5
}
