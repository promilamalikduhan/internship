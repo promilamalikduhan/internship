{
 "cells": [
  {
   "cell_type": "code",
   "execution_count": 1,
   "id": "3f298dbc",
   "metadata": {},
   "outputs": [],
   "source": [
    "#Write a python program to scrape cricket mens player rankings from icc-cricket.com"
   ]
  },
  {
   "cell_type": "code",
   "execution_count": 2,
   "id": "bd248e2c",
   "metadata": {},
   "outputs": [],
   "source": [
    "from urllib.request import urlopen  \n",
    "from urllib.request import Request  \n",
    "from bs4 import BeautifulSoup\n",
    "import pandas as pd"
   ]
  },
  {
   "cell_type": "code",
   "execution_count": 3,
   "id": "6316fdc8",
   "metadata": {},
   "outputs": [],
   "source": [
    "def tableDataText(table):  \n",
    "    rows = []\n",
    "    trs = table.find_all('tr')\n",
    "    headerow = rowgetDataText(trs[0], 'th')\n",
    "    if headerow: # if there is a header row include first\n",
    "        rows.append(headerow)\n",
    "        trs = trs[1:]\n",
    "    i=0       \n",
    "    for tr in trs: # for every table row\n",
    "        if i<10:\n",
    "            rows.append(rowgetDataText(tr, 'td'))\n",
    "        else:\n",
    "            break\n",
    "        i=i+1\n",
    "    return rows\n",
    "def rowgetDataText(tr, coltag='td'):  # td (data) or th (header)      \n",
    "    return[td.text.strip().split(\"\\n\")[0] for td in tr.find_all(coltag)]\n"
   ]
  },
  {
   "cell_type": "code",
   "execution_count": 4,
   "id": "bca43685",
   "metadata": {},
   "outputs": [
    {
     "name": "stdout",
     "output_type": "stream",
     "text": [
      "Top 10 ODI teams in men’s cricket along with the records for matches, points and rating: \n",
      "\n",
      "      0             1        2       3       4\n",
      "0   Pos          Team  Matches  Points  Rating\n",
      "1     1   New Zealand       18   2,185     121\n",
      "2     2       England       32   3,793     119\n",
      "3     3     Australia       28   3,244     116\n",
      "4     4         India       38   4,162     110\n",
      "5     5  South Africa       31   3,167     102\n",
      "6     6      Pakistan       27   2,524      93\n",
      "7     7    Bangladesh       36   3,350      93\n",
      "8     8     Sri Lanka       35   2,835      81\n",
      "9     9   West Indies       36   2,788      77\n",
      "10   10   Afghanistan       23   1,562      68 \n",
      " \n",
      "\n",
      "Top 10 ODI Batsmen along with the records of their team and rating: \n",
      "\n",
      "      0                      1     2       3                             4\n",
      "0   Pos                 Player  Team  Rating            Career Best Rating\n",
      "1     1             Babar Azam   PAK     873     873 v England, 13/07/2021\n",
      "2     2            Virat Kohli   IND     811     911 v England, 12/07/2018\n",
      "3     3        Quinton de Kock    SA     796   813 v Sri Lanka, 10/03/2019\n",
      "4     4           Rohit Sharma   IND     791   885 v Sri Lanka, 06/07/2019\n",
      "5     5            Aaron Finch   AUS     779     798 v England, 25/06/2019\n",
      "6     6  Rassie van der Dussen    SA     776  776 v Bangladesh, 20/03/2022\n",
      "7     7         Jonny Bairstow   ENG     775       796 v India, 26/03/2021\n",
      "8     8           David Warner   AUS     762    880 v Pakistan, 26/01/2017\n",
      "9     9           Fakhar Zaman   PAK     741     779 v England, 08/07/2021\n",
      "10   10               Joe Root   ENG     740   824 v Sri Lanka, 13/10/2018 \n",
      " \n",
      "\n",
      "Top 10 ODI bowlers along with the records of their team and rating: \n",
      "\n",
      "      0                      1     2       3                             4\n",
      "0   Pos                 Player  Team  Rating            Career Best Rating\n",
      "1     1             Babar Azam   PAK     873     873 v England, 13/07/2021\n",
      "2     2            Virat Kohli   IND     811     911 v England, 12/07/2018\n",
      "3     3        Quinton de Kock    SA     796   813 v Sri Lanka, 10/03/2019\n",
      "4     4           Rohit Sharma   IND     791   885 v Sri Lanka, 06/07/2019\n",
      "5     5            Aaron Finch   AUS     779     798 v England, 25/06/2019\n",
      "6     6  Rassie van der Dussen    SA     776  776 v Bangladesh, 20/03/2022\n",
      "7     7         Jonny Bairstow   ENG     775       796 v India, 26/03/2021\n",
      "8     8           David Warner   AUS     762    880 v Pakistan, 26/01/2017\n",
      "9     9           Fakhar Zaman   PAK     741     779 v England, 08/07/2021\n",
      "10   10               Joe Root   ENG     740   824 v Sri Lanka, 13/10/2018 \n",
      " \n",
      "\n"
     ]
    }
   ],
   "source": [
    "iccrankingURL={1:['https://www.icc-cricket.com/rankings/mens/team-rankings/odi','table','Top 10 ODI teams in men’s cricket along with the records for matches, points and rating:'],2:['https://www.icc-cricket.com/rankings/mens/player-rankings/odi/batting','table rankings-table','Top 10 ODI Batsmen along with the records of their team and rating:'],3:['https://www.icc-cricket.com/rankings/mens/player-rankings/odi/batting','table rankings-table','Top 10 ODI bowlers along with the records of their team and rating:'\n",
    "]}\n",
    "for urlkey,urlvalue in iccrankingURL.items():\n",
    "    URL=urlvalue[0]\n",
    "    iccClass=urlvalue[1]  \n",
    "    Message=urlvalue[2]   \n",
    "    html=urlopen(URL)\n",
    "    bs=BeautifulSoup(html,'html.parser')\n",
    "    table = bs.find(\"table\", { \"class\" : iccClass })\n",
    "    list_table = tableDataText(table)\n",
    "    df=pd.DataFrame(list_table)\n",
    "    print(Message,\"\\n\")\n",
    "    print(df,\"\\n\",\"\\n\")"
   ]
  }
 ],
 "metadata": {
  "kernelspec": {
   "display_name": "Python 3 (ipykernel)",
   "language": "python",
   "name": "python3"
  },
  "language_info": {
   "codemirror_mode": {
    "name": "ipython",
    "version": 3
   },
   "file_extension": ".py",
   "mimetype": "text/x-python",
   "name": "python",
   "nbconvert_exporter": "python",
   "pygments_lexer": "ipython3",
   "version": "3.9.7"
  }
 },
 "nbformat": 4,
 "nbformat_minor": 5
}
