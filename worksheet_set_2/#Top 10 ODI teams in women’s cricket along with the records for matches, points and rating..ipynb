{
 "cells": [
  {
   "cell_type": "code",
   "execution_count": 1,
   "id": "1eb8e101",
   "metadata": {},
   "outputs": [],
   "source": [
    "#Top 10 ODI teams in women’s cricket along with the records for matches, points and rating.\n"
   ]
  },
  {
   "cell_type": "code",
   "execution_count": 2,
   "id": "199f720f",
   "metadata": {},
   "outputs": [],
   "source": [
    "from urllib.request import urlopen  \n",
    "from urllib.request import Request  \n",
    "from bs4 import BeautifulSoup\n",
    "import pandas as pd"
   ]
  },
  {
   "cell_type": "code",
   "execution_count": 3,
   "id": "42d900d6",
   "metadata": {},
   "outputs": [],
   "source": [
    "def tableDataText(table):  \n",
    "    rows = []\n",
    "    trs = table.find_all('tr')\n",
    "    headerow = rowgetDataText(trs[0], 'th')\n",
    "    if headerow: # if there is a header row include first\n",
    "        rows.append(headerow)\n",
    "        trs = trs[1:]\n",
    "    i=0       \n",
    "    for tr in trs: # for every table row\n",
    "        if i<10:\n",
    "            rows.append(rowgetDataText(tr, 'td'))\n",
    "        else:\n",
    "            break\n",
    "        i=i+1\n",
    "    return rows\n",
    "def rowgetDataText(tr, coltag='td'):  # td (data) or th (header)      \n",
    "    return[td.text.strip().split(\"\\n\")[0] for td in tr.find_all(coltag)]\n"
   ]
  },
  {
   "cell_type": "code",
   "execution_count": 4,
   "id": "a6e454e5",
   "metadata": {},
   "outputs": [
    {
     "name": "stdout",
     "output_type": "stream",
     "text": [
      "Top 10 ODI teams in women’s cricket along with the records for matches, points and rating: \n",
      "\n",
      "      0             1        2       3       4\n",
      "0   Pos          Team  Matches  Points  Rating\n",
      "1     1     Australia       27   4,487     166\n",
      "2     2  South Africa       27   3,438     127\n",
      "3     3       England       28   3,248     116\n",
      "4     4         India       29   2,890     100\n",
      "5     5   New Zealand       31   3,018      97\n",
      "6     6   West Indies       27   2,399      89\n",
      "7     7    Bangladesh       12     935      78\n",
      "8     8      Pakistan       26   1,753      67\n",
      "9     9       Ireland        5     240      48\n",
      "10   10     Sri Lanka        5     233      47 \n",
      " \n",
      "\n",
      "Top 10 ODI all-rounder along with the records of their team and rating: \n",
      "\n",
      "      0                 1     2       3                               4\n",
      "0   Pos            Player  Team  Rating              Career Best Rating\n",
      "1     1      Ellyse Perry   AUS     404   548 v West Indies, 11/09/2019\n",
      "2     2    Natalie Sciver   ENG     376   391 v New Zealand, 16/09/2021\n",
      "3     3    Marizanne Kapp    SA     359   419 v West Indies, 10/09/2021\n",
      "4     4   Hayley Matthews    WI     340         365 v India, 12/03/2022\n",
      "5     5       Amelia Kerr    NZ     335  339 v South Africa, 17/03/2022\n",
      "6     6  Ashleigh Gardner   AUS     278    278 v Bangladesh, 25/03/2022\n",
      "7     7     Deepti Sharma   IND     249  397 v South Africa, 09/10/2019\n",
      "8     8     Jess Jonassen   AUS     246   308 v West Indies, 11/09/2019\n",
      "9     9   Katherine Brunt   ENG     239     296 v Australia, 03/02/2022\n",
      "10   10    Jhulan Goswami   IND     217     308 v Australia, 02/02/2016 \n",
      " \n",
      "\n",
      "Top 10 ODI Batting player along with the records of their team and rating: \n",
      "\n",
      "      0                  1     2       3                              4\n",
      "0   Pos             Player  Team  Rating             Career Best Rating\n",
      "1     1    Laura Wolvaardt    SA     740    741 v Australia, 22/03/2022\n",
      "2     2        Beth Mooney   AUS     726      734 v England, 03/02/2022\n",
      "3     3        Meg Lanning   AUS     718  834 v New Zealand, 24/02/2016\n",
      "4     4     Natalie Sciver   ENG     705        712 v India, 25/02/2019\n",
      "5     5       Alyssa Healy   AUS     703        776 v India, 21/09/2021\n",
      "6     6        Mithali Raj   IND     686    839 v Australia, 24/12/2004\n",
      "7     7     Rachael Haynes   AUS     684  713 v West Indies, 15/03/2022\n",
      "8     8     Tammy Beaumont   ENG     682        791 v India, 27/06/2021\n",
      "9     9  Amy Satterthwaite    NZ     681    756 v Australia, 02/03/2017\n",
      "10   10    Smriti Mandhana   IND     669      797 v England, 28/02/2019 \n",
      " \n",
      "\n"
     ]
    }
   ],
   "source": [
    "iccrankingURL={1:['https://www.icc-cricket.com/rankings/womens/team-rankings/odi','table',\n",
    "                  'Top 10 ODI teams in women’s cricket along with the records for matches, points and rating:'],2:[\n",
    "    'https://www.icc-cricket.com/rankings/womens/player-rankings/odi/all-rounder',\n",
    "    'table rankings-table','Top 10 ODI all-rounder along with the records of their team and rating:'],3:[\n",
    "    'https://www.icc-cricket.com/rankings/womens/player-rankings/odi/batting','table rankings-table',\n",
    "    'Top 10 ODI Batting player along with the records of their team and rating:'\n",
    "]}\n",
    "for urlkey,urlvalue in iccrankingURL.items():\n",
    "    URL=urlvalue[0]\n",
    "    iccClass=urlvalue[1]  \n",
    "    Message=urlvalue[2]   \n",
    "    html=urlopen(URL)\n",
    "    bs=BeautifulSoup(html,'html.parser')\n",
    "    table = bs.find(\"table\", { \"class\" : iccClass })\n",
    "    list_table = tableDataText(table)\n",
    "    df=pd.DataFrame(list_table)\n",
    "    print(Message,\"\\n\")\n",
    "    print(df,\"\\n\",\"\\n\")"
   ]
  }
 ],
 "metadata": {
  "kernelspec": {
   "display_name": "Python 3 (ipykernel)",
   "language": "python",
   "name": "python3"
  },
  "language_info": {
   "codemirror_mode": {
    "name": "ipython",
    "version": 3
   },
   "file_extension": ".py",
   "mimetype": "text/x-python",
   "name": "python",
   "nbconvert_exporter": "python",
   "pygments_lexer": "ipython3",
   "version": "3.9.7"
  }
 },
 "nbformat": 4,
 "nbformat_minor": 5
}
