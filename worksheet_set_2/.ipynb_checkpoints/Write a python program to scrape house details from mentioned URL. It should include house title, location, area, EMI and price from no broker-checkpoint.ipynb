{
 "cells": [
  {
   "cell_type": "code",
   "execution_count": 120,
   "id": "f024f377",
   "metadata": {},
   "outputs": [],
   "source": [
    "#Write a python program to scrape house details from mentioned URL. It should include house title, location,\n",
    "#area, EMI and price from https://www.nobroker.in/ .Enter three localities which are Indira Nagar, Jayanagar,\n",
    "#Rajaji Nagar."
   ]
  },
  {
   "cell_type": "code",
   "execution_count": 2,
   "id": "f8b88e34",
   "metadata": {},
   "outputs": [],
   "source": [
    "from urllib.request import urlopen  \n",
    "from urllib.request import Request  \n",
    "from bs4 import BeautifulSoup\n",
    "import pandas as pd"
   ]
  },
  {
   "cell_type": "code",
   "execution_count": 3,
   "id": "d46ca062",
   "metadata": {},
   "outputs": [],
   "source": [
    "html=urlopen('https://www.nobroker.in/property/sale/bangalore/multiple?searchParam=W3sibGF0IjoxMi45OTgxNzMyLCJsb24iOjc3LjU1MzA0NDU5OTk5OTk5LCJwbGFjZUlkIjoiQ2hJSnhmVzREUE05cmpzUktzTlRHLTVwX1FRIiwicGxhY2VOYW1lIjoiUmFqYWppbmFnYXIifSx7ImxhdCI6MTIuOTMwNzczNSwibG9uIjo3Ny41ODM4MzAyLCJwbGFjZUlkIjoiQ2hJSjJkZGxaNWdWcmpzUmgxQk9BYWYtb3JzIiwicGxhY2VOYW1lIjoiSmF5YW5hZ2FyIn0seyJsYXQiOjEyLjk3ODM2OTIsImxvbiI6NzcuNjQwODM1NiwicGxhY2VJZCI6IkNoSUprUU4zR0tRV3Jqc1JOaEJRSnJoR0Q3VSIsInBsYWNlTmFtZSI6IkluZGlyYW5hZ2FyIn1d&radius=2.0&city=bangalore&locality=Rajajinagar,&locality=Jayanagar,&locality=Indiranagar')\n",
    "bs=BeautifulSoup(html,'html.parser')"
   ]
  },
  {
   "cell_type": "code",
   "execution_count": 4,
   "id": "da4738a9",
   "metadata": {},
   "outputs": [],
   "source": [
    "PriceInfo=[]\n",
    "AreaInfo=[]\n",
    "Housetitle=[]\n",
    "HouseEMI=[]\n",
    "Houselocation=[]\n",
    "j=1\n",
    "propertyCount=len(bs.find_all('div',class_=\"flex flex-col w-33pe items-center bo tp:w-half po:w-full border-r-0\"))\n",
    "for i in range(propertyCount):\n",
    "    priceHTML=bs.find_all('div',class_=\"flex flex-col w-33pe items-center bo tp:w-half po:w-full border-r-0\")\n",
    "    areaEMIHTML=bs.find_all('div',class_=\"flex flex-col w-33pe items-center border-r border-r-solid border-card-overview-border-color tp:w-half po:w-full last:border-r-1\")\n",
    "    titleHTML=bs.find_all('span',class_=\"overflow-hidden overflow-ellipsis whitespace-nowrap max-w-80pe po:max-w-full\")\n",
    "    locationHTML=bs.find_all('div',class_=\"mt-0.5p overflow-hidden overflow-ellipsis whitespace-nowrap max-w-70 text-gray-light leading-4 po:mb-0 po:max-w-95\")\n",
    "    PriceInfo.append(priceHTML[i].text.split('₹')[1])\n",
    "    AreaInfo.append(areaEMIHTML[j-1].text.split('Builtup')[0])\n",
    "    Housetitle.append(titleHTML[i].text)\n",
    "    HouseEMI.append(areaEMIHTML[j].text.split('/')[0])\n",
    "    Houselocation.append(locationHTML[i].text)\n",
    "    j=j+2"
   ]
  },
  {
   "cell_type": "code",
   "execution_count": 5,
   "id": "a97456b0",
   "metadata": {},
   "outputs": [
    {
     "data": {
      "text/html": [
       "<div>\n",
       "<style scoped>\n",
       "    .dataframe tbody tr th:only-of-type {\n",
       "        vertical-align: middle;\n",
       "    }\n",
       "\n",
       "    .dataframe tbody tr th {\n",
       "        vertical-align: top;\n",
       "    }\n",
       "\n",
       "    .dataframe thead th {\n",
       "        text-align: right;\n",
       "    }\n",
       "</style>\n",
       "<table border=\"1\" class=\"dataframe\">\n",
       "  <thead>\n",
       "    <tr style=\"text-align: right;\">\n",
       "      <th></th>\n",
       "      <th>House Title</th>\n",
       "      <th>Location</th>\n",
       "      <th>Area</th>\n",
       "      <th>EMI</th>\n",
       "      <th>Price</th>\n",
       "    </tr>\n",
       "  </thead>\n",
       "  <tbody>\n",
       "    <tr>\n",
       "      <th>0</th>\n",
       "      <td>2 BHK Apartment  For Sale  In Tarang Parkway A...</td>\n",
       "      <td>Tarang Parkway Apartment  2nd Main Rd, Shivana...</td>\n",
       "      <td>1,200 sqft</td>\n",
       "      <td>₹57,314</td>\n",
       "      <td>1 Crore</td>\n",
       "    </tr>\n",
       "    <tr>\n",
       "      <th>1</th>\n",
       "      <td>2 BHK Flat  For Sale  In Jains Prakruti, Jayan...</td>\n",
       "      <td>Kanakapura Road, Jayanagar, Bangalore, Karnata...</td>\n",
       "      <td>1,301 sqft</td>\n",
       "      <td>₹85,971</td>\n",
       "      <td>1.5 Crores</td>\n",
       "    </tr>\n",
       "    <tr>\n",
       "      <th>2</th>\n",
       "      <td>4 BHK In Independent House  For Sale  In Jayan...</td>\n",
       "      <td>Independent House, SBI Branch Jayanagar 9th bl...</td>\n",
       "      <td>2,600 sqft</td>\n",
       "      <td>₹1.55 Lacs</td>\n",
       "      <td>2.7 Crores</td>\n",
       "    </tr>\n",
       "    <tr>\n",
       "      <th>3</th>\n",
       "      <td>3 BHK Flat  For Sale  In Benaka Apartments In ...</td>\n",
       "      <td>871, 5th Cross Rd, Indira Nagar 1st Stage, Sta...</td>\n",
       "      <td>1,331 sqft</td>\n",
       "      <td>₹48,717</td>\n",
       "      <td>85 Lacs</td>\n",
       "    </tr>\n",
       "    <tr>\n",
       "      <th>4</th>\n",
       "      <td>4+ BHK In Independent House  For Sale  In Prak...</td>\n",
       "      <td>Independent House, 6th C cross 3rd main rd nea...</td>\n",
       "      <td>2,200 sqft</td>\n",
       "      <td>₹77,374</td>\n",
       "      <td>1.35 Crores</td>\n",
       "    </tr>\n",
       "  </tbody>\n",
       "</table>\n",
       "</div>"
      ],
      "text/plain": [
       "                                         House Title  \\\n",
       "0  2 BHK Apartment  For Sale  In Tarang Parkway A...   \n",
       "1  2 BHK Flat  For Sale  In Jains Prakruti, Jayan...   \n",
       "2  4 BHK In Independent House  For Sale  In Jayan...   \n",
       "3  3 BHK Flat  For Sale  In Benaka Apartments In ...   \n",
       "4  4+ BHK In Independent House  For Sale  In Prak...   \n",
       "\n",
       "                                            Location        Area         EMI  \\\n",
       "0  Tarang Parkway Apartment  2nd Main Rd, Shivana...  1,200 sqft     ₹57,314   \n",
       "1  Kanakapura Road, Jayanagar, Bangalore, Karnata...  1,301 sqft     ₹85,971   \n",
       "2  Independent House, SBI Branch Jayanagar 9th bl...  2,600 sqft  ₹1.55 Lacs   \n",
       "3  871, 5th Cross Rd, Indira Nagar 1st Stage, Sta...  1,331 sqft     ₹48,717   \n",
       "4  Independent House, 6th C cross 3rd main rd nea...  2,200 sqft     ₹77,374   \n",
       "\n",
       "         Price  \n",
       "0      1 Crore  \n",
       "1   1.5 Crores  \n",
       "2   2.7 Crores  \n",
       "3      85 Lacs  \n",
       "4  1.35 Crores  "
      ]
     },
     "execution_count": 5,
     "metadata": {},
     "output_type": "execute_result"
    }
   ],
   "source": [
    "df=pd.DataFrame({'House Title':Housetitle,'Location':Houselocation,'Area':AreaInfo,'EMI':HouseEMI,'Price':PriceInfo})\n",
    "df"
   ]
  },
  {
   "cell_type": "code",
   "execution_count": null,
   "id": "2b6cdab3",
   "metadata": {},
   "outputs": [],
   "source": []
  }
 ],
 "metadata": {
  "kernelspec": {
   "display_name": "Python 3 (ipykernel)",
   "language": "python",
   "name": "python3"
  },
  "language_info": {
   "codemirror_mode": {
    "name": "ipython",
    "version": 3
   },
   "file_extension": ".py",
   "mimetype": "text/x-python",
   "name": "python",
   "nbconvert_exporter": "python",
   "pygments_lexer": "ipython3",
   "version": "3.9.7"
  }
 },
 "nbformat": 4,
 "nbformat_minor": 5
}
