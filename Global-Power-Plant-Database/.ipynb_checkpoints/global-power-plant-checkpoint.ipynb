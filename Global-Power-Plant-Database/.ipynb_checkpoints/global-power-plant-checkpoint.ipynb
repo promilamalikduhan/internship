{
 "cells": [
  {
   "cell_type": "markdown",
   "id": "8349654e",
   "metadata": {},
   "source": [
    "Global Power Plant Database\n",
    "Problem Statement:\n",
    "Description\n",
    "\n",
    "The Global Power Plant Database is a comprehensive, open source database of power plants around the world. It centralizes power plant data to make it easier to navigate, compare and draw insights for one’s own analysis. The database covers approximately 35,000 power plants from 167 countries and includes thermal plants (e.g. coal, gas, oil, nuclear, biomass, waste, geothermal) and renewables (e.g. hydro, wind, solar). Each power plant is geolocated and entries contain information on plant capacity, generation, ownership, and fuel type. It will be continuously updated as data becomes available."
   ]
  },
  {
   "cell_type": "code",
   "execution_count": 1,
   "id": "2cf30082",
   "metadata": {},
   "outputs": [],
   "source": [
    "import numpy as np \n",
    "import pandas as pd \n",
    "import random\n",
    "import seaborn as sns\n",
    "import matplotlib.pyplot as plt\n",
    "import time\n",
    "import warnings\n",
    "warnings.filterwarnings('ignore')"
   ]
  },
  {
   "cell_type": "code",
   "execution_count": 2,
   "id": "3a34f18e",
   "metadata": {},
   "outputs": [
    {
     "data": {
      "text/html": [
       "<div>\n",
       "<style scoped>\n",
       "    .dataframe tbody tr th:only-of-type {\n",
       "        vertical-align: middle;\n",
       "    }\n",
       "\n",
       "    .dataframe tbody tr th {\n",
       "        vertical-align: top;\n",
       "    }\n",
       "\n",
       "    .dataframe thead th {\n",
       "        text-align: right;\n",
       "    }\n",
       "</style>\n",
       "<table border=\"1\" class=\"dataframe\">\n",
       "  <thead>\n",
       "    <tr style=\"text-align: right;\">\n",
       "      <th></th>\n",
       "      <th>country</th>\n",
       "      <th>country_long</th>\n",
       "      <th>name</th>\n",
       "      <th>gppd_idnr</th>\n",
       "      <th>capacity_mw</th>\n",
       "      <th>latitude</th>\n",
       "      <th>longitude</th>\n",
       "      <th>primary_fuel</th>\n",
       "      <th>other_fuel1</th>\n",
       "      <th>other_fuel2</th>\n",
       "      <th>other_fuel3</th>\n",
       "      <th>commissioning_year</th>\n",
       "      <th>owner</th>\n",
       "      <th>source</th>\n",
       "      <th>url</th>\n",
       "      <th>geolocation_source</th>\n",
       "      <th>wepp_id</th>\n",
       "      <th>year_of_capacity_data</th>\n",
       "      <th>generation_gwh_2013</th>\n",
       "      <th>generation_gwh_2014</th>\n",
       "      <th>generation_gwh_2015</th>\n",
       "      <th>generation_gwh_2016</th>\n",
       "      <th>generation_gwh_2017</th>\n",
       "      <th>generation_gwh_2018</th>\n",
       "      <th>generation_gwh_2019</th>\n",
       "      <th>generation_data_source</th>\n",
       "      <th>estimated_generation_gwh</th>\n",
       "    </tr>\n",
       "  </thead>\n",
       "  <tbody>\n",
       "    <tr>\n",
       "      <th>0</th>\n",
       "      <td>IND</td>\n",
       "      <td>India</td>\n",
       "      <td>ACME Solar Tower</td>\n",
       "      <td>WRI1020239</td>\n",
       "      <td>2.5</td>\n",
       "      <td>28.1839</td>\n",
       "      <td>73.2407</td>\n",
       "      <td>Solar</td>\n",
       "      <td>NaN</td>\n",
       "      <td>NaN</td>\n",
       "      <td>NaN</td>\n",
       "      <td>2011.0</td>\n",
       "      <td>Solar Paces</td>\n",
       "      <td>National Renewable Energy Laboratory</td>\n",
       "      <td>http://www.nrel.gov/csp/solarpaces/project_det...</td>\n",
       "      <td>National Renewable Energy Laboratory</td>\n",
       "      <td>NaN</td>\n",
       "      <td>NaN</td>\n",
       "      <td>NaN</td>\n",
       "      <td>NaN</td>\n",
       "      <td>NaN</td>\n",
       "      <td>NaN</td>\n",
       "      <td>NaN</td>\n",
       "      <td>NaN</td>\n",
       "      <td>NaN</td>\n",
       "      <td>NaN</td>\n",
       "      <td>NaN</td>\n",
       "    </tr>\n",
       "    <tr>\n",
       "      <th>1</th>\n",
       "      <td>IND</td>\n",
       "      <td>India</td>\n",
       "      <td>ADITYA CEMENT WORKS</td>\n",
       "      <td>WRI1019881</td>\n",
       "      <td>98.0</td>\n",
       "      <td>24.7663</td>\n",
       "      <td>74.6090</td>\n",
       "      <td>Coal</td>\n",
       "      <td>NaN</td>\n",
       "      <td>NaN</td>\n",
       "      <td>NaN</td>\n",
       "      <td>NaN</td>\n",
       "      <td>Ultratech Cement ltd</td>\n",
       "      <td>Ultratech Cement ltd</td>\n",
       "      <td>http://www.ultratechcement.com/</td>\n",
       "      <td>WRI</td>\n",
       "      <td>NaN</td>\n",
       "      <td>NaN</td>\n",
       "      <td>NaN</td>\n",
       "      <td>NaN</td>\n",
       "      <td>NaN</td>\n",
       "      <td>NaN</td>\n",
       "      <td>NaN</td>\n",
       "      <td>NaN</td>\n",
       "      <td>NaN</td>\n",
       "      <td>NaN</td>\n",
       "      <td>NaN</td>\n",
       "    </tr>\n",
       "    <tr>\n",
       "      <th>2</th>\n",
       "      <td>IND</td>\n",
       "      <td>India</td>\n",
       "      <td>AES Saurashtra Windfarms</td>\n",
       "      <td>WRI1026669</td>\n",
       "      <td>39.2</td>\n",
       "      <td>21.9038</td>\n",
       "      <td>69.3732</td>\n",
       "      <td>Wind</td>\n",
       "      <td>NaN</td>\n",
       "      <td>NaN</td>\n",
       "      <td>NaN</td>\n",
       "      <td>NaN</td>\n",
       "      <td>AES</td>\n",
       "      <td>CDM</td>\n",
       "      <td>https://cdm.unfccc.int/Projects/DB/DNV-CUK1328...</td>\n",
       "      <td>WRI</td>\n",
       "      <td>NaN</td>\n",
       "      <td>NaN</td>\n",
       "      <td>NaN</td>\n",
       "      <td>NaN</td>\n",
       "      <td>NaN</td>\n",
       "      <td>NaN</td>\n",
       "      <td>NaN</td>\n",
       "      <td>NaN</td>\n",
       "      <td>NaN</td>\n",
       "      <td>NaN</td>\n",
       "      <td>NaN</td>\n",
       "    </tr>\n",
       "    <tr>\n",
       "      <th>3</th>\n",
       "      <td>IND</td>\n",
       "      <td>India</td>\n",
       "      <td>AGARTALA GT</td>\n",
       "      <td>IND0000001</td>\n",
       "      <td>135.0</td>\n",
       "      <td>23.8712</td>\n",
       "      <td>91.3602</td>\n",
       "      <td>Gas</td>\n",
       "      <td>NaN</td>\n",
       "      <td>NaN</td>\n",
       "      <td>NaN</td>\n",
       "      <td>2004.0</td>\n",
       "      <td>NaN</td>\n",
       "      <td>Central Electricity Authority</td>\n",
       "      <td>http://www.cea.nic.in/</td>\n",
       "      <td>WRI</td>\n",
       "      <td>NaN</td>\n",
       "      <td>2019.0</td>\n",
       "      <td>NaN</td>\n",
       "      <td>617.789264</td>\n",
       "      <td>843.747</td>\n",
       "      <td>886.004428</td>\n",
       "      <td>663.774500</td>\n",
       "      <td>626.239128</td>\n",
       "      <td>NaN</td>\n",
       "      <td>Central Electricity Authority</td>\n",
       "      <td>NaN</td>\n",
       "    </tr>\n",
       "    <tr>\n",
       "      <th>4</th>\n",
       "      <td>IND</td>\n",
       "      <td>India</td>\n",
       "      <td>AKALTARA TPP</td>\n",
       "      <td>IND0000002</td>\n",
       "      <td>1800.0</td>\n",
       "      <td>21.9603</td>\n",
       "      <td>82.4091</td>\n",
       "      <td>Coal</td>\n",
       "      <td>Oil</td>\n",
       "      <td>NaN</td>\n",
       "      <td>NaN</td>\n",
       "      <td>2015.0</td>\n",
       "      <td>NaN</td>\n",
       "      <td>Central Electricity Authority</td>\n",
       "      <td>http://www.cea.nic.in/</td>\n",
       "      <td>WRI</td>\n",
       "      <td>NaN</td>\n",
       "      <td>2019.0</td>\n",
       "      <td>NaN</td>\n",
       "      <td>3035.550000</td>\n",
       "      <td>5916.370</td>\n",
       "      <td>6243.000000</td>\n",
       "      <td>5385.579736</td>\n",
       "      <td>7279.000000</td>\n",
       "      <td>NaN</td>\n",
       "      <td>Central Electricity Authority</td>\n",
       "      <td>NaN</td>\n",
       "    </tr>\n",
       "  </tbody>\n",
       "</table>\n",
       "</div>"
      ],
      "text/plain": [
       "  country country_long                      name   gppd_idnr  capacity_mw  \\\n",
       "0     IND        India          ACME Solar Tower  WRI1020239          2.5   \n",
       "1     IND        India       ADITYA CEMENT WORKS  WRI1019881         98.0   \n",
       "2     IND        India  AES Saurashtra Windfarms  WRI1026669         39.2   \n",
       "3     IND        India               AGARTALA GT  IND0000001        135.0   \n",
       "4     IND        India              AKALTARA TPP  IND0000002       1800.0   \n",
       "\n",
       "   latitude  longitude primary_fuel other_fuel1 other_fuel2  other_fuel3  \\\n",
       "0   28.1839    73.2407        Solar         NaN         NaN          NaN   \n",
       "1   24.7663    74.6090         Coal         NaN         NaN          NaN   \n",
       "2   21.9038    69.3732         Wind         NaN         NaN          NaN   \n",
       "3   23.8712    91.3602          Gas         NaN         NaN          NaN   \n",
       "4   21.9603    82.4091         Coal         Oil         NaN          NaN   \n",
       "\n",
       "   commissioning_year                 owner  \\\n",
       "0              2011.0           Solar Paces   \n",
       "1                 NaN  Ultratech Cement ltd   \n",
       "2                 NaN                   AES   \n",
       "3              2004.0                   NaN   \n",
       "4              2015.0                   NaN   \n",
       "\n",
       "                                 source  \\\n",
       "0  National Renewable Energy Laboratory   \n",
       "1                  Ultratech Cement ltd   \n",
       "2                                   CDM   \n",
       "3         Central Electricity Authority   \n",
       "4         Central Electricity Authority   \n",
       "\n",
       "                                                 url  \\\n",
       "0  http://www.nrel.gov/csp/solarpaces/project_det...   \n",
       "1                    http://www.ultratechcement.com/   \n",
       "2  https://cdm.unfccc.int/Projects/DB/DNV-CUK1328...   \n",
       "3                             http://www.cea.nic.in/   \n",
       "4                             http://www.cea.nic.in/   \n",
       "\n",
       "                     geolocation_source  wepp_id  year_of_capacity_data  \\\n",
       "0  National Renewable Energy Laboratory      NaN                    NaN   \n",
       "1                                   WRI      NaN                    NaN   \n",
       "2                                   WRI      NaN                    NaN   \n",
       "3                                   WRI      NaN                 2019.0   \n",
       "4                                   WRI      NaN                 2019.0   \n",
       "\n",
       "   generation_gwh_2013  generation_gwh_2014  generation_gwh_2015  \\\n",
       "0                  NaN                  NaN                  NaN   \n",
       "1                  NaN                  NaN                  NaN   \n",
       "2                  NaN                  NaN                  NaN   \n",
       "3                  NaN           617.789264              843.747   \n",
       "4                  NaN          3035.550000             5916.370   \n",
       "\n",
       "   generation_gwh_2016  generation_gwh_2017  generation_gwh_2018  \\\n",
       "0                  NaN                  NaN                  NaN   \n",
       "1                  NaN                  NaN                  NaN   \n",
       "2                  NaN                  NaN                  NaN   \n",
       "3           886.004428           663.774500           626.239128   \n",
       "4          6243.000000          5385.579736          7279.000000   \n",
       "\n",
       "   generation_gwh_2019         generation_data_source  \\\n",
       "0                  NaN                            NaN   \n",
       "1                  NaN                            NaN   \n",
       "2                  NaN                            NaN   \n",
       "3                  NaN  Central Electricity Authority   \n",
       "4                  NaN  Central Electricity Authority   \n",
       "\n",
       "   estimated_generation_gwh  \n",
       "0                       NaN  \n",
       "1                       NaN  \n",
       "2                       NaN  \n",
       "3                       NaN  \n",
       "4                       NaN  "
      ]
     },
     "execution_count": 2,
     "metadata": {},
     "output_type": "execute_result"
    }
   ],
   "source": [
    "df= pd.read_csv('global-power-plant.csv')\n",
    "pd.set_option('display.max_columns', None)\n",
    "df.head()"
   ]
  },
  {
   "cell_type": "code",
   "execution_count": 3,
   "id": "d331778e",
   "metadata": {},
   "outputs": [
    {
     "data": {
      "text/plain": [
       "Index(['country', 'country_long', 'name', 'gppd_idnr', 'capacity_mw',\n",
       "       'latitude', 'longitude', 'primary_fuel', 'other_fuel1', 'other_fuel2',\n",
       "       'other_fuel3', 'commissioning_year', 'owner', 'source', 'url',\n",
       "       'geolocation_source', 'wepp_id', 'year_of_capacity_data',\n",
       "       'generation_gwh_2013', 'generation_gwh_2014', 'generation_gwh_2015',\n",
       "       'generation_gwh_2016', 'generation_gwh_2017', 'generation_gwh_2018',\n",
       "       'generation_gwh_2019', 'generation_data_source',\n",
       "       'estimated_generation_gwh'],\n",
       "      dtype='object')"
      ]
     },
     "execution_count": 3,
     "metadata": {},
     "output_type": "execute_result"
    }
   ],
   "source": [
    "df.columns"
   ]
  },
  {
   "cell_type": "code",
   "execution_count": 4,
   "id": "862b9206",
   "metadata": {},
   "outputs": [
    {
     "data": {
      "text/plain": [
       "(907, 27)"
      ]
     },
     "execution_count": 4,
     "metadata": {},
     "output_type": "execute_result"
    }
   ],
   "source": [
    "df.shape"
   ]
  },
  {
   "cell_type": "code",
   "execution_count": 5,
   "id": "bc020552",
   "metadata": {},
   "outputs": [
    {
     "name": "stdout",
     "output_type": "stream",
     "text": [
      "<class 'pandas.core.frame.DataFrame'>\n",
      "RangeIndex: 907 entries, 0 to 906\n",
      "Data columns (total 27 columns):\n",
      " #   Column                    Non-Null Count  Dtype  \n",
      "---  ------                    --------------  -----  \n",
      " 0   country                   907 non-null    object \n",
      " 1   country_long              907 non-null    object \n",
      " 2   name                      907 non-null    object \n",
      " 3   gppd_idnr                 907 non-null    object \n",
      " 4   capacity_mw               907 non-null    float64\n",
      " 5   latitude                  861 non-null    float64\n",
      " 6   longitude                 861 non-null    float64\n",
      " 7   primary_fuel              907 non-null    object \n",
      " 8   other_fuel1               198 non-null    object \n",
      " 9   other_fuel2               1 non-null      object \n",
      " 10  other_fuel3               0 non-null      float64\n",
      " 11  commissioning_year        527 non-null    float64\n",
      " 12  owner                     342 non-null    object \n",
      " 13  source                    907 non-null    object \n",
      " 14  url                       907 non-null    object \n",
      " 15  geolocation_source        888 non-null    object \n",
      " 16  wepp_id                   0 non-null      float64\n",
      " 17  year_of_capacity_data     519 non-null    float64\n",
      " 18  generation_gwh_2013       0 non-null      float64\n",
      " 19  generation_gwh_2014       398 non-null    float64\n",
      " 20  generation_gwh_2015       422 non-null    float64\n",
      " 21  generation_gwh_2016       434 non-null    float64\n",
      " 22  generation_gwh_2017       440 non-null    float64\n",
      " 23  generation_gwh_2018       448 non-null    float64\n",
      " 24  generation_gwh_2019       0 non-null      float64\n",
      " 25  generation_data_source    449 non-null    object \n",
      " 26  estimated_generation_gwh  0 non-null      float64\n",
      "dtypes: float64(15), object(12)\n",
      "memory usage: 191.4+ KB\n"
     ]
    }
   ],
   "source": [
    "df.info()"
   ]
  },
  {
   "cell_type": "markdown",
   "id": "36f5e501",
   "metadata": {},
   "source": [
    "From data information we can see\n",
    "Data having 908 columns and 25 Rows\n",
    "Out of 25, 13 columns are float data type and 12 columns are Oject data type\n",
    "Data is having missing values also in many columns.\n",
    "for exatct count lets check the null values present in the data."
   ]
  },
  {
   "cell_type": "code",
   "execution_count": 6,
   "id": "d7d04893",
   "metadata": {},
   "outputs": [
    {
     "data": {
      "text/plain": [
       "country                       0\n",
       "country_long                  0\n",
       "name                          0\n",
       "gppd_idnr                     0\n",
       "capacity_mw                   0\n",
       "latitude                     46\n",
       "longitude                    46\n",
       "primary_fuel                  0\n",
       "other_fuel1                 709\n",
       "other_fuel2                 906\n",
       "other_fuel3                 907\n",
       "commissioning_year          380\n",
       "owner                       565\n",
       "source                        0\n",
       "url                           0\n",
       "geolocation_source           19\n",
       "wepp_id                     907\n",
       "year_of_capacity_data       388\n",
       "generation_gwh_2013         907\n",
       "generation_gwh_2014         509\n",
       "generation_gwh_2015         485\n",
       "generation_gwh_2016         473\n",
       "generation_gwh_2017         467\n",
       "generation_gwh_2018         459\n",
       "generation_gwh_2019         907\n",
       "generation_data_source      458\n",
       "estimated_generation_gwh    907\n",
       "dtype: int64"
      ]
     },
     "execution_count": 6,
     "metadata": {},
     "output_type": "execute_result"
    }
   ],
   "source": [
    "df.isnull().sum()"
   ]
  },
  {
   "cell_type": "markdown",
   "id": "3e769d60",
   "metadata": {},
   "source": [
    "Here we can see most of the data columns are having missing values\n",
    "In some columns we have colplete missing data\n",
    "latitude and longitude have 46 missing values\n",
    "other_fuel1, other_fuel2 and other_fuel3 are having large number of missing values\n",
    "commissioning_year year have 380 nul values and oweners information also missing\n",
    "wepp_id is completely missing\n",
    "some of the importtant columns having missing values near about 500, we will decide later, we need to drop or fill the colums.\n",
    "\n",
    "Drop all the columns which are not relevent.\n",
    "country, country_long are just the name, and here we are data only for india, so droping this will not effect on output."
   ]
  },
  {
   "cell_type": "code",
   "execution_count": 7,
   "id": "56805199",
   "metadata": {},
   "outputs": [],
   "source": [
    "df.drop(['other_fuel1','other_fuel2', 'other_fuel3', 'wepp_id','url','geolocation_source', 'generation_data_source', \n",
    "          \"generation_gwh_2019\",\"generation_gwh_2013\",'generation_gwh_2014','generation_gwh_2015','generation_gwh_2016',\n",
    "         'generation_gwh_2017','generation_gwh_2018','latitude','longitude','commissioning_year','owner','url',\n",
    "          'year_of_capacity_data','estimated_generation_gwh'], inplace= True, axis= 1)"
   ]
  },
  {
   "cell_type": "code",
   "execution_count": 8,
   "id": "e8f0b04b",
   "metadata": {},
   "outputs": [
    {
     "data": {
      "text/html": [
       "<div>\n",
       "<style scoped>\n",
       "    .dataframe tbody tr th:only-of-type {\n",
       "        vertical-align: middle;\n",
       "    }\n",
       "\n",
       "    .dataframe tbody tr th {\n",
       "        vertical-align: top;\n",
       "    }\n",
       "\n",
       "    .dataframe thead th {\n",
       "        text-align: right;\n",
       "    }\n",
       "</style>\n",
       "<table border=\"1\" class=\"dataframe\">\n",
       "  <thead>\n",
       "    <tr style=\"text-align: right;\">\n",
       "      <th></th>\n",
       "      <th>country</th>\n",
       "      <th>country_long</th>\n",
       "      <th>name</th>\n",
       "      <th>gppd_idnr</th>\n",
       "      <th>capacity_mw</th>\n",
       "      <th>primary_fuel</th>\n",
       "      <th>source</th>\n",
       "    </tr>\n",
       "  </thead>\n",
       "  <tbody>\n",
       "    <tr>\n",
       "      <th>0</th>\n",
       "      <td>IND</td>\n",
       "      <td>India</td>\n",
       "      <td>ACME Solar Tower</td>\n",
       "      <td>WRI1020239</td>\n",
       "      <td>2.5</td>\n",
       "      <td>Solar</td>\n",
       "      <td>National Renewable Energy Laboratory</td>\n",
       "    </tr>\n",
       "    <tr>\n",
       "      <th>1</th>\n",
       "      <td>IND</td>\n",
       "      <td>India</td>\n",
       "      <td>ADITYA CEMENT WORKS</td>\n",
       "      <td>WRI1019881</td>\n",
       "      <td>98.0</td>\n",
       "      <td>Coal</td>\n",
       "      <td>Ultratech Cement ltd</td>\n",
       "    </tr>\n",
       "    <tr>\n",
       "      <th>2</th>\n",
       "      <td>IND</td>\n",
       "      <td>India</td>\n",
       "      <td>AES Saurashtra Windfarms</td>\n",
       "      <td>WRI1026669</td>\n",
       "      <td>39.2</td>\n",
       "      <td>Wind</td>\n",
       "      <td>CDM</td>\n",
       "    </tr>\n",
       "    <tr>\n",
       "      <th>3</th>\n",
       "      <td>IND</td>\n",
       "      <td>India</td>\n",
       "      <td>AGARTALA GT</td>\n",
       "      <td>IND0000001</td>\n",
       "      <td>135.0</td>\n",
       "      <td>Gas</td>\n",
       "      <td>Central Electricity Authority</td>\n",
       "    </tr>\n",
       "    <tr>\n",
       "      <th>4</th>\n",
       "      <td>IND</td>\n",
       "      <td>India</td>\n",
       "      <td>AKALTARA TPP</td>\n",
       "      <td>IND0000002</td>\n",
       "      <td>1800.0</td>\n",
       "      <td>Coal</td>\n",
       "      <td>Central Electricity Authority</td>\n",
       "    </tr>\n",
       "    <tr>\n",
       "      <th>...</th>\n",
       "      <td>...</td>\n",
       "      <td>...</td>\n",
       "      <td>...</td>\n",
       "      <td>...</td>\n",
       "      <td>...</td>\n",
       "      <td>...</td>\n",
       "      <td>...</td>\n",
       "    </tr>\n",
       "    <tr>\n",
       "      <th>902</th>\n",
       "      <td>IND</td>\n",
       "      <td>India</td>\n",
       "      <td>YERMARUS TPP</td>\n",
       "      <td>IND0000513</td>\n",
       "      <td>1600.0</td>\n",
       "      <td>Coal</td>\n",
       "      <td>Central Electricity Authority</td>\n",
       "    </tr>\n",
       "    <tr>\n",
       "      <th>903</th>\n",
       "      <td>IND</td>\n",
       "      <td>India</td>\n",
       "      <td>Yelesandra Solar Power Plant</td>\n",
       "      <td>WRI1026222</td>\n",
       "      <td>3.0</td>\n",
       "      <td>Solar</td>\n",
       "      <td>Karnataka Power Corporation Limited</td>\n",
       "    </tr>\n",
       "    <tr>\n",
       "      <th>904</th>\n",
       "      <td>IND</td>\n",
       "      <td>India</td>\n",
       "      <td>Yelisirur wind power project</td>\n",
       "      <td>WRI1026776</td>\n",
       "      <td>25.5</td>\n",
       "      <td>Wind</td>\n",
       "      <td>CDM</td>\n",
       "    </tr>\n",
       "    <tr>\n",
       "      <th>905</th>\n",
       "      <td>IND</td>\n",
       "      <td>India</td>\n",
       "      <td>ZAWAR MINES</td>\n",
       "      <td>WRI1019901</td>\n",
       "      <td>80.0</td>\n",
       "      <td>Coal</td>\n",
       "      <td>Hindustan Zinc ltd</td>\n",
       "    </tr>\n",
       "    <tr>\n",
       "      <th>906</th>\n",
       "      <td>IND</td>\n",
       "      <td>India</td>\n",
       "      <td>iEnergy Theni Wind Farm</td>\n",
       "      <td>WRI1026761</td>\n",
       "      <td>16.5</td>\n",
       "      <td>Wind</td>\n",
       "      <td>CDM</td>\n",
       "    </tr>\n",
       "  </tbody>\n",
       "</table>\n",
       "<p>907 rows × 7 columns</p>\n",
       "</div>"
      ],
      "text/plain": [
       "    country country_long                          name   gppd_idnr  \\\n",
       "0       IND        India              ACME Solar Tower  WRI1020239   \n",
       "1       IND        India           ADITYA CEMENT WORKS  WRI1019881   \n",
       "2       IND        India      AES Saurashtra Windfarms  WRI1026669   \n",
       "3       IND        India                   AGARTALA GT  IND0000001   \n",
       "4       IND        India                  AKALTARA TPP  IND0000002   \n",
       "..      ...          ...                           ...         ...   \n",
       "902     IND        India                  YERMARUS TPP  IND0000513   \n",
       "903     IND        India  Yelesandra Solar Power Plant  WRI1026222   \n",
       "904     IND        India  Yelisirur wind power project  WRI1026776   \n",
       "905     IND        India                   ZAWAR MINES  WRI1019901   \n",
       "906     IND        India       iEnergy Theni Wind Farm  WRI1026761   \n",
       "\n",
       "     capacity_mw primary_fuel                                source  \n",
       "0            2.5        Solar  National Renewable Energy Laboratory  \n",
       "1           98.0         Coal                  Ultratech Cement ltd  \n",
       "2           39.2         Wind                                   CDM  \n",
       "3          135.0          Gas         Central Electricity Authority  \n",
       "4         1800.0         Coal         Central Electricity Authority  \n",
       "..           ...          ...                                   ...  \n",
       "902       1600.0         Coal         Central Electricity Authority  \n",
       "903          3.0        Solar   Karnataka Power Corporation Limited  \n",
       "904         25.5         Wind                                   CDM  \n",
       "905         80.0         Coal                    Hindustan Zinc ltd  \n",
       "906         16.5         Wind                                   CDM  \n",
       "\n",
       "[907 rows x 7 columns]"
      ]
     },
     "execution_count": 8,
     "metadata": {},
     "output_type": "execute_result"
    }
   ],
   "source": [
    "df"
   ]
  },
  {
   "cell_type": "code",
   "execution_count": 9,
   "id": "b7fbcea3",
   "metadata": {},
   "outputs": [
    {
     "data": {
      "text/plain": [
       "array(['Solar', 'Coal', 'Wind', 'Gas', 'Hydro', 'Biomass', 'Oil',\n",
       "       'Nuclear'], dtype=object)"
      ]
     },
     "execution_count": 9,
     "metadata": {},
     "output_type": "execute_result"
    }
   ],
   "source": [
    "df['primary_fuel'].unique()"
   ]
  },
  {
   "cell_type": "code",
   "execution_count": 10,
   "id": "29d4d0e5",
   "metadata": {},
   "outputs": [
    {
     "data": {
      "text/plain": [
       "country         0\n",
       "country_long    0\n",
       "name            0\n",
       "gppd_idnr       0\n",
       "capacity_mw     0\n",
       "primary_fuel    0\n",
       "source          0\n",
       "dtype: int64"
      ]
     },
     "execution_count": 10,
     "metadata": {},
     "output_type": "execute_result"
    }
   ],
   "source": [
    "df.isnull().sum()"
   ]
  },
  {
   "cell_type": "code",
   "execution_count": 11,
   "id": "049449a3",
   "metadata": {},
   "outputs": [
    {
     "data": {
      "text/html": [
       "<div>\n",
       "<style scoped>\n",
       "    .dataframe tbody tr th:only-of-type {\n",
       "        vertical-align: middle;\n",
       "    }\n",
       "\n",
       "    .dataframe tbody tr th {\n",
       "        vertical-align: top;\n",
       "    }\n",
       "\n",
       "    .dataframe thead th {\n",
       "        text-align: right;\n",
       "    }\n",
       "</style>\n",
       "<table border=\"1\" class=\"dataframe\">\n",
       "  <thead>\n",
       "    <tr style=\"text-align: right;\">\n",
       "      <th></th>\n",
       "      <th>capacity_mw</th>\n",
       "    </tr>\n",
       "  </thead>\n",
       "  <tbody>\n",
       "    <tr>\n",
       "      <th>count</th>\n",
       "      <td>907.000000</td>\n",
       "    </tr>\n",
       "    <tr>\n",
       "      <th>mean</th>\n",
       "      <td>326.223755</td>\n",
       "    </tr>\n",
       "    <tr>\n",
       "      <th>std</th>\n",
       "      <td>590.085456</td>\n",
       "    </tr>\n",
       "    <tr>\n",
       "      <th>min</th>\n",
       "      <td>0.000000</td>\n",
       "    </tr>\n",
       "    <tr>\n",
       "      <th>25%</th>\n",
       "      <td>16.725000</td>\n",
       "    </tr>\n",
       "    <tr>\n",
       "      <th>50%</th>\n",
       "      <td>59.200000</td>\n",
       "    </tr>\n",
       "    <tr>\n",
       "      <th>75%</th>\n",
       "      <td>385.250000</td>\n",
       "    </tr>\n",
       "    <tr>\n",
       "      <th>max</th>\n",
       "      <td>4760.000000</td>\n",
       "    </tr>\n",
       "  </tbody>\n",
       "</table>\n",
       "</div>"
      ],
      "text/plain": [
       "       capacity_mw\n",
       "count   907.000000\n",
       "mean    326.223755\n",
       "std     590.085456\n",
       "min       0.000000\n",
       "25%      16.725000\n",
       "50%      59.200000\n",
       "75%     385.250000\n",
       "max    4760.000000"
      ]
     },
     "execution_count": 11,
     "metadata": {},
     "output_type": "execute_result"
    }
   ],
   "source": [
    "df.describe()"
   ]
  },
  {
   "cell_type": "code",
   "execution_count": 12,
   "id": "332c5933",
   "metadata": {},
   "outputs": [
    {
     "data": {
      "text/plain": [
       "<AxesSubplot:xlabel='primary_fuel', ylabel='count'>"
      ]
     },
     "execution_count": 12,
     "metadata": {},
     "output_type": "execute_result"
    },
    {
     "data": {
      "image/png": "[encoded data removed]",
      "text/plain": [
       "<Figure size 432x288 with 1 Axes>"
      ]
     },
     "metadata": {
      "needs_background": "light"
     },
     "output_type": "display_data"
    }
   ],
   "source": [
    "sns.countplot(x=\"primary_fuel\", data=df)"
   ]
  },
  {
   "cell_type": "markdown",
   "id": "1acd974a",
   "metadata": {},
   "source": [
    "# EDA"
   ]
  },
  {
   "cell_type": "code",
   "execution_count": 13,
   "id": "991aa51e",
   "metadata": {},
   "outputs": [
    {
     "data": {
      "text/html": [
       "<div>\n",
       "<style scoped>\n",
       "    .dataframe tbody tr th:only-of-type {\n",
       "        vertical-align: middle;\n",
       "    }\n",
       "\n",
       "    .dataframe tbody tr th {\n",
       "        vertical-align: top;\n",
       "    }\n",
       "\n",
       "    .dataframe thead th {\n",
       "        text-align: right;\n",
       "    }\n",
       "</style>\n",
       "<table border=\"1\" class=\"dataframe\">\n",
       "  <thead>\n",
       "    <tr style=\"text-align: right;\">\n",
       "      <th></th>\n",
       "      <th>country</th>\n",
       "      <th>country_long</th>\n",
       "      <th>name</th>\n",
       "      <th>gppd_idnr</th>\n",
       "      <th>capacity_mw</th>\n",
       "      <th>primary_fuel</th>\n",
       "      <th>source</th>\n",
       "    </tr>\n",
       "  </thead>\n",
       "  <tbody>\n",
       "    <tr>\n",
       "      <th>0</th>\n",
       "      <td>IND</td>\n",
       "      <td>India</td>\n",
       "      <td>ACME Solar Tower</td>\n",
       "      <td>WRI1020239</td>\n",
       "      <td>2.5</td>\n",
       "      <td>Solar</td>\n",
       "      <td>National Renewable Energy Laboratory</td>\n",
       "    </tr>\n",
       "    <tr>\n",
       "      <th>1</th>\n",
       "      <td>IND</td>\n",
       "      <td>India</td>\n",
       "      <td>ADITYA CEMENT WORKS</td>\n",
       "      <td>WRI1019881</td>\n",
       "      <td>98.0</td>\n",
       "      <td>Coal</td>\n",
       "      <td>Ultratech Cement ltd</td>\n",
       "    </tr>\n",
       "    <tr>\n",
       "      <th>2</th>\n",
       "      <td>IND</td>\n",
       "      <td>India</td>\n",
       "      <td>AES Saurashtra Windfarms</td>\n",
       "      <td>WRI1026669</td>\n",
       "      <td>39.2</td>\n",
       "      <td>Wind</td>\n",
       "      <td>CDM</td>\n",
       "    </tr>\n",
       "    <tr>\n",
       "      <th>3</th>\n",
       "      <td>IND</td>\n",
       "      <td>India</td>\n",
       "      <td>AGARTALA GT</td>\n",
       "      <td>IND0000001</td>\n",
       "      <td>135.0</td>\n",
       "      <td>Gas</td>\n",
       "      <td>Central Electricity Authority</td>\n",
       "    </tr>\n",
       "    <tr>\n",
       "      <th>4</th>\n",
       "      <td>IND</td>\n",
       "      <td>India</td>\n",
       "      <td>AKALTARA TPP</td>\n",
       "      <td>IND0000002</td>\n",
       "      <td>1800.0</td>\n",
       "      <td>Coal</td>\n",
       "      <td>Central Electricity Authority</td>\n",
       "    </tr>\n",
       "  </tbody>\n",
       "</table>\n",
       "</div>"
      ],
      "text/plain": [
       "  country country_long                      name   gppd_idnr  capacity_mw  \\\n",
       "0     IND        India          ACME Solar Tower  WRI1020239          2.5   \n",
       "1     IND        India       ADITYA CEMENT WORKS  WRI1019881         98.0   \n",
       "2     IND        India  AES Saurashtra Windfarms  WRI1026669         39.2   \n",
       "3     IND        India               AGARTALA GT  IND0000001        135.0   \n",
       "4     IND        India              AKALTARA TPP  IND0000002       1800.0   \n",
       "\n",
       "  primary_fuel                                source  \n",
       "0        Solar  National Renewable Energy Laboratory  \n",
       "1         Coal                  Ultratech Cement ltd  \n",
       "2         Wind                                   CDM  \n",
       "3          Gas         Central Electricity Authority  \n",
       "4         Coal         Central Electricity Authority  "
      ]
     },
     "execution_count": 13,
     "metadata": {},
     "output_type": "execute_result"
    }
   ],
   "source": [
    "df.head()"
   ]
  },
  {
   "cell_type": "code",
   "execution_count": 14,
   "id": "7aea8479",
   "metadata": {},
   "outputs": [],
   "source": [
    "dfcorr=df.corr()"
   ]
  },
  {
   "cell_type": "code",
   "execution_count": 15,
   "id": "c26d1f37",
   "metadata": {},
   "outputs": [
    {
     "data": {
      "text/plain": [
       "<AxesSubplot:>"
      ]
     },
     "execution_count": 15,
     "metadata": {},
     "output_type": "execute_result"
    },
    {
     "data": {
      "image/png": "[encoded data removed]",
      "text/plain": [
       "<Figure size 432x288 with 2 Axes>"
      ]
     },
     "metadata": {
      "needs_background": "light"
     },
     "output_type": "display_data"
    }
   ],
   "source": [
    "sns.heatmap(dfcorr,annot=True, linewidth=1)"
   ]
  },
  {
   "cell_type": "code",
   "execution_count": 16,
   "id": "87214563",
   "metadata": {},
   "outputs": [
    {
     "data": {
      "text/plain": [
       "capacity_mw    1.0\n",
       "Name: capacity_mw, dtype: float64"
      ]
     },
     "execution_count": 16,
     "metadata": {},
     "output_type": "execute_result"
    }
   ],
   "source": [
    "dfcorr['capacity_mw'].sort_values()"
   ]
  },
  {
   "cell_type": "code",
   "execution_count": 17,
   "id": "879ce13b",
   "metadata": {},
   "outputs": [
    {
     "data": {
      "text/plain": [
       "Text(0.5, 1.0, 'primary_fuel')"
      ]
     },
     "execution_count": 17,
     "metadata": {},
     "output_type": "execute_result"
    },
    {
     "data": {
      "image/png": "[encoded data removed]",
      "text/plain": [
       "<Figure size 1080x576 with 1 Axes>"
      ]
     },
     "metadata": {},
     "output_type": "display_data"
    }
   ],
   "source": [
    "sns.set_theme(style=\"darkgrid\")\n",
    "plt.figure(figsize=(15,8))\n",
    "sns.countplot(df['primary_fuel'] )\n",
    "plt.xlabel('Count', fontsize=15 )\n",
    "plt.ylabel('primary_fuel', fontsize=15 )\n",
    "plt.title('primary_fuel', fontsize=15)"
   ]
  },
  {
   "cell_type": "markdown",
   "id": "a0b379f0",
   "metadata": {},
   "source": [
    "Here we can see, most of the power plants are using Coal and Hydro as the primary fuel.\n",
    "Coal having maximum counts, which indicates most of the power generation plant using coal af primary fuel.\n",
    "Use of solar and wind also considerable."
   ]
  },
  {
   "cell_type": "code",
   "execution_count": 18,
   "id": "c8a5ac00",
   "metadata": {},
   "outputs": [
    {
     "data": {
      "image/png": "[encoded data removed]",
      "text/plain": [
       "<Figure size 1080x432 with 1 Axes>"
      ]
     },
     "metadata": {},
     "output_type": "display_data"
    }
   ],
   "source": [
    "sns.set_theme(style=\"darkgrid\")\n",
    "plt.figure(figsize=(15,6))\n",
    "\n",
    "sns.distplot(df['capacity_mw'], color='red',kde_kws={\"color\": \"k\", \"lw\": 2.5, \"label\": \"KDE\"})\n",
    "plt.title('capacity_mw', fontsize=15)\n",
    "plt.xlabel('Capacity_mw', fontsize=15)\n",
    "plt.show()"
   ]
  },
  {
   "cell_type": "code",
   "execution_count": 19,
   "id": "9a170921",
   "metadata": {},
   "outputs": [
    {
     "data": {
      "image/png": "[encoded data removed]",
      "text/plain": [
       "<Figure size 720x504 with 1 Axes>"
      ]
     },
     "metadata": {},
     "output_type": "display_data"
    }
   ],
   "source": [
    "plt.figure(figsize=(10,7))\n",
    "sns.scatterplot(data=df, x='primary_fuel',y='capacity_mw')\n",
    "locs, labels = plt.xticks()\n",
    "plt.title('primary_fuel vs capacity_mw ', fontsize=15)\n",
    "plt.setp(labels, rotation=80)\n",
    "plt.show()"
   ]
  },
  {
   "cell_type": "markdown",
   "id": "491e2f85",
   "metadata": {},
   "source": [
    "# Multivariate analysis"
   ]
  },
  {
   "cell_type": "code",
   "execution_count": 20,
   "id": "a96b0bfd",
   "metadata": {},
   "outputs": [
    {
     "data": {
      "text/plain": [
       "<seaborn.axisgrid.PairGrid at 0x7fa7d3b460a0>"
      ]
     },
     "execution_count": 20,
     "metadata": {},
     "output_type": "execute_result"
    },
    {
     "data": {
      "image/png": "[encoded data removed]",
      "text/plain": [
       "<Figure size 180x180 with 2 Axes>"
      ]
     },
     "metadata": {},
     "output_type": "display_data"
    }
   ],
   "source": [
    "sns.pairplot(df)"
   ]
  },
  {
   "cell_type": "markdown",
   "id": "7df52066",
   "metadata": {},
   "source": [
    "# EDA Summary"
   ]
  },
  {
   "cell_type": "markdown",
   "id": "d9e4f84f",
   "metadata": {},
   "source": [
    "capacity_mw: we can see capacity is mostly dependent on Coal.\n",
    "\n",
    "primary_fuel: Mostly Coal is used as primary fuel."
   ]
  },
  {
   "cell_type": "code",
   "execution_count": 21,
   "id": "dfeba342",
   "metadata": {},
   "outputs": [
    {
     "data": {
      "text/html": [
       "<div>\n",
       "<style scoped>\n",
       "    .dataframe tbody tr th:only-of-type {\n",
       "        vertical-align: middle;\n",
       "    }\n",
       "\n",
       "    .dataframe tbody tr th {\n",
       "        vertical-align: top;\n",
       "    }\n",
       "\n",
       "    .dataframe thead th {\n",
       "        text-align: right;\n",
       "    }\n",
       "</style>\n",
       "<table border=\"1\" class=\"dataframe\">\n",
       "  <thead>\n",
       "    <tr style=\"text-align: right;\">\n",
       "      <th></th>\n",
       "      <th>country</th>\n",
       "      <th>country_long</th>\n",
       "      <th>name</th>\n",
       "      <th>gppd_idnr</th>\n",
       "      <th>capacity_mw</th>\n",
       "      <th>primary_fuel</th>\n",
       "      <th>source</th>\n",
       "    </tr>\n",
       "  </thead>\n",
       "  <tbody>\n",
       "    <tr>\n",
       "      <th>0</th>\n",
       "      <td>0</td>\n",
       "      <td>0</td>\n",
       "      <td>0</td>\n",
       "      <td>657</td>\n",
       "      <td>2.5</td>\n",
       "      <td>6</td>\n",
       "      <td>109</td>\n",
       "    </tr>\n",
       "    <tr>\n",
       "      <th>1</th>\n",
       "      <td>0</td>\n",
       "      <td>0</td>\n",
       "      <td>1</td>\n",
       "      <td>519</td>\n",
       "      <td>98.0</td>\n",
       "      <td>1</td>\n",
       "      <td>174</td>\n",
       "    </tr>\n",
       "    <tr>\n",
       "      <th>2</th>\n",
       "      <td>0</td>\n",
       "      <td>0</td>\n",
       "      <td>2</td>\n",
       "      <td>853</td>\n",
       "      <td>39.2</td>\n",
       "      <td>7</td>\n",
       "      <td>21</td>\n",
       "    </tr>\n",
       "    <tr>\n",
       "      <th>3</th>\n",
       "      <td>0</td>\n",
       "      <td>0</td>\n",
       "      <td>3</td>\n",
       "      <td>0</td>\n",
       "      <td>135.0</td>\n",
       "      <td>2</td>\n",
       "      <td>22</td>\n",
       "    </tr>\n",
       "    <tr>\n",
       "      <th>4</th>\n",
       "      <td>0</td>\n",
       "      <td>0</td>\n",
       "      <td>4</td>\n",
       "      <td>1</td>\n",
       "      <td>1800.0</td>\n",
       "      <td>1</td>\n",
       "      <td>22</td>\n",
       "    </tr>\n",
       "    <tr>\n",
       "      <th>...</th>\n",
       "      <td>...</td>\n",
       "      <td>...</td>\n",
       "      <td>...</td>\n",
       "      <td>...</td>\n",
       "      <td>...</td>\n",
       "      <td>...</td>\n",
       "      <td>...</td>\n",
       "    </tr>\n",
       "    <tr>\n",
       "      <th>902</th>\n",
       "      <td>0</td>\n",
       "      <td>0</td>\n",
       "      <td>902</td>\n",
       "      <td>491</td>\n",
       "      <td>1600.0</td>\n",
       "      <td>1</td>\n",
       "      <td>22</td>\n",
       "    </tr>\n",
       "    <tr>\n",
       "      <th>903</th>\n",
       "      <td>0</td>\n",
       "      <td>0</td>\n",
       "      <td>903</td>\n",
       "      <td>822</td>\n",
       "      <td>3.0</td>\n",
       "      <td>6</td>\n",
       "      <td>77</td>\n",
       "    </tr>\n",
       "    <tr>\n",
       "      <th>904</th>\n",
       "      <td>0</td>\n",
       "      <td>0</td>\n",
       "      <td>904</td>\n",
       "      <td>891</td>\n",
       "      <td>25.5</td>\n",
       "      <td>7</td>\n",
       "      <td>21</td>\n",
       "    </tr>\n",
       "    <tr>\n",
       "      <th>905</th>\n",
       "      <td>0</td>\n",
       "      <td>0</td>\n",
       "      <td>905</td>\n",
       "      <td>539</td>\n",
       "      <td>80.0</td>\n",
       "      <td>1</td>\n",
       "      <td>59</td>\n",
       "    </tr>\n",
       "    <tr>\n",
       "      <th>906</th>\n",
       "      <td>0</td>\n",
       "      <td>0</td>\n",
       "      <td>906</td>\n",
       "      <td>876</td>\n",
       "      <td>16.5</td>\n",
       "      <td>7</td>\n",
       "      <td>21</td>\n",
       "    </tr>\n",
       "  </tbody>\n",
       "</table>\n",
       "<p>907 rows × 7 columns</p>\n",
       "</div>"
      ],
      "text/plain": [
       "     country  country_long  name  gppd_idnr  capacity_mw  primary_fuel  source\n",
       "0          0             0     0        657          2.5             6     109\n",
       "1          0             0     1        519         98.0             1     174\n",
       "2          0             0     2        853         39.2             7      21\n",
       "3          0             0     3          0        135.0             2      22\n",
       "4          0             0     4          1       1800.0             1      22\n",
       "..       ...           ...   ...        ...          ...           ...     ...\n",
       "902        0             0   902        491       1600.0             1      22\n",
       "903        0             0   903        822          3.0             6      77\n",
       "904        0             0   904        891         25.5             7      21\n",
       "905        0             0   905        539         80.0             1      59\n",
       "906        0             0   906        876         16.5             7      21\n",
       "\n",
       "[907 rows x 7 columns]"
      ]
     },
     "execution_count": 21,
     "metadata": {},
     "output_type": "execute_result"
    }
   ],
   "source": [
    "from sklearn.preprocessing import LabelEncoder\n",
    "le=LabelEncoder()\n",
    "\n",
    "list1= ['country','country_long','name','gppd_idnr','primary_fuel','source']\n",
    "\n",
    "for val in list1:\n",
    "    df[val]=le.fit_transform(df[val].astype(str))\n",
    "    \n",
    "df"
   ]
  },
  {
   "cell_type": "code",
   "execution_count": 22,
   "id": "7b35f590",
   "metadata": {},
   "outputs": [
    {
     "data": {
      "text/plain": [
       "country         0.000000\n",
       "country_long    0.000000\n",
       "name            0.000000\n",
       "gppd_idnr       0.000000\n",
       "capacity_mw     3.123576\n",
       "primary_fuel    0.472251\n",
       "source          1.827373\n",
       "dtype: float64"
      ]
     },
     "execution_count": 22,
     "metadata": {},
     "output_type": "execute_result"
    }
   ],
   "source": [
    "df.skew()"
   ]
  },
  {
   "cell_type": "markdown",
   "id": "4c415be7",
   "metadata": {},
   "source": [
    "# zscore method"
   ]
  },
  {
   "cell_type": "code",
   "execution_count": 23,
   "id": "976ea53f",
   "metadata": {},
   "outputs": [],
   "source": [
    "from scipy.stats import zscore\n",
    "from scipy import stats"
   ]
  },
  {
   "cell_type": "code",
   "execution_count": 24,
   "id": "52773029",
   "metadata": {},
   "outputs": [],
   "source": [
    "z=np.abs(zscore(df))\n",
    "threshold = 3\n",
    "np.where(z>3)\n",
    "a=np.array(z)"
   ]
  },
  {
   "cell_type": "code",
   "execution_count": 25,
   "id": "cff59591",
   "metadata": {},
   "outputs": [
    {
     "data": {
      "text/plain": [
       "array([[       nan,        nan, 1.73014221, ..., 0.54890755, 1.22568762,\n",
       "        1.46021461],\n",
       "       [       nan,        nan, 1.72632291, ..., 0.38697729, 0.96787724,\n",
       "        2.91701919],\n",
       "       [       nan,        nan, 1.72250361, ..., 0.48667885, 1.66440059,\n",
       "        0.51207465],\n",
       "       ...,\n",
       "       [       nan,        nan, 1.72250361, ..., 0.50990864, 1.66440059,\n",
       "        0.51207465],\n",
       "       [       nan,        nan, 1.72632291, ..., 0.41749818, 0.96787724,\n",
       "        0.33959571],\n",
       "       [       nan,        nan, 1.73014221, ..., 0.52516908, 1.66440059,\n",
       "        0.51207465]])"
      ]
     },
     "execution_count": 25,
     "metadata": {},
     "output_type": "execute_result"
    }
   ],
   "source": [
    "a"
   ]
  },
  {
   "cell_type": "code",
   "execution_count": 26,
   "id": "96a1729c",
   "metadata": {},
   "outputs": [
    {
     "data": {
      "text/html": [
       "<div>\n",
       "<style scoped>\n",
       "    .dataframe tbody tr th:only-of-type {\n",
       "        vertical-align: middle;\n",
       "    }\n",
       "\n",
       "    .dataframe tbody tr th {\n",
       "        vertical-align: top;\n",
       "    }\n",
       "\n",
       "    .dataframe thead th {\n",
       "        text-align: right;\n",
       "    }\n",
       "</style>\n",
       "<table border=\"1\" class=\"dataframe\">\n",
       "  <thead>\n",
       "    <tr style=\"text-align: right;\">\n",
       "      <th></th>\n",
       "      <th>country</th>\n",
       "      <th>country_long</th>\n",
       "      <th>gppd_idnr</th>\n",
       "      <th>capacity_mw</th>\n",
       "      <th>primary_fuel</th>\n",
       "      <th>source</th>\n",
       "    </tr>\n",
       "  </thead>\n",
       "  <tbody>\n",
       "    <tr>\n",
       "      <th>0</th>\n",
       "      <td>0</td>\n",
       "      <td>0</td>\n",
       "      <td>657</td>\n",
       "      <td>2.5</td>\n",
       "      <td>6</td>\n",
       "      <td>109</td>\n",
       "    </tr>\n",
       "    <tr>\n",
       "      <th>1</th>\n",
       "      <td>0</td>\n",
       "      <td>0</td>\n",
       "      <td>519</td>\n",
       "      <td>98.0</td>\n",
       "      <td>1</td>\n",
       "      <td>174</td>\n",
       "    </tr>\n",
       "    <tr>\n",
       "      <th>2</th>\n",
       "      <td>0</td>\n",
       "      <td>0</td>\n",
       "      <td>853</td>\n",
       "      <td>39.2</td>\n",
       "      <td>7</td>\n",
       "      <td>21</td>\n",
       "    </tr>\n",
       "    <tr>\n",
       "      <th>3</th>\n",
       "      <td>0</td>\n",
       "      <td>0</td>\n",
       "      <td>0</td>\n",
       "      <td>135.0</td>\n",
       "      <td>2</td>\n",
       "      <td>22</td>\n",
       "    </tr>\n",
       "    <tr>\n",
       "      <th>4</th>\n",
       "      <td>0</td>\n",
       "      <td>0</td>\n",
       "      <td>1</td>\n",
       "      <td>1800.0</td>\n",
       "      <td>1</td>\n",
       "      <td>22</td>\n",
       "    </tr>\n",
       "    <tr>\n",
       "      <th>...</th>\n",
       "      <td>...</td>\n",
       "      <td>...</td>\n",
       "      <td>...</td>\n",
       "      <td>...</td>\n",
       "      <td>...</td>\n",
       "      <td>...</td>\n",
       "    </tr>\n",
       "    <tr>\n",
       "      <th>902</th>\n",
       "      <td>0</td>\n",
       "      <td>0</td>\n",
       "      <td>491</td>\n",
       "      <td>1600.0</td>\n",
       "      <td>1</td>\n",
       "      <td>22</td>\n",
       "    </tr>\n",
       "    <tr>\n",
       "      <th>903</th>\n",
       "      <td>0</td>\n",
       "      <td>0</td>\n",
       "      <td>822</td>\n",
       "      <td>3.0</td>\n",
       "      <td>6</td>\n",
       "      <td>77</td>\n",
       "    </tr>\n",
       "    <tr>\n",
       "      <th>904</th>\n",
       "      <td>0</td>\n",
       "      <td>0</td>\n",
       "      <td>891</td>\n",
       "      <td>25.5</td>\n",
       "      <td>7</td>\n",
       "      <td>21</td>\n",
       "    </tr>\n",
       "    <tr>\n",
       "      <th>905</th>\n",
       "      <td>0</td>\n",
       "      <td>0</td>\n",
       "      <td>539</td>\n",
       "      <td>80.0</td>\n",
       "      <td>1</td>\n",
       "      <td>59</td>\n",
       "    </tr>\n",
       "    <tr>\n",
       "      <th>906</th>\n",
       "      <td>0</td>\n",
       "      <td>0</td>\n",
       "      <td>876</td>\n",
       "      <td>16.5</td>\n",
       "      <td>7</td>\n",
       "      <td>21</td>\n",
       "    </tr>\n",
       "  </tbody>\n",
       "</table>\n",
       "<p>907 rows × 6 columns</p>\n",
       "</div>"
      ],
      "text/plain": [
       "     country  country_long  gppd_idnr  capacity_mw  primary_fuel  source\n",
       "0          0             0        657          2.5             6     109\n",
       "1          0             0        519         98.0             1     174\n",
       "2          0             0        853         39.2             7      21\n",
       "3          0             0          0        135.0             2      22\n",
       "4          0             0          1       1800.0             1      22\n",
       "..       ...           ...        ...          ...           ...     ...\n",
       "902        0             0        491       1600.0             1      22\n",
       "903        0             0        822          3.0             6      77\n",
       "904        0             0        891         25.5             7      21\n",
       "905        0             0        539         80.0             1      59\n",
       "906        0             0        876         16.5             7      21\n",
       "\n",
       "[907 rows x 6 columns]"
      ]
     },
     "execution_count": 26,
     "metadata": {},
     "output_type": "execute_result"
    }
   ],
   "source": [
    "df.drop('name',inplace=True,axis=1)\n",
    "df"
   ]
  },
  {
   "cell_type": "code",
   "execution_count": 27,
   "id": "7ffe7d7b",
   "metadata": {},
   "outputs": [],
   "source": [
    "x=df.drop(\"primary_fuel\", axis=1)\n",
    "y=df[\"primary_fuel\"]"
   ]
  },
  {
   "cell_type": "markdown",
   "id": "4b1565b8",
   "metadata": {},
   "source": [
    "# Multicollinearity"
   ]
  },
  {
   "cell_type": "code",
   "execution_count": 28,
   "id": "eb9cb624",
   "metadata": {},
   "outputs": [],
   "source": [
    "from statsmodels.stats.outliers_influence import variance_inflation_factor"
   ]
  },
  {
   "cell_type": "code",
   "execution_count": 29,
   "id": "715a1537",
   "metadata": {},
   "outputs": [
    {
     "data": {
      "text/html": [
       "<div>\n",
       "<style scoped>\n",
       "    .dataframe tbody tr th:only-of-type {\n",
       "        vertical-align: middle;\n",
       "    }\n",
       "\n",
       "    .dataframe tbody tr th {\n",
       "        vertical-align: top;\n",
       "    }\n",
       "\n",
       "    .dataframe thead th {\n",
       "        text-align: right;\n",
       "    }\n",
       "</style>\n",
       "<table border=\"1\" class=\"dataframe\">\n",
       "  <thead>\n",
       "    <tr style=\"text-align: right;\">\n",
       "      <th></th>\n",
       "      <th>Features List</th>\n",
       "      <th>VIF Value</th>\n",
       "    </tr>\n",
       "  </thead>\n",
       "  <tbody>\n",
       "    <tr>\n",
       "      <th>0</th>\n",
       "      <td>country</td>\n",
       "      <td>NaN</td>\n",
       "    </tr>\n",
       "    <tr>\n",
       "      <th>1</th>\n",
       "      <td>country_long</td>\n",
       "      <td>NaN</td>\n",
       "    </tr>\n",
       "    <tr>\n",
       "      <th>2</th>\n",
       "      <td>gppd_idnr</td>\n",
       "      <td>2.428473</td>\n",
       "    </tr>\n",
       "    <tr>\n",
       "      <th>3</th>\n",
       "      <td>capacity_mw</td>\n",
       "      <td>1.080747</td>\n",
       "    </tr>\n",
       "    <tr>\n",
       "      <th>4</th>\n",
       "      <td>source</td>\n",
       "      <td>2.331271</td>\n",
       "    </tr>\n",
       "  </tbody>\n",
       "</table>\n",
       "</div>"
      ],
      "text/plain": [
       "  Features List  VIF Value\n",
       "0       country        NaN\n",
       "1  country_long        NaN\n",
       "2     gppd_idnr   2.428473\n",
       "3   capacity_mw   1.080747\n",
       "4        source   2.331271"
      ]
     },
     "execution_count": 29,
     "metadata": {},
     "output_type": "execute_result"
    }
   ],
   "source": [
    "vif = pd.DataFrame()\n",
    "vif[\"Features List\"]=x.columns\n",
    "vif[\"VIF Value\"]=[variance_inflation_factor(x.values, i)\n",
    "                          for i in range(len(x.columns))]\n",
    "vif"
   ]
  },
  {
   "cell_type": "code",
   "execution_count": 30,
   "id": "4bca0442",
   "metadata": {},
   "outputs": [
    {
     "data": {
      "image/png": "[encoded data removed]",
      "text/plain": [
       "<Figure size 1296x1440 with 6 Axes>"
      ]
     },
     "metadata": {},
     "output_type": "display_data"
    }
   ],
   "source": [
    "plt.figure(figsize=(18,20))\n",
    "for i in enumerate(df):\n",
    "    plt.subplot(8,4,i[0]+1)\n",
    "    sns.distplot(df[i[1]],color='g')"
   ]
  },
  {
   "cell_type": "code",
   "execution_count": 31,
   "id": "0518e69f",
   "metadata": {},
   "outputs": [
    {
     "data": {
      "text/plain": [
       "country         0.000000\n",
       "country_long    0.000000\n",
       "gppd_idnr       0.000000\n",
       "capacity_mw     3.123576\n",
       "primary_fuel    0.472251\n",
       "source          1.827373\n",
       "dtype: float64"
      ]
     },
     "execution_count": 31,
     "metadata": {},
     "output_type": "execute_result"
    }
   ],
   "source": [
    "df.skew()"
   ]
  },
  {
   "cell_type": "markdown",
   "id": "0e7f90a5",
   "metadata": {},
   "source": [
    "skewness more than+/- 0.5 will we treated\n",
    "\n",
    "object columns will no be treated"
   ]
  },
  {
   "cell_type": "markdown",
   "id": "533b70e5",
   "metadata": {},
   "source": [
    "# power transform"
   ]
  },
  {
   "cell_type": "code",
   "execution_count": 32,
   "id": "9571fd79",
   "metadata": {},
   "outputs": [],
   "source": [
    "from sklearn.preprocessing import power_transform\n",
    "\n",
    "df[['capacity_mw','source']]=power_transform(df[['capacity_mw','source']])"
   ]
  },
  {
   "cell_type": "code",
   "execution_count": 33,
   "id": "f212f5dd",
   "metadata": {},
   "outputs": [
    {
     "data": {
      "text/plain": [
       "country         0.000000\n",
       "country_long    0.000000\n",
       "gppd_idnr       0.000000\n",
       "capacity_mw     0.022164\n",
       "primary_fuel    0.472251\n",
       "source         -0.214066\n",
       "dtype: float64"
      ]
     },
     "execution_count": 33,
     "metadata": {},
     "output_type": "execute_result"
    }
   ],
   "source": [
    "df.skew()"
   ]
  },
  {
   "cell_type": "code",
   "execution_count": 34,
   "id": "362fc9a1",
   "metadata": {},
   "outputs": [
    {
     "data": {
      "text/plain": [
       "country         0\n",
       "country_long    0\n",
       "gppd_idnr       0\n",
       "capacity_mw     0\n",
       "primary_fuel    0\n",
       "source          0\n",
       "dtype: int64"
      ]
     },
     "execution_count": 34,
     "metadata": {},
     "output_type": "execute_result"
    }
   ],
   "source": [
    "pd.DataFrame(df).isnull().sum()"
   ]
  },
  {
   "cell_type": "code",
   "execution_count": 35,
   "id": "122bc4d0",
   "metadata": {},
   "outputs": [],
   "source": [
    "x=df.drop(['capacity_mw'],axis=1)\n",
    "y=df['capacity_mw']"
   ]
  },
  {
   "cell_type": "code",
   "execution_count": 36,
   "id": "ab78caec",
   "metadata": {},
   "outputs": [
    {
     "data": {
      "text/plain": [
       "(907, 5)"
      ]
     },
     "execution_count": 36,
     "metadata": {},
     "output_type": "execute_result"
    }
   ],
   "source": [
    "x.shape"
   ]
  },
  {
   "cell_type": "code",
   "execution_count": 37,
   "id": "d2da766a",
   "metadata": {},
   "outputs": [
    {
     "data": {
      "text/plain": [
       "(907,)"
      ]
     },
     "execution_count": 37,
     "metadata": {},
     "output_type": "execute_result"
    }
   ],
   "source": [
    "y.shape"
   ]
  },
  {
   "cell_type": "markdown",
   "id": "f8057e8e",
   "metadata": {},
   "source": [
    "# Min Max Scaler"
   ]
  },
  {
   "cell_type": "code",
   "execution_count": 38,
   "id": "d4e4884a",
   "metadata": {},
   "outputs": [],
   "source": [
    "from sklearn.preprocessing import MinMaxScaler\n",
    "\n",
    "sc=MinMaxScaler()\n",
    "x=sc.fit_transform(x)"
   ]
  },
  {
   "cell_type": "code",
   "execution_count": 39,
   "id": "fbda97cc",
   "metadata": {},
   "outputs": [
    {
     "data": {
      "text/html": [
       "<div>\n",
       "<style scoped>\n",
       "    .dataframe tbody tr th:only-of-type {\n",
       "        vertical-align: middle;\n",
       "    }\n",
       "\n",
       "    .dataframe tbody tr th {\n",
       "        vertical-align: top;\n",
       "    }\n",
       "\n",
       "    .dataframe thead th {\n",
       "        text-align: right;\n",
       "    }\n",
       "</style>\n",
       "<table border=\"1\" class=\"dataframe\">\n",
       "  <thead>\n",
       "    <tr style=\"text-align: right;\">\n",
       "      <th></th>\n",
       "      <th>0</th>\n",
       "      <th>1</th>\n",
       "      <th>2</th>\n",
       "      <th>3</th>\n",
       "      <th>4</th>\n",
       "    </tr>\n",
       "  </thead>\n",
       "  <tbody>\n",
       "    <tr>\n",
       "      <th>count</th>\n",
       "      <td>907.0</td>\n",
       "      <td>907.0</td>\n",
       "      <td>907.000000</td>\n",
       "      <td>907.000000</td>\n",
       "      <td>907.000000</td>\n",
       "    </tr>\n",
       "    <tr>\n",
       "      <th>mean</th>\n",
       "      <td>0.0</td>\n",
       "      <td>0.0</td>\n",
       "      <td>0.500000</td>\n",
       "      <td>0.458025</td>\n",
       "      <td>0.785105</td>\n",
       "    </tr>\n",
       "    <tr>\n",
       "      <th>std</th>\n",
       "      <td>0.0</td>\n",
       "      <td>0.0</td>\n",
       "      <td>0.289153</td>\n",
       "      <td>0.325807</td>\n",
       "      <td>0.101595</td>\n",
       "    </tr>\n",
       "    <tr>\n",
       "      <th>min</th>\n",
       "      <td>0.0</td>\n",
       "      <td>0.0</td>\n",
       "      <td>0.000000</td>\n",
       "      <td>0.000000</td>\n",
       "      <td>0.000000</td>\n",
       "    </tr>\n",
       "    <tr>\n",
       "      <th>25%</th>\n",
       "      <td>0.0</td>\n",
       "      <td>0.0</td>\n",
       "      <td>0.250000</td>\n",
       "      <td>0.142857</td>\n",
       "      <td>0.744160</td>\n",
       "    </tr>\n",
       "    <tr>\n",
       "      <th>50%</th>\n",
       "      <td>0.0</td>\n",
       "      <td>0.0</td>\n",
       "      <td>0.500000</td>\n",
       "      <td>0.428571</td>\n",
       "      <td>0.744160</td>\n",
       "    </tr>\n",
       "    <tr>\n",
       "      <th>75%</th>\n",
       "      <td>0.0</td>\n",
       "      <td>0.0</td>\n",
       "      <td>0.750000</td>\n",
       "      <td>0.857143</td>\n",
       "      <td>0.786608</td>\n",
       "    </tr>\n",
       "    <tr>\n",
       "      <th>max</th>\n",
       "      <td>0.0</td>\n",
       "      <td>0.0</td>\n",
       "      <td>1.000000</td>\n",
       "      <td>1.000000</td>\n",
       "      <td>1.000000</td>\n",
       "    </tr>\n",
       "  </tbody>\n",
       "</table>\n",
       "</div>"
      ],
      "text/plain": [
       "           0      1           2           3           4\n",
       "count  907.0  907.0  907.000000  907.000000  907.000000\n",
       "mean     0.0    0.0    0.500000    0.458025    0.785105\n",
       "std      0.0    0.0    0.289153    0.325807    0.101595\n",
       "min      0.0    0.0    0.000000    0.000000    0.000000\n",
       "25%      0.0    0.0    0.250000    0.142857    0.744160\n",
       "50%      0.0    0.0    0.500000    0.428571    0.744160\n",
       "75%      0.0    0.0    0.750000    0.857143    0.786608\n",
       "max      0.0    0.0    1.000000    1.000000    1.000000"
      ]
     },
     "execution_count": 39,
     "metadata": {},
     "output_type": "execute_result"
    }
   ],
   "source": [
    "pd.DataFrame(x).describe()"
   ]
  },
  {
   "cell_type": "markdown",
   "id": "397597de",
   "metadata": {},
   "source": [
    "data have been scalled"
   ]
  },
  {
   "cell_type": "code",
   "execution_count": 40,
   "id": "82104d59",
   "metadata": {},
   "outputs": [],
   "source": [
    "from sklearn.model_selection import train_test_split\n",
    "from sklearn.naive_bayes import GaussianNB\n",
    "from sklearn.naive_bayes import MultinomialNB\n",
    "from sklearn.metrics import accuracy_score,confusion_matrix,classification_report\n",
    "from sklearn.metrics import r2_score\n",
    "from sklearn.metrics import mean_squared_error,mean_absolute_error\n",
    "import warnings\n",
    "warnings.filterwarnings('ignore')"
   ]
  },
  {
   "cell_type": "markdown",
   "id": "3038b367",
   "metadata": {},
   "source": [
    "# Linear Regression"
   ]
  },
  {
   "cell_type": "code",
   "execution_count": 41,
   "id": "e1f153bb",
   "metadata": {},
   "outputs": [
    {
     "name": "stdout",
     "output_type": "stream",
     "text": [
      "At random state 0, The training accuracy is: 0.41931394489479756\n",
      "At random state 0, The test accuracy is: 0.43655056621954114\n",
      "\n",
      "\n",
      "At random state 1, The training accuracy is: 0.43360203862279234\n",
      "At random state 1, The test accuracy is: 0.3721873289464164\n",
      "\n",
      "\n",
      "At random state 2, The training accuracy is: 0.4234383948499546\n",
      "At random state 2, The test accuracy is: 0.4159802321239301\n",
      "\n",
      "\n",
      "At random state 3, The training accuracy is: 0.4390263419382947\n",
      "At random state 3, The test accuracy is: 0.35956294707310865\n",
      "\n",
      "\n",
      "At random state 4, The training accuracy is: 0.4500112505369137\n",
      "At random state 4, The test accuracy is: 0.2908116388195947\n",
      "\n",
      "\n",
      "At random state 5, The training accuracy is: 0.4144037117652528\n",
      "At random state 5, The test accuracy is: 0.4503035774932195\n",
      "\n",
      "\n",
      "At random state 6, The training accuracy is: 0.4243552449317528\n",
      "At random state 6, The test accuracy is: 0.4132075762489442\n",
      "\n",
      "\n",
      "At random state 7, The training accuracy is: 0.4194666132797894\n",
      "At random state 7, The test accuracy is: 0.43530273235423844\n",
      "\n",
      "\n",
      "At random state 8, The training accuracy is: 0.4203738486712897\n",
      "At random state 8, The test accuracy is: 0.43197878811556545\n",
      "\n",
      "\n",
      "At random state 9, The training accuracy is: 0.4082957046797193\n",
      "At random state 9, The test accuracy is: 0.46419234802982867\n",
      "\n",
      "\n",
      "At random state 10, The training accuracy is: 0.41005994611760654\n",
      "At random state 10, The test accuracy is: 0.4740590585409846\n",
      "\n",
      "\n",
      "At random state 11, The training accuracy is: 0.42021369119893226\n",
      "At random state 11, The test accuracy is: 0.4347238964259845\n",
      "\n",
      "\n",
      "At random state 12, The training accuracy is: 0.4211194460564218\n",
      "At random state 12, The test accuracy is: 0.43072308012498794\n",
      "\n",
      "\n",
      "At random state 13, The training accuracy is: 0.4211705328286648\n",
      "At random state 13, The test accuracy is: 0.4306701601659184\n",
      "\n",
      "\n",
      "At random state 14, The training accuracy is: 0.4293002044588613\n",
      "At random state 14, The test accuracy is: 0.396742239474533\n",
      "\n",
      "\n",
      "At random state 15, The training accuracy is: 0.4174992214472042\n",
      "At random state 15, The test accuracy is: 0.4380590405255117\n",
      "\n",
      "\n",
      "At random state 16, The training accuracy is: 0.4376721025868886\n",
      "At random state 16, The test accuracy is: 0.3560546946444133\n",
      "\n",
      "\n",
      "At random state 17, The training accuracy is: 0.42349450006745015\n",
      "At random state 17, The test accuracy is: 0.4219375996727135\n",
      "\n",
      "\n",
      "At random state 18, The training accuracy is: 0.4108700511936787\n",
      "At random state 18, The test accuracy is: 0.4715046484972968\n",
      "\n",
      "\n",
      "At random state 19, The training accuracy is: 0.4292578081989732\n",
      "At random state 19, The test accuracy is: 0.3957907487295331\n",
      "\n",
      "\n",
      "At random state 20, The training accuracy is: 0.41966493524680903\n",
      "At random state 20, The test accuracy is: 0.4285134069724028\n",
      "\n",
      "\n",
      "At random state 21, The training accuracy is: 0.4191382024397029\n",
      "At random state 21, The test accuracy is: 0.43216865104432955\n",
      "\n",
      "\n",
      "At random state 22, The training accuracy is: 0.4203050236754238\n",
      "At random state 22, The test accuracy is: 0.43334302052891904\n",
      "\n",
      "\n",
      "At random state 23, The training accuracy is: 0.4311631742491374\n",
      "At random state 23, The test accuracy is: 0.3831776830739019\n",
      "\n",
      "\n",
      "At random state 24, The training accuracy is: 0.42302993253367827\n",
      "At random state 24, The test accuracy is: 0.42119287408145034\n",
      "\n",
      "\n",
      "At random state 25, The training accuracy is: 0.4287287205816285\n",
      "At random state 25, The test accuracy is: 0.39256309440273207\n",
      "\n",
      "\n",
      "At random state 26, The training accuracy is: 0.43705038068799695\n",
      "At random state 26, The test accuracy is: 0.3623063282899698\n",
      "\n",
      "\n",
      "At random state 27, The training accuracy is: 0.4099788432978524\n",
      "At random state 27, The test accuracy is: 0.47300679925028244\n",
      "\n",
      "\n",
      "At random state 28, The training accuracy is: 0.43003541180706184\n",
      "At random state 28, The test accuracy is: 0.3948055611155181\n",
      "\n",
      "\n",
      "At random state 29, The training accuracy is: 0.4379916531495667\n",
      "At random state 29, The test accuracy is: 0.34854390486325015\n",
      "\n",
      "\n",
      "At random state 30, The training accuracy is: 0.43105498430251876\n",
      "At random state 30, The test accuracy is: 0.3855843790009186\n",
      "\n",
      "\n",
      "At random state 31, The training accuracy is: 0.4257309548330862\n",
      "At random state 31, The test accuracy is: 0.4071056371722136\n",
      "\n",
      "\n",
      "At random state 32, The training accuracy is: 0.4377299914418762\n",
      "At random state 32, The test accuracy is: 0.35491408565298566\n",
      "\n",
      "\n",
      "At random state 33, The training accuracy is: 0.41325617919419033\n",
      "At random state 33, The test accuracy is: 0.454642799279494\n",
      "\n",
      "\n",
      "At random state 34, The training accuracy is: 0.43625741573571086\n",
      "At random state 34, The test accuracy is: 0.3622581022368365\n",
      "\n",
      "\n",
      "At random state 35, The training accuracy is: 0.4116418146553362\n",
      "At random state 35, The test accuracy is: 0.465377842020811\n",
      "\n",
      "\n",
      "At random state 36, The training accuracy is: 0.42841666091772623\n",
      "At random state 36, The test accuracy is: 0.39522354350938216\n",
      "\n",
      "\n",
      "At random state 37, The training accuracy is: 0.3904621667024094\n",
      "At random state 37, The test accuracy is: 0.5293114110978159\n",
      "\n",
      "\n",
      "At random state 38, The training accuracy is: 0.45419500914095545\n",
      "At random state 38, The test accuracy is: 0.2796363090934837\n",
      "\n",
      "\n",
      "At random state 39, The training accuracy is: 0.4153463162541886\n",
      "At random state 39, The test accuracy is: 0.44606950775896437\n",
      "\n",
      "\n",
      "At random state 40, The training accuracy is: 0.41261234263758284\n",
      "At random state 40, The test accuracy is: 0.4534787705347446\n",
      "\n",
      "\n",
      "At random state 41, The training accuracy is: 0.41332572967914183\n",
      "At random state 41, The test accuracy is: 0.4388325406612108\n",
      "\n",
      "\n",
      "At random state 42, The training accuracy is: 0.43596263599396834\n",
      "At random state 42, The test accuracy is: 0.34791539412675865\n",
      "\n",
      "\n",
      "At random state 43, The training accuracy is: 0.39963066028616134\n",
      "At random state 43, The test accuracy is: 0.5086630536111418\n",
      "\n",
      "\n",
      "At random state 44, The training accuracy is: 0.3942166751028062\n",
      "At random state 44, The test accuracy is: 0.5222242375814001\n",
      "\n",
      "\n",
      "At random state 45, The training accuracy is: 0.4351255374164058\n",
      "At random state 45, The test accuracy is: 0.3646134629635611\n",
      "\n",
      "\n",
      "At random state 46, The training accuracy is: 0.43163709549672946\n",
      "At random state 46, The test accuracy is: 0.38872950864843503\n",
      "\n",
      "\n",
      "At random state 47, The training accuracy is: 0.4295690015040965\n",
      "At random state 47, The test accuracy is: 0.3886863831078673\n",
      "\n",
      "\n",
      "At random state 48, The training accuracy is: 0.42708886693876713\n",
      "At random state 48, The test accuracy is: 0.40736902858810253\n",
      "\n",
      "\n",
      "At random state 49, The training accuracy is: 0.4200836149414371\n",
      "At random state 49, The test accuracy is: 0.42851493173380883\n",
      "\n",
      "\n",
      "At random state 50, The training accuracy is: 0.3971961278708531\n",
      "At random state 50, The test accuracy is: 0.5110118100912648\n",
      "\n",
      "\n",
      "At random state 51, The training accuracy is: 0.41120026653001396\n",
      "At random state 51, The test accuracy is: 0.4620285290957953\n",
      "\n",
      "\n",
      "At random state 52, The training accuracy is: 0.4201061098988138\n",
      "At random state 52, The test accuracy is: 0.43045094727849476\n",
      "\n",
      "\n",
      "At random state 53, The training accuracy is: 0.4263012874369698\n",
      "At random state 53, The test accuracy is: 0.4051409638966992\n",
      "\n",
      "\n",
      "At random state 54, The training accuracy is: 0.4279081068864774\n",
      "At random state 54, The test accuracy is: 0.39902825571168765\n",
      "\n",
      "\n",
      "At random state 55, The training accuracy is: 0.42222124092474456\n",
      "At random state 55, The test accuracy is: 0.4267643429162091\n",
      "\n",
      "\n",
      "At random state 56, The training accuracy is: 0.4523579657977702\n",
      "At random state 56, The test accuracy is: 0.30550111476019104\n",
      "\n",
      "\n",
      "At random state 57, The training accuracy is: 0.4171431818083925\n",
      "At random state 57, The test accuracy is: 0.43905476752114636\n",
      "\n",
      "\n",
      "At random state 58, The training accuracy is: 0.4328171947921432\n",
      "At random state 58, The test accuracy is: 0.3821016199594891\n",
      "\n",
      "\n",
      "At random state 59, The training accuracy is: 0.42330043700680486\n",
      "At random state 59, The test accuracy is: 0.4208399269872397\n",
      "\n",
      "\n",
      "At random state 60, The training accuracy is: 0.4274987446984563\n",
      "At random state 60, The test accuracy is: 0.3735921632232849\n",
      "\n",
      "\n",
      "At random state 61, The training accuracy is: 0.4226437577044041\n",
      "At random state 61, The test accuracy is: 0.4232881633669143\n",
      "\n",
      "\n",
      "At random state 62, The training accuracy is: 0.4371383942575896\n",
      "At random state 62, The test accuracy is: 0.36433048051984884\n",
      "\n",
      "\n",
      "At random state 63, The training accuracy is: 0.42944069418304043\n",
      "At random state 63, The test accuracy is: 0.39310168881406216\n",
      "\n",
      "\n",
      "At random state 64, The training accuracy is: 0.4042168016429376\n",
      "At random state 64, The test accuracy is: 0.4855934484990604\n",
      "\n",
      "\n",
      "At random state 65, The training accuracy is: 0.4302072540047638\n",
      "At random state 65, The test accuracy is: 0.39204614196146903\n",
      "\n",
      "\n",
      "At random state 66, The training accuracy is: 0.42549540744124537\n",
      "At random state 66, The test accuracy is: 0.4064300280517821\n",
      "\n",
      "\n",
      "At random state 67, The training accuracy is: 0.4575794381127555\n",
      "At random state 67, The test accuracy is: 0.2755225683842404\n",
      "\n",
      "\n",
      "At random state 68, The training accuracy is: 0.4190320835338126\n",
      "At random state 68, The test accuracy is: 0.4397888670268246\n",
      "\n",
      "\n",
      "At random state 69, The training accuracy is: 0.43396713652021757\n",
      "At random state 69, The test accuracy is: 0.37777309827469163\n",
      "\n",
      "\n",
      "At random state 70, The training accuracy is: 0.4131209851598231\n",
      "At random state 70, The test accuracy is: 0.4546803376381171\n",
      "\n",
      "\n",
      "At random state 71, The training accuracy is: 0.4276490195638609\n",
      "At random state 71, The test accuracy is: 0.4053699964107267\n",
      "\n",
      "\n",
      "At random state 72, The training accuracy is: 0.4232463146626321\n",
      "At random state 72, The test accuracy is: 0.4029039193264443\n",
      "\n",
      "\n",
      "At random state 73, The training accuracy is: 0.403501144924057\n",
      "At random state 73, The test accuracy is: 0.49825020649820007\n",
      "\n",
      "\n",
      "At random state 74, The training accuracy is: 0.42880695198483376\n",
      "At random state 74, The test accuracy is: 0.39305658581305636\n",
      "\n",
      "\n",
      "At random state 75, The training accuracy is: 0.44126318165088874\n",
      "At random state 75, The test accuracy is: 0.34244852625912103\n",
      "\n",
      "\n",
      "At random state 76, The training accuracy is: 0.43380241663755736\n",
      "At random state 76, The test accuracy is: 0.38051330749137835\n",
      "\n",
      "\n",
      "At random state 77, The training accuracy is: 0.4509859264765469\n",
      "At random state 77, The test accuracy is: 0.2700984676174042\n",
      "\n",
      "\n",
      "At random state 78, The training accuracy is: 0.4517273148598796\n",
      "At random state 78, The test accuracy is: 0.278493799431081\n",
      "\n",
      "\n",
      "At random state 79, The training accuracy is: 0.4212904362325356\n",
      "At random state 79, The test accuracy is: 0.425029106522559\n",
      "\n",
      "\n",
      "At random state 80, The training accuracy is: 0.41184639844168713\n",
      "At random state 80, The test accuracy is: 0.46640416468028045\n",
      "\n",
      "\n",
      "At random state 81, The training accuracy is: 0.43116250840825254\n",
      "At random state 81, The test accuracy is: 0.37314964691529073\n",
      "\n",
      "\n",
      "At random state 82, The training accuracy is: 0.44071127220372974\n",
      "At random state 82, The test accuracy is: 0.3446019198750123\n",
      "\n",
      "\n",
      "At random state 83, The training accuracy is: 0.43794000788616294\n",
      "At random state 83, The test accuracy is: 0.36159004831165753\n",
      "\n",
      "\n",
      "At random state 84, The training accuracy is: 0.42426318910250926\n",
      "At random state 84, The test accuracy is: 0.41286741931475057\n",
      "\n",
      "\n",
      "At random state 85, The training accuracy is: 0.41863083094775233\n",
      "At random state 85, The test accuracy is: 0.4411041694884734\n",
      "\n",
      "\n",
      "At random state 86, The training accuracy is: 0.42189161867647806\n",
      "At random state 86, The test accuracy is: 0.4237526264315512\n",
      "\n",
      "\n",
      "At random state 87, The training accuracy is: 0.42338137953184185\n",
      "At random state 87, The test accuracy is: 0.4125299925366458\n",
      "\n",
      "\n",
      "At random state 88, The training accuracy is: 0.4326766783209621\n",
      "At random state 88, The test accuracy is: 0.3785633884889016\n",
      "\n",
      "\n",
      "At random state 89, The training accuracy is: 0.43396232319864503\n",
      "At random state 89, The test accuracy is: 0.37683657859324016\n",
      "\n",
      "\n",
      "At random state 90, The training accuracy is: 0.3966103180218232\n",
      "At random state 90, The test accuracy is: 0.5094851063611947\n",
      "\n",
      "\n",
      "At random state 91, The training accuracy is: 0.41230400747966556\n",
      "At random state 91, The test accuracy is: 0.4631894910139943\n",
      "\n",
      "\n",
      "At random state 92, The training accuracy is: 0.39576002347253936\n",
      "At random state 92, The test accuracy is: 0.5134653064816634\n",
      "\n",
      "\n",
      "At random state 93, The training accuracy is: 0.4148293856205485\n",
      "At random state 93, The test accuracy is: 0.44500699000441335\n",
      "\n",
      "\n",
      "At random state 94, The training accuracy is: 0.4098185244553948\n",
      "At random state 94, The test accuracy is: 0.469513455182729\n",
      "\n",
      "\n",
      "At random state 95, The training accuracy is: 0.4287646195501781\n",
      "At random state 95, The test accuracy is: 0.39341296210702426\n",
      "\n",
      "\n",
      "At random state 96, The training accuracy is: 0.40809554833256234\n",
      "At random state 96, The test accuracy is: 0.47334934107842996\n",
      "\n",
      "\n",
      "At random state 97, The training accuracy is: 0.41655089486774277\n",
      "At random state 97, The test accuracy is: 0.4438491511856677\n",
      "\n",
      "\n",
      "At random state 98, The training accuracy is: 0.40680291250605694\n",
      "At random state 98, The test accuracy is: 0.4707329964281224\n",
      "\n",
      "\n",
      "At random state 99, The training accuracy is: 0.43901071509313505\n",
      "At random state 99, The test accuracy is: 0.3356815623554149\n",
      "\n",
      "\n"
     ]
    }
   ],
   "source": [
    "from sklearn.linear_model import LinearRegression\n",
    "\n",
    "\n",
    "LR=LinearRegression()\n",
    "\n",
    "for i in range(0,100):\n",
    "    x_train,x_test,y_train,y_test=train_test_split(x,y,test_size=0.2,random_state=i)\n",
    "    LR.fit(x_train,y_train)\n",
    "    LR_predict_train=LR.predict(x_train)\n",
    "    LR_predict_test=LR.predict(x_test)\n",
    "    print(f'At random state {i}, The training accuracy is: {r2_score(y_train,LR_predict_train)}')\n",
    "    print(f'At random state {i}, The test accuracy is: {r2_score(y_test,LR_predict_test)}')\n",
    "    print('\\n')"
   ]
  },
  {
   "cell_type": "code",
   "execution_count": 42,
   "id": "4c06d268",
   "metadata": {},
   "outputs": [],
   "source": [
    "#splitting the data into 73% training and 27% testing\n",
    "x_train,x_test,y_train,y_test=train_test_split(x,y,test_size=0.27,random_state=95)"
   ]
  },
  {
   "cell_type": "code",
   "execution_count": 43,
   "id": "af1e9e52",
   "metadata": {},
   "outputs": [
    {
     "data": {
      "text/plain": [
       "(662, 5)"
      ]
     },
     "execution_count": 43,
     "metadata": {},
     "output_type": "execute_result"
    }
   ],
   "source": [
    "x_train.shape"
   ]
  },
  {
   "cell_type": "code",
   "execution_count": 44,
   "id": "18d53d70",
   "metadata": {},
   "outputs": [
    {
     "data": {
      "text/plain": [
       "(245, 5)"
      ]
     },
     "execution_count": 44,
     "metadata": {},
     "output_type": "execute_result"
    }
   ],
   "source": [
    "x_test.shape"
   ]
  },
  {
   "cell_type": "code",
   "execution_count": 45,
   "id": "8ab8d862",
   "metadata": {},
   "outputs": [
    {
     "data": {
      "text/plain": [
       "(662,)"
      ]
     },
     "execution_count": 45,
     "metadata": {},
     "output_type": "execute_result"
    }
   ],
   "source": [
    "y_train.shape"
   ]
  },
  {
   "cell_type": "code",
   "execution_count": 46,
   "id": "f7178de7",
   "metadata": {},
   "outputs": [
    {
     "data": {
      "text/plain": [
       "(245,)"
      ]
     },
     "execution_count": 46,
     "metadata": {},
     "output_type": "execute_result"
    }
   ],
   "source": [
    "y_test.shape"
   ]
  },
  {
   "cell_type": "code",
   "execution_count": 47,
   "id": "cb497f0e",
   "metadata": {},
   "outputs": [
    {
     "name": "stdout",
     "output_type": "stream",
     "text": [
      "0.4210360107314891\n"
     ]
    }
   ],
   "source": [
    "from sklearn.linear_model import LinearRegression\n",
    "\n",
    "\n",
    "LR=LinearRegression()\n",
    "LR.fit(x_train,y_train)\n",
    "print(LR.score(x_train,y_train))\n",
    "LR_predict=LR.predict(x_test)\n"
   ]
  },
  {
   "cell_type": "code",
   "execution_count": 48,
   "id": "c1eb5b9a",
   "metadata": {},
   "outputs": [
    {
     "name": "stdout",
     "output_type": "stream",
     "text": [
      "MSE: 0.6123575241079641\n",
      "MAE: 0.6631901319844267\n",
      "r2_score: -0.5889381591295828\n"
     ]
    }
   ],
   "source": [
    "print('MSE:',mean_squared_error(LR_predict,y_test))\n",
    "print('MAE:',mean_absolute_error(LR_predict,y_test))\n",
    "print('r2_score:',r2_score(LR_predict,y_test))"
   ]
  },
  {
   "cell_type": "markdown",
   "id": "3cb34b1a",
   "metadata": {},
   "source": [
    "# Ridge Regression"
   ]
  },
  {
   "cell_type": "code",
   "execution_count": 49,
   "id": "b23f2409",
   "metadata": {},
   "outputs": [
    {
     "name": "stdout",
     "output_type": "stream",
     "text": [
      "0.42041731551718453\n"
     ]
    }
   ],
   "source": [
    "from sklearn.linear_model import Ridge\n",
    "\n",
    "R=Ridge()\n",
    "R.fit(x_train,y_train)\n",
    "print(R.score(x_train,y_train))\n",
    "R_predict=R.predict(x_test)"
   ]
  },
  {
   "cell_type": "code",
   "execution_count": 50,
   "id": "447d8126",
   "metadata": {},
   "outputs": [
    {
     "name": "stdout",
     "output_type": "stream",
     "text": [
      "MSE: 0.6197414656034518\n",
      "MAE: 0.6678352557496354\n",
      "r2_score: -0.6683608971855535\n"
     ]
    }
   ],
   "source": [
    "print('MSE:',mean_squared_error(R_predict,y_test))\n",
    "print('MAE:',mean_absolute_error(R_predict,y_test))\n",
    "print('r2_score:',r2_score(R_predict,y_test))"
   ]
  },
  {
   "cell_type": "markdown",
   "id": "6790ced3",
   "metadata": {},
   "source": [
    "# SVR(Support Vector Regression)"
   ]
  },
  {
   "cell_type": "code",
   "execution_count": 51,
   "id": "75be25f8",
   "metadata": {},
   "outputs": [
    {
     "name": "stdout",
     "output_type": "stream",
     "text": [
      "0.4076910255410424\n"
     ]
    }
   ],
   "source": [
    "from sklearn.svm import SVR\n",
    "\n",
    "svr=SVR(kernel='linear')\n",
    "svr.fit(x_train,y_train)\n",
    "print(svr.score(x_train,y_train))\n",
    "svr_predict=svr.predict(x_test)"
   ]
  },
  {
   "cell_type": "code",
   "execution_count": 52,
   "id": "8905fc05",
   "metadata": {},
   "outputs": [
    {
     "name": "stdout",
     "output_type": "stream",
     "text": [
      "MSE: 0.6156640656146944\n",
      "MAE: 0.6549585461640268\n",
      "r2_score: -0.43056592941263205\n"
     ]
    }
   ],
   "source": [
    "print('MSE:',mean_squared_error(svr_predict,y_test))\n",
    "print('MAE:',mean_absolute_error(svr_predict,y_test))\n",
    "print('r2_score:',r2_score(svr_predict,y_test))"
   ]
  },
  {
   "cell_type": "code",
   "execution_count": 53,
   "id": "6ec7d5a8",
   "metadata": {},
   "outputs": [
    {
     "name": "stdout",
     "output_type": "stream",
     "text": [
      "0.47040486649406443\n"
     ]
    }
   ],
   "source": [
    "svr_p=SVR(kernel='poly')\n",
    "svr_p.fit(x_train,y_train)\n",
    "print(svr_p.score(x_train,y_train))\n",
    "svrpred_p=svr_p.predict(x_test)"
   ]
  },
  {
   "cell_type": "code",
   "execution_count": 54,
   "id": "ea8303f2",
   "metadata": {},
   "outputs": [
    {
     "name": "stdout",
     "output_type": "stream",
     "text": [
      "MSE: 0.5021520722118068\n",
      "MAE: 0.5655899174687012\n",
      "r2_score: 0.06680843908926237\n"
     ]
    }
   ],
   "source": [
    "print('MSE:',mean_squared_error(svrpred_p,y_test))\n",
    "print('MAE:',mean_absolute_error(svrpred_p,y_test))\n",
    "print('r2_score:',r2_score(svrpred_p,y_test))"
   ]
  },
  {
   "cell_type": "code",
   "execution_count": 55,
   "id": "21d3f9f2",
   "metadata": {},
   "outputs": [
    {
     "name": "stdout",
     "output_type": "stream",
     "text": [
      "0.5307263513321593\n"
     ]
    }
   ],
   "source": [
    "svr_r=SVR(kernel='rbf')\n",
    "svr_r.fit(x_train,y_train)\n",
    "print(svr_r.score(x_train,y_train))\n",
    "svrpred_r=svr_r.predict(x_test)"
   ]
  },
  {
   "cell_type": "markdown",
   "id": "d4a77a58",
   "metadata": {},
   "source": [
    "print('MSE:',mean_squared_error(svrpred_r,y_test))\n",
    "print('MAE:',mean_absolute_error(svrpred_r,y_test))\n",
    "print('r2_score:',r2_score(svrpred_r,y_test))"
   ]
  },
  {
   "cell_type": "markdown",
   "id": "483928f2",
   "metadata": {},
   "source": [
    "# Random Forest Regressor"
   ]
  },
  {
   "cell_type": "code",
   "execution_count": 56,
   "id": "07a12bea",
   "metadata": {},
   "outputs": [
    {
     "name": "stdout",
     "output_type": "stream",
     "text": [
      "0.9375479959470455\n",
      "MSE: 0.5133703265723154\n",
      "MAE: 0.5427172667551197\n",
      "r2_score: 0.3652110203652271\n"
     ]
    }
   ],
   "source": [
    "from sklearn.ensemble import RandomForestRegressor\n",
    "\n",
    "RF=RandomForestRegressor()\n",
    "RF.fit(x_train,y_train)\n",
    "print(RF.score(x_train,y_train))\n",
    "RF_PRED=RF.predict(x_test)\n",
    "\n",
    "print('MSE:',mean_squared_error(RF_PRED,y_test))\n",
    "print('MAE:',mean_absolute_error(RF_PRED,y_test))\n",
    "print('r2_score:',r2_score(RF_PRED,y_test))"
   ]
  },
  {
   "cell_type": "markdown",
   "id": "6d329d1d",
   "metadata": {},
   "source": [
    "# Decision Tree Regressor"
   ]
  },
  {
   "cell_type": "code",
   "execution_count": 57,
   "id": "730a6b4d",
   "metadata": {},
   "outputs": [
    {
     "name": "stdout",
     "output_type": "stream",
     "text": [
      "1.0\n",
      "MSE: 0.6523334622502672\n",
      "MAE: 0.6244534024177348\n",
      "r2_score: 0.3511298240393129\n"
     ]
    }
   ],
   "source": [
    "from sklearn.tree import DecisionTreeRegressor\n",
    "\n",
    "DTR=DecisionTreeRegressor()\n",
    "DTR.fit(x_train,y_train)\n",
    "print(DTR.score(x_train,y_train))\n",
    "DTR_PRED=DTR.predict(x_test)\n",
    "\n",
    "print('MSE:',mean_squared_error(DTR_PRED,y_test))\n",
    "print('MAE:',mean_absolute_error(DTR_PRED,y_test))\n",
    "print('r2_score:',r2_score(DTR_PRED,y_test))"
   ]
  },
  {
   "cell_type": "markdown",
   "id": "79f4d614",
   "metadata": {},
   "source": [
    "# Gradient Boosting Regressor"
   ]
  },
  {
   "cell_type": "code",
   "execution_count": 58,
   "id": "8b731ea3",
   "metadata": {},
   "outputs": [
    {
     "name": "stdout",
     "output_type": "stream",
     "text": [
      "0.741223234654758\n",
      "MSE: 0.4220709198154189\n",
      "MAE: 0.5108773736643265\n",
      "r2_score: 0.3193876424633404\n"
     ]
    }
   ],
   "source": [
    "from sklearn.ensemble import GradientBoostingRegressor\n",
    "\n",
    "GBR=GradientBoostingRegressor()\n",
    "GBR.fit(x_train,y_train)\n",
    "print(GBR.score(x_train,y_train))\n",
    "GBR_PRED=GBR.predict(x_test)\n",
    "\n",
    "print('MSE:',mean_squared_error(GBR_PRED,y_test))\n",
    "print('MAE:',mean_absolute_error(GBR_PRED,y_test))\n",
    "print('r2_score:',r2_score(GBR_PRED,y_test))"
   ]
  },
  {
   "cell_type": "code",
   "execution_count": 59,
   "id": "dea60759",
   "metadata": {},
   "outputs": [
    {
     "name": "stdout",
     "output_type": "stream",
     "text": [
      "LR    : 0.587739, 0.080643\n",
      "R    : 0.587714, 0.077478\n",
      "svr    : 0.609955, 0.100338\n",
      "svr_p    : 0.525254, 0.121300\n",
      "svr_r    : 0.469206, 0.097778\n",
      "RF    : 0.496111, 0.088588\n",
      "DTR    : 0.657083, 0.156470\n",
      "GBR    : 0.399617, 0.078834\n"
     ]
    }
   ],
   "source": [
    "from sklearn.model_selection import cross_val_score\n",
    "\n",
    "np.random.seed(10)\n",
    "def rmse_cv(model, x,y):\n",
    "    rmse =- (cross_val_score(model, x,y, scoring='neg_mean_squared_error', cv=10))\n",
    "    return(rmse)\n",
    "\n",
    "\n",
    "models = [LinearRegression(),\n",
    "             Ridge(),\n",
    "             SVR(kernel='linear'),\n",
    "             SVR(kernel='poly'),\n",
    "             SVR(kernel='rbf'),\n",
    "             RandomForestRegressor(),\n",
    "             DecisionTreeRegressor(),  \n",
    "             GradientBoostingRegressor(),]\n",
    "            \n",
    "\n",
    "\n",
    "names = ['LR','R','svr','svr_p','svr_r','RF','DTR','GBR']\n",
    "\n",
    "for model,name in zip(models,names):\n",
    "    score = rmse_cv(model,x,y)\n",
    "    print(\"{}    : {:.6f}, {:4f}\".format(name,score.mean(),score.std()))"
   ]
  },
  {
   "cell_type": "markdown",
   "id": "6696d887",
   "metadata": {},
   "source": [
    "# HYPER PARAMETER TUNING:\n",
    "    \n",
    "GridSearchCV"
   ]
  },
  {
   "cell_type": "code",
   "execution_count": 60,
   "id": "4ac31d8d",
   "metadata": {},
   "outputs": [],
   "source": [
    "from sklearn.model_selection import GridSearchCV\n",
    "\n",
    "GF=GradientBoostingRegressor()\n",
    "param={\n",
    "     'criterion':['mse','mae'],\n",
    "     'n_estimators':[100, 200],\n",
    "    }"
   ]
  },
  {
   "cell_type": "code",
   "execution_count": 61,
   "id": "83abe353",
   "metadata": {},
   "outputs": [
    {
     "name": "stdout",
     "output_type": "stream",
     "text": [
      "Fitting 10 folds for each of 4 candidates, totalling 40 fits\n"
     ]
    },
    {
     "name": "stderr",
     "output_type": "stream",
     "text": [
      "/Users/promilamalik/opt/anaconda3/lib/python3.9/site-packages/sklearn/ensemble/_forest.py:396: FutureWarning: Criterion 'mse' was deprecated in v1.0 and will be removed in version 1.2. Use `criterion='squared_error'` which is equivalent.\n",
      "  warn(\n",
      "/Users/promilamalik/opt/anaconda3/lib/python3.9/site-packages/sklearn/ensemble/_forest.py:396: FutureWarning: Criterion 'mse' was deprecated in v1.0 and will be removed in version 1.2. Use `criterion='squared_error'` which is equivalent.\n",
      "  warn(\n",
      "/Users/promilamalik/opt/anaconda3/lib/python3.9/site-packages/sklearn/ensemble/_forest.py:396: FutureWarning: Criterion 'mse' was deprecated in v1.0 and will be removed in version 1.2. Use `criterion='squared_error'` which is equivalent.\n",
      "  warn(\n",
      "/Users/promilamalik/opt/anaconda3/lib/python3.9/site-packages/sklearn/ensemble/_forest.py:396: FutureWarning: Criterion 'mse' was deprecated in v1.0 and will be removed in version 1.2. Use `criterion='squared_error'` which is equivalent.\n",
      "  warn(\n",
      "/Users/promilamalik/opt/anaconda3/lib/python3.9/site-packages/sklearn/model_selection/_validation.py:770: UserWarning: Scoring failed. The score on this train-test partition for these parameters will be set to nan. Details: \n",
      "Traceback (most recent call last):\n",
      "  File \"/Users/promilamalik/opt/anaconda3/lib/python3.9/site-packages/sklearn/model_selection/_validation.py\", line 761, in _score\n",
      "    scores = scorer(estimator, X_test, y_test)\n",
      "  File \"/Users/promilamalik/opt/anaconda3/lib/python3.9/site-packages/sklearn/metrics/_scorer.py\", line 216, in __call__\n",
      "    return self._score(\n",
      "  File \"/Users/promilamalik/opt/anaconda3/lib/python3.9/site-packages/sklearn/metrics/_scorer.py\", line 264, in _score\n",
      "    return self._sign * self._score_func(y_true, y_pred, **self._kwargs)\n",
      "  File \"/Users/promilamalik/opt/anaconda3/lib/python3.9/site-packages/sklearn/metrics/_classification.py\", line 211, in accuracy_score\n",
      "    y_type, y_true, y_pred = _check_targets(y_true, y_pred)\n",
      "  File \"/Users/promilamalik/opt/anaconda3/lib/python3.9/site-packages/sklearn/metrics/_classification.py\", line 104, in _check_targets\n",
      "    raise ValueError(\"{0} is not supported\".format(y_type))\n",
      "ValueError: continuous is not supported\n",
      "\n",
      "  warnings.warn(\n",
      "/Users/promilamalik/opt/anaconda3/lib/python3.9/site-packages/sklearn/model_selection/_validation.py:770: UserWarning: Scoring failed. The score on this train-test partition for these parameters will be set to nan. Details: \n",
      "Traceback (most recent call last):\n",
      "  File \"/Users/promilamalik/opt/anaconda3/lib/python3.9/site-packages/sklearn/model_selection/_validation.py\", line 761, in _score\n",
      "    scores = scorer(estimator, X_test, y_test)\n",
      "  File \"/Users/promilamalik/opt/anaconda3/lib/python3.9/site-packages/sklearn/metrics/_scorer.py\", line 216, in __call__\n",
      "    return self._score(\n",
      "  File \"/Users/promilamalik/opt/anaconda3/lib/python3.9/site-packages/sklearn/metrics/_scorer.py\", line 264, in _score\n",
      "    return self._sign * self._score_func(y_true, y_pred, **self._kwargs)\n",
      "  File \"/Users/promilamalik/opt/anaconda3/lib/python3.9/site-packages/sklearn/metrics/_classification.py\", line 211, in accuracy_score\n",
      "    y_type, y_true, y_pred = _check_targets(y_true, y_pred)\n",
      "  File \"/Users/promilamalik/opt/anaconda3/lib/python3.9/site-packages/sklearn/metrics/_classification.py\", line 104, in _check_targets\n",
      "    raise ValueError(\"{0} is not supported\".format(y_type))\n",
      "ValueError: continuous is not supported\n",
      "\n",
      "  warnings.warn(\n",
      "/Users/promilamalik/opt/anaconda3/lib/python3.9/site-packages/sklearn/model_selection/_validation.py:770: UserWarning: Scoring failed. The score on this train-test partition for these parameters will be set to nan. Details: \n",
      "Traceback (most recent call last):\n",
      "  File \"/Users/promilamalik/opt/anaconda3/lib/python3.9/site-packages/sklearn/model_selection/_validation.py\", line 761, in _score\n",
      "    scores = scorer(estimator, X_test, y_test)\n",
      "  File \"/Users/promilamalik/opt/anaconda3/lib/python3.9/site-packages/sklearn/metrics/_scorer.py\", line 216, in __call__\n",
      "    return self._score(\n",
      "  File \"/Users/promilamalik/opt/anaconda3/lib/python3.9/site-packages/sklearn/metrics/_scorer.py\", line 264, in _score\n",
      "    return self._sign * self._score_func(y_true, y_pred, **self._kwargs)\n",
      "  File \"/Users/promilamalik/opt/anaconda3/lib/python3.9/site-packages/sklearn/metrics/_classification.py\", line 211, in accuracy_score\n",
      "    y_type, y_true, y_pred = _check_targets(y_true, y_pred)\n",
      "  File \"/Users/promilamalik/opt/anaconda3/lib/python3.9/site-packages/sklearn/metrics/_classification.py\", line 104, in _check_targets\n",
      "    raise ValueError(\"{0} is not supported\".format(y_type))\n",
      "ValueError: continuous is not supported\n",
      "\n",
      "  warnings.warn(\n",
      "/Users/promilamalik/opt/anaconda3/lib/python3.9/site-packages/sklearn/model_selection/_validation.py:770: UserWarning: Scoring failed. The score on this train-test partition for these parameters will be set to nan. Details: \n",
      "Traceback (most recent call last):\n",
      "  File \"/Users/promilamalik/opt/anaconda3/lib/python3.9/site-packages/sklearn/model_selection/_validation.py\", line 761, in _score\n",
      "    scores = scorer(estimator, X_test, y_test)\n",
      "  File \"/Users/promilamalik/opt/anaconda3/lib/python3.9/site-packages/sklearn/metrics/_scorer.py\", line 216, in __call__\n",
      "    return self._score(\n",
      "  File \"/Users/promilamalik/opt/anaconda3/lib/python3.9/site-packages/sklearn/metrics/_scorer.py\", line 264, in _score\n",
      "    return self._sign * self._score_func(y_true, y_pred, **self._kwargs)\n",
      "  File \"/Users/promilamalik/opt/anaconda3/lib/python3.9/site-packages/sklearn/metrics/_classification.py\", line 211, in accuracy_score\n",
      "    y_type, y_true, y_pred = _check_targets(y_true, y_pred)\n",
      "  File \"/Users/promilamalik/opt/anaconda3/lib/python3.9/site-packages/sklearn/metrics/_classification.py\", line 104, in _check_targets\n",
      "    raise ValueError(\"{0} is not supported\".format(y_type))\n",
      "ValueError: continuous is not supported\n",
      "\n",
      "  warnings.warn(\n",
      "/Users/promilamalik/opt/anaconda3/lib/python3.9/site-packages/sklearn/ensemble/_forest.py:396: FutureWarning: Criterion 'mse' was deprecated in v1.0 and will be removed in version 1.2. Use `criterion='squared_error'` which is equivalent.\n",
      "  warn(\n",
      "/Users/promilamalik/opt/anaconda3/lib/python3.9/site-packages/sklearn/ensemble/_forest.py:396: FutureWarning: Criterion 'mse' was deprecated in v1.0 and will be removed in version 1.2. Use `criterion='squared_error'` which is equivalent.\n",
      "  warn(\n",
      "/Users/promilamalik/opt/anaconda3/lib/python3.9/site-packages/sklearn/ensemble/_forest.py:396: FutureWarning: Criterion 'mse' was deprecated in v1.0 and will be removed in version 1.2. Use `criterion='squared_error'` which is equivalent.\n",
      "  warn(\n",
      "/Users/promilamalik/opt/anaconda3/lib/python3.9/site-packages/sklearn/ensemble/_forest.py:396: FutureWarning: Criterion 'mse' was deprecated in v1.0 and will be removed in version 1.2. Use `criterion='squared_error'` which is equivalent.\n",
      "  warn(\n",
      "/Users/promilamalik/opt/anaconda3/lib/python3.9/site-packages/sklearn/model_selection/_validation.py:770: UserWarning: Scoring failed. The score on this train-test partition for these parameters will be set to nan. Details: \n",
      "Traceback (most recent call last):\n",
      "  File \"/Users/promilamalik/opt/anaconda3/lib/python3.9/site-packages/sklearn/model_selection/_validation.py\", line 761, in _score\n",
      "    scores = scorer(estimator, X_test, y_test)\n",
      "  File \"/Users/promilamalik/opt/anaconda3/lib/python3.9/site-packages/sklearn/metrics/_scorer.py\", line 216, in __call__\n",
      "    return self._score(\n",
      "  File \"/Users/promilamalik/opt/anaconda3/lib/python3.9/site-packages/sklearn/metrics/_scorer.py\", line 264, in _score\n",
      "    return self._sign * self._score_func(y_true, y_pred, **self._kwargs)\n",
      "  File \"/Users/promilamalik/opt/anaconda3/lib/python3.9/site-packages/sklearn/metrics/_classification.py\", line 211, in accuracy_score\n",
      "    y_type, y_true, y_pred = _check_targets(y_true, y_pred)\n",
      "  File \"/Users/promilamalik/opt/anaconda3/lib/python3.9/site-packages/sklearn/metrics/_classification.py\", line 104, in _check_targets\n",
      "    raise ValueError(\"{0} is not supported\".format(y_type))\n",
      "ValueError: continuous is not supported\n",
      "\n",
      "  warnings.warn(\n",
      "/Users/promilamalik/opt/anaconda3/lib/python3.9/site-packages/sklearn/model_selection/_validation.py:770: UserWarning: Scoring failed. The score on this train-test partition for these parameters will be set to nan. Details: \n",
      "Traceback (most recent call last):\n",
      "  File \"/Users/promilamalik/opt/anaconda3/lib/python3.9/site-packages/sklearn/model_selection/_validation.py\", line 761, in _score\n",
      "    scores = scorer(estimator, X_test, y_test)\n",
      "  File \"/Users/promilamalik/opt/anaconda3/lib/python3.9/site-packages/sklearn/metrics/_scorer.py\", line 216, in __call__\n",
      "    return self._score(\n",
      "  File \"/Users/promilamalik/opt/anaconda3/lib/python3.9/site-packages/sklearn/metrics/_scorer.py\", line 264, in _score\n",
      "    return self._sign * self._score_func(y_true, y_pred, **self._kwargs)\n",
      "  File \"/Users/promilamalik/opt/anaconda3/lib/python3.9/site-packages/sklearn/metrics/_classification.py\", line 211, in accuracy_score\n",
      "    y_type, y_true, y_pred = _check_targets(y_true, y_pred)\n",
      "  File \"/Users/promilamalik/opt/anaconda3/lib/python3.9/site-packages/sklearn/metrics/_classification.py\", line 104, in _check_targets\n",
      "    raise ValueError(\"{0} is not supported\".format(y_type))\n",
      "ValueError: continuous is not supported\n",
      "\n",
      "  warnings.warn(\n",
      "/Users/promilamalik/opt/anaconda3/lib/python3.9/site-packages/sklearn/ensemble/_forest.py:396: FutureWarning: Criterion 'mse' was deprecated in v1.0 and will be removed in version 1.2. Use `criterion='squared_error'` which is equivalent.\n",
      "  warn(\n",
      "/Users/promilamalik/opt/anaconda3/lib/python3.9/site-packages/sklearn/model_selection/_validation.py:770: UserWarning: Scoring failed. The score on this train-test partition for these parameters will be set to nan. Details: \n",
      "Traceback (most recent call last):\n",
      "  File \"/Users/promilamalik/opt/anaconda3/lib/python3.9/site-packages/sklearn/model_selection/_validation.py\", line 761, in _score\n",
      "    scores = scorer(estimator, X_test, y_test)\n",
      "  File \"/Users/promilamalik/opt/anaconda3/lib/python3.9/site-packages/sklearn/metrics/_scorer.py\", line 216, in __call__\n",
      "    return self._score(\n",
      "  File \"/Users/promilamalik/opt/anaconda3/lib/python3.9/site-packages/sklearn/metrics/_scorer.py\", line 264, in _score\n",
      "    return self._sign * self._score_func(y_true, y_pred, **self._kwargs)\n",
      "  File \"/Users/promilamalik/opt/anaconda3/lib/python3.9/site-packages/sklearn/metrics/_classification.py\", line 211, in accuracy_score\n",
      "    y_type, y_true, y_pred = _check_targets(y_true, y_pred)\n",
      "  File \"/Users/promilamalik/opt/anaconda3/lib/python3.9/site-packages/sklearn/metrics/_classification.py\", line 104, in _check_targets\n",
      "    raise ValueError(\"{0} is not supported\".format(y_type))\n",
      "ValueError: continuous is not supported\n",
      "\n",
      "  warnings.warn(\n",
      "/Users/promilamalik/opt/anaconda3/lib/python3.9/site-packages/sklearn/model_selection/_validation.py:770: UserWarning: Scoring failed. The score on this train-test partition for these parameters will be set to nan. Details: \n",
      "Traceback (most recent call last):\n",
      "  File \"/Users/promilamalik/opt/anaconda3/lib/python3.9/site-packages/sklearn/model_selection/_validation.py\", line 761, in _score\n",
      "    scores = scorer(estimator, X_test, y_test)\n",
      "  File \"/Users/promilamalik/opt/anaconda3/lib/python3.9/site-packages/sklearn/metrics/_scorer.py\", line 216, in __call__\n",
      "    return self._score(\n",
      "  File \"/Users/promilamalik/opt/anaconda3/lib/python3.9/site-packages/sklearn/metrics/_scorer.py\", line 264, in _score\n",
      "    return self._sign * self._score_func(y_true, y_pred, **self._kwargs)\n",
      "  File \"/Users/promilamalik/opt/anaconda3/lib/python3.9/site-packages/sklearn/metrics/_classification.py\", line 211, in accuracy_score\n",
      "    y_type, y_true, y_pred = _check_targets(y_true, y_pred)\n",
      "  File \"/Users/promilamalik/opt/anaconda3/lib/python3.9/site-packages/sklearn/metrics/_classification.py\", line 104, in _check_targets\n",
      "    raise ValueError(\"{0} is not supported\".format(y_type))\n",
      "ValueError: continuous is not supported\n",
      "\n",
      "  warnings.warn(\n",
      "/Users/promilamalik/opt/anaconda3/lib/python3.9/site-packages/sklearn/ensemble/_forest.py:396: FutureWarning: Criterion 'mse' was deprecated in v1.0 and will be removed in version 1.2. Use `criterion='squared_error'` which is equivalent.\n",
      "  warn(\n",
      "/Users/promilamalik/opt/anaconda3/lib/python3.9/site-packages/sklearn/ensemble/_forest.py:396: FutureWarning: Criterion 'mse' was deprecated in v1.0 and will be removed in version 1.2. Use `criterion='squared_error'` which is equivalent.\n",
      "  warn(\n",
      "/Users/promilamalik/opt/anaconda3/lib/python3.9/site-packages/sklearn/ensemble/_forest.py:396: FutureWarning: Criterion 'mse' was deprecated in v1.0 and will be removed in version 1.2. Use `criterion='squared_error'` which is equivalent.\n",
      "  warn(\n"
     ]
    },
    {
     "name": "stderr",
     "output_type": "stream",
     "text": [
      "/Users/promilamalik/opt/anaconda3/lib/python3.9/site-packages/sklearn/model_selection/_validation.py:770: UserWarning: Scoring failed. The score on this train-test partition for these parameters will be set to nan. Details: \n",
      "Traceback (most recent call last):\n",
      "  File \"/Users/promilamalik/opt/anaconda3/lib/python3.9/site-packages/sklearn/model_selection/_validation.py\", line 761, in _score\n",
      "    scores = scorer(estimator, X_test, y_test)\n",
      "  File \"/Users/promilamalik/opt/anaconda3/lib/python3.9/site-packages/sklearn/metrics/_scorer.py\", line 216, in __call__\n",
      "    return self._score(\n",
      "  File \"/Users/promilamalik/opt/anaconda3/lib/python3.9/site-packages/sklearn/metrics/_scorer.py\", line 264, in _score\n",
      "    return self._sign * self._score_func(y_true, y_pred, **self._kwargs)\n",
      "  File \"/Users/promilamalik/opt/anaconda3/lib/python3.9/site-packages/sklearn/metrics/_classification.py\", line 211, in accuracy_score\n",
      "    y_type, y_true, y_pred = _check_targets(y_true, y_pred)\n",
      "  File \"/Users/promilamalik/opt/anaconda3/lib/python3.9/site-packages/sklearn/metrics/_classification.py\", line 104, in _check_targets\n",
      "    raise ValueError(\"{0} is not supported\".format(y_type))\n",
      "ValueError: continuous is not supported\n",
      "\n",
      "  warnings.warn(\n",
      "/Users/promilamalik/opt/anaconda3/lib/python3.9/site-packages/sklearn/ensemble/_forest.py:396: FutureWarning: Criterion 'mse' was deprecated in v1.0 and will be removed in version 1.2. Use `criterion='squared_error'` which is equivalent.\n",
      "  warn(\n",
      "/Users/promilamalik/opt/anaconda3/lib/python3.9/site-packages/sklearn/model_selection/_validation.py:770: UserWarning: Scoring failed. The score on this train-test partition for these parameters will be set to nan. Details: \n",
      "Traceback (most recent call last):\n",
      "  File \"/Users/promilamalik/opt/anaconda3/lib/python3.9/site-packages/sklearn/model_selection/_validation.py\", line 761, in _score\n",
      "    scores = scorer(estimator, X_test, y_test)\n",
      "  File \"/Users/promilamalik/opt/anaconda3/lib/python3.9/site-packages/sklearn/metrics/_scorer.py\", line 216, in __call__\n",
      "    return self._score(\n",
      "  File \"/Users/promilamalik/opt/anaconda3/lib/python3.9/site-packages/sklearn/metrics/_scorer.py\", line 264, in _score\n",
      "    return self._sign * self._score_func(y_true, y_pred, **self._kwargs)\n",
      "  File \"/Users/promilamalik/opt/anaconda3/lib/python3.9/site-packages/sklearn/metrics/_classification.py\", line 211, in accuracy_score\n",
      "    y_type, y_true, y_pred = _check_targets(y_true, y_pred)\n",
      "  File \"/Users/promilamalik/opt/anaconda3/lib/python3.9/site-packages/sklearn/metrics/_classification.py\", line 104, in _check_targets\n",
      "    raise ValueError(\"{0} is not supported\".format(y_type))\n",
      "ValueError: continuous is not supported\n",
      "\n",
      "  warnings.warn(\n",
      "/Users/promilamalik/opt/anaconda3/lib/python3.9/site-packages/sklearn/ensemble/_forest.py:396: FutureWarning: Criterion 'mse' was deprecated in v1.0 and will be removed in version 1.2. Use `criterion='squared_error'` which is equivalent.\n",
      "  warn(\n",
      "/Users/promilamalik/opt/anaconda3/lib/python3.9/site-packages/sklearn/model_selection/_validation.py:770: UserWarning: Scoring failed. The score on this train-test partition for these parameters will be set to nan. Details: \n",
      "Traceback (most recent call last):\n",
      "  File \"/Users/promilamalik/opt/anaconda3/lib/python3.9/site-packages/sklearn/model_selection/_validation.py\", line 761, in _score\n",
      "    scores = scorer(estimator, X_test, y_test)\n",
      "  File \"/Users/promilamalik/opt/anaconda3/lib/python3.9/site-packages/sklearn/metrics/_scorer.py\", line 216, in __call__\n",
      "    return self._score(\n",
      "  File \"/Users/promilamalik/opt/anaconda3/lib/python3.9/site-packages/sklearn/metrics/_scorer.py\", line 264, in _score\n",
      "    return self._sign * self._score_func(y_true, y_pred, **self._kwargs)\n",
      "  File \"/Users/promilamalik/opt/anaconda3/lib/python3.9/site-packages/sklearn/metrics/_classification.py\", line 211, in accuracy_score\n",
      "    y_type, y_true, y_pred = _check_targets(y_true, y_pred)\n",
      "  File \"/Users/promilamalik/opt/anaconda3/lib/python3.9/site-packages/sklearn/metrics/_classification.py\", line 104, in _check_targets\n",
      "    raise ValueError(\"{0} is not supported\".format(y_type))\n",
      "ValueError: continuous is not supported\n",
      "\n",
      "  warnings.warn(\n",
      "/Users/promilamalik/opt/anaconda3/lib/python3.9/site-packages/sklearn/ensemble/_forest.py:396: FutureWarning: Criterion 'mse' was deprecated in v1.0 and will be removed in version 1.2. Use `criterion='squared_error'` which is equivalent.\n",
      "  warn(\n",
      "/Users/promilamalik/opt/anaconda3/lib/python3.9/site-packages/sklearn/model_selection/_validation.py:770: UserWarning: Scoring failed. The score on this train-test partition for these parameters will be set to nan. Details: \n",
      "Traceback (most recent call last):\n",
      "  File \"/Users/promilamalik/opt/anaconda3/lib/python3.9/site-packages/sklearn/model_selection/_validation.py\", line 761, in _score\n",
      "    scores = scorer(estimator, X_test, y_test)\n",
      "  File \"/Users/promilamalik/opt/anaconda3/lib/python3.9/site-packages/sklearn/metrics/_scorer.py\", line 216, in __call__\n",
      "    return self._score(\n",
      "  File \"/Users/promilamalik/opt/anaconda3/lib/python3.9/site-packages/sklearn/metrics/_scorer.py\", line 264, in _score\n",
      "    return self._sign * self._score_func(y_true, y_pred, **self._kwargs)\n",
      "  File \"/Users/promilamalik/opt/anaconda3/lib/python3.9/site-packages/sklearn/metrics/_classification.py\", line 211, in accuracy_score\n",
      "    y_type, y_true, y_pred = _check_targets(y_true, y_pred)\n",
      "  File \"/Users/promilamalik/opt/anaconda3/lib/python3.9/site-packages/sklearn/metrics/_classification.py\", line 104, in _check_targets\n",
      "    raise ValueError(\"{0} is not supported\".format(y_type))\n",
      "ValueError: continuous is not supported\n",
      "\n",
      "  warnings.warn(\n",
      "/Users/promilamalik/opt/anaconda3/lib/python3.9/site-packages/sklearn/ensemble/_forest.py:396: FutureWarning: Criterion 'mse' was deprecated in v1.0 and will be removed in version 1.2. Use `criterion='squared_error'` which is equivalent.\n",
      "  warn(\n",
      "/Users/promilamalik/opt/anaconda3/lib/python3.9/site-packages/sklearn/model_selection/_validation.py:770: UserWarning: Scoring failed. The score on this train-test partition for these parameters will be set to nan. Details: \n",
      "Traceback (most recent call last):\n",
      "  File \"/Users/promilamalik/opt/anaconda3/lib/python3.9/site-packages/sklearn/model_selection/_validation.py\", line 761, in _score\n",
      "    scores = scorer(estimator, X_test, y_test)\n",
      "  File \"/Users/promilamalik/opt/anaconda3/lib/python3.9/site-packages/sklearn/metrics/_scorer.py\", line 216, in __call__\n",
      "    return self._score(\n",
      "  File \"/Users/promilamalik/opt/anaconda3/lib/python3.9/site-packages/sklearn/metrics/_scorer.py\", line 264, in _score\n",
      "    return self._sign * self._score_func(y_true, y_pred, **self._kwargs)\n",
      "  File \"/Users/promilamalik/opt/anaconda3/lib/python3.9/site-packages/sklearn/metrics/_classification.py\", line 211, in accuracy_score\n",
      "    y_type, y_true, y_pred = _check_targets(y_true, y_pred)\n",
      "  File \"/Users/promilamalik/opt/anaconda3/lib/python3.9/site-packages/sklearn/metrics/_classification.py\", line 104, in _check_targets\n",
      "    raise ValueError(\"{0} is not supported\".format(y_type))\n",
      "ValueError: continuous is not supported\n",
      "\n",
      "  warnings.warn(\n",
      "/Users/promilamalik/opt/anaconda3/lib/python3.9/site-packages/sklearn/model_selection/_validation.py:770: UserWarning: Scoring failed. The score on this train-test partition for these parameters will be set to nan. Details: \n",
      "Traceback (most recent call last):\n",
      "  File \"/Users/promilamalik/opt/anaconda3/lib/python3.9/site-packages/sklearn/model_selection/_validation.py\", line 761, in _score\n",
      "    scores = scorer(estimator, X_test, y_test)\n",
      "  File \"/Users/promilamalik/opt/anaconda3/lib/python3.9/site-packages/sklearn/metrics/_scorer.py\", line 216, in __call__\n",
      "    return self._score(\n",
      "  File \"/Users/promilamalik/opt/anaconda3/lib/python3.9/site-packages/sklearn/metrics/_scorer.py\", line 264, in _score\n",
      "    return self._sign * self._score_func(y_true, y_pred, **self._kwargs)\n",
      "  File \"/Users/promilamalik/opt/anaconda3/lib/python3.9/site-packages/sklearn/metrics/_classification.py\", line 211, in accuracy_score\n",
      "    y_type, y_true, y_pred = _check_targets(y_true, y_pred)\n",
      "  File \"/Users/promilamalik/opt/anaconda3/lib/python3.9/site-packages/sklearn/metrics/_classification.py\", line 104, in _check_targets\n",
      "    raise ValueError(\"{0} is not supported\".format(y_type))\n",
      "ValueError: continuous is not supported\n",
      "\n",
      "  warnings.warn(\n",
      "/Users/promilamalik/opt/anaconda3/lib/python3.9/site-packages/sklearn/ensemble/_forest.py:396: FutureWarning: Criterion 'mse' was deprecated in v1.0 and will be removed in version 1.2. Use `criterion='squared_error'` which is equivalent.\n",
      "  warn(\n",
      "/Users/promilamalik/opt/anaconda3/lib/python3.9/site-packages/sklearn/ensemble/_forest.py:396: FutureWarning: Criterion 'mse' was deprecated in v1.0 and will be removed in version 1.2. Use `criterion='squared_error'` which is equivalent.\n",
      "  warn(\n"
     ]
    },
    {
     "name": "stderr",
     "output_type": "stream",
     "text": [
      "/Users/promilamalik/opt/anaconda3/lib/python3.9/site-packages/sklearn/model_selection/_validation.py:770: UserWarning: Scoring failed. The score on this train-test partition for these parameters will be set to nan. Details: \n",
      "Traceback (most recent call last):\n",
      "  File \"/Users/promilamalik/opt/anaconda3/lib/python3.9/site-packages/sklearn/model_selection/_validation.py\", line 761, in _score\n",
      "    scores = scorer(estimator, X_test, y_test)\n",
      "  File \"/Users/promilamalik/opt/anaconda3/lib/python3.9/site-packages/sklearn/metrics/_scorer.py\", line 216, in __call__\n",
      "    return self._score(\n",
      "  File \"/Users/promilamalik/opt/anaconda3/lib/python3.9/site-packages/sklearn/metrics/_scorer.py\", line 264, in _score\n",
      "    return self._sign * self._score_func(y_true, y_pred, **self._kwargs)\n",
      "  File \"/Users/promilamalik/opt/anaconda3/lib/python3.9/site-packages/sklearn/metrics/_classification.py\", line 211, in accuracy_score\n",
      "    y_type, y_true, y_pred = _check_targets(y_true, y_pred)\n",
      "  File \"/Users/promilamalik/opt/anaconda3/lib/python3.9/site-packages/sklearn/metrics/_classification.py\", line 104, in _check_targets\n",
      "    raise ValueError(\"{0} is not supported\".format(y_type))\n",
      "ValueError: continuous is not supported\n",
      "\n",
      "  warnings.warn(\n",
      "/Users/promilamalik/opt/anaconda3/lib/python3.9/site-packages/sklearn/ensemble/_forest.py:396: FutureWarning: Criterion 'mse' was deprecated in v1.0 and will be removed in version 1.2. Use `criterion='squared_error'` which is equivalent.\n",
      "  warn(\n",
      "/Users/promilamalik/opt/anaconda3/lib/python3.9/site-packages/sklearn/model_selection/_validation.py:770: UserWarning: Scoring failed. The score on this train-test partition for these parameters will be set to nan. Details: \n",
      "Traceback (most recent call last):\n",
      "  File \"/Users/promilamalik/opt/anaconda3/lib/python3.9/site-packages/sklearn/model_selection/_validation.py\", line 761, in _score\n",
      "    scores = scorer(estimator, X_test, y_test)\n",
      "  File \"/Users/promilamalik/opt/anaconda3/lib/python3.9/site-packages/sklearn/metrics/_scorer.py\", line 216, in __call__\n",
      "    return self._score(\n",
      "  File \"/Users/promilamalik/opt/anaconda3/lib/python3.9/site-packages/sklearn/metrics/_scorer.py\", line 264, in _score\n",
      "    return self._sign * self._score_func(y_true, y_pred, **self._kwargs)\n",
      "  File \"/Users/promilamalik/opt/anaconda3/lib/python3.9/site-packages/sklearn/metrics/_classification.py\", line 211, in accuracy_score\n",
      "    y_type, y_true, y_pred = _check_targets(y_true, y_pred)\n",
      "  File \"/Users/promilamalik/opt/anaconda3/lib/python3.9/site-packages/sklearn/metrics/_classification.py\", line 104, in _check_targets\n",
      "    raise ValueError(\"{0} is not supported\".format(y_type))\n",
      "ValueError: continuous is not supported\n",
      "\n",
      "  warnings.warn(\n",
      "/Users/promilamalik/opt/anaconda3/lib/python3.9/site-packages/sklearn/ensemble/_forest.py:396: FutureWarning: Criterion 'mse' was deprecated in v1.0 and will be removed in version 1.2. Use `criterion='squared_error'` which is equivalent.\n",
      "  warn(\n",
      "/Users/promilamalik/opt/anaconda3/lib/python3.9/site-packages/sklearn/model_selection/_validation.py:770: UserWarning: Scoring failed. The score on this train-test partition for these parameters will be set to nan. Details: \n",
      "Traceback (most recent call last):\n",
      "  File \"/Users/promilamalik/opt/anaconda3/lib/python3.9/site-packages/sklearn/model_selection/_validation.py\", line 761, in _score\n",
      "    scores = scorer(estimator, X_test, y_test)\n",
      "  File \"/Users/promilamalik/opt/anaconda3/lib/python3.9/site-packages/sklearn/metrics/_scorer.py\", line 216, in __call__\n",
      "    return self._score(\n",
      "  File \"/Users/promilamalik/opt/anaconda3/lib/python3.9/site-packages/sklearn/metrics/_scorer.py\", line 264, in _score\n",
      "    return self._sign * self._score_func(y_true, y_pred, **self._kwargs)\n",
      "  File \"/Users/promilamalik/opt/anaconda3/lib/python3.9/site-packages/sklearn/metrics/_classification.py\", line 211, in accuracy_score\n",
      "    y_type, y_true, y_pred = _check_targets(y_true, y_pred)\n",
      "  File \"/Users/promilamalik/opt/anaconda3/lib/python3.9/site-packages/sklearn/metrics/_classification.py\", line 104, in _check_targets\n",
      "    raise ValueError(\"{0} is not supported\".format(y_type))\n",
      "ValueError: continuous is not supported\n",
      "\n",
      "  warnings.warn(\n",
      "/Users/promilamalik/opt/anaconda3/lib/python3.9/site-packages/sklearn/ensemble/_forest.py:403: FutureWarning: Criterion 'mae' was deprecated in v1.0 and will be removed in version 1.2. Use `criterion='absolute_error'` which is equivalent.\n",
      "  warn(\n",
      "/Users/promilamalik/opt/anaconda3/lib/python3.9/site-packages/sklearn/model_selection/_validation.py:770: UserWarning: Scoring failed. The score on this train-test partition for these parameters will be set to nan. Details: \n",
      "Traceback (most recent call last):\n",
      "  File \"/Users/promilamalik/opt/anaconda3/lib/python3.9/site-packages/sklearn/model_selection/_validation.py\", line 761, in _score\n",
      "    scores = scorer(estimator, X_test, y_test)\n",
      "  File \"/Users/promilamalik/opt/anaconda3/lib/python3.9/site-packages/sklearn/metrics/_scorer.py\", line 216, in __call__\n",
      "    return self._score(\n",
      "  File \"/Users/promilamalik/opt/anaconda3/lib/python3.9/site-packages/sklearn/metrics/_scorer.py\", line 264, in _score\n",
      "    return self._sign * self._score_func(y_true, y_pred, **self._kwargs)\n",
      "  File \"/Users/promilamalik/opt/anaconda3/lib/python3.9/site-packages/sklearn/metrics/_classification.py\", line 211, in accuracy_score\n",
      "    y_type, y_true, y_pred = _check_targets(y_true, y_pred)\n",
      "  File \"/Users/promilamalik/opt/anaconda3/lib/python3.9/site-packages/sklearn/metrics/_classification.py\", line 104, in _check_targets\n",
      "    raise ValueError(\"{0} is not supported\".format(y_type))\n",
      "ValueError: continuous is not supported\n",
      "\n",
      "  warnings.warn(\n",
      "/Users/promilamalik/opt/anaconda3/lib/python3.9/site-packages/sklearn/ensemble/_forest.py:403: FutureWarning: Criterion 'mae' was deprecated in v1.0 and will be removed in version 1.2. Use `criterion='absolute_error'` which is equivalent.\n",
      "  warn(\n",
      "/Users/promilamalik/opt/anaconda3/lib/python3.9/site-packages/sklearn/model_selection/_validation.py:770: UserWarning: Scoring failed. The score on this train-test partition for these parameters will be set to nan. Details: \n",
      "Traceback (most recent call last):\n",
      "  File \"/Users/promilamalik/opt/anaconda3/lib/python3.9/site-packages/sklearn/model_selection/_validation.py\", line 761, in _score\n",
      "    scores = scorer(estimator, X_test, y_test)\n",
      "  File \"/Users/promilamalik/opt/anaconda3/lib/python3.9/site-packages/sklearn/metrics/_scorer.py\", line 216, in __call__\n",
      "    return self._score(\n",
      "  File \"/Users/promilamalik/opt/anaconda3/lib/python3.9/site-packages/sklearn/metrics/_scorer.py\", line 264, in _score\n",
      "    return self._sign * self._score_func(y_true, y_pred, **self._kwargs)\n",
      "  File \"/Users/promilamalik/opt/anaconda3/lib/python3.9/site-packages/sklearn/metrics/_classification.py\", line 211, in accuracy_score\n",
      "    y_type, y_true, y_pred = _check_targets(y_true, y_pred)\n",
      "  File \"/Users/promilamalik/opt/anaconda3/lib/python3.9/site-packages/sklearn/metrics/_classification.py\", line 104, in _check_targets\n",
      "    raise ValueError(\"{0} is not supported\".format(y_type))\n",
      "ValueError: continuous is not supported\n",
      "\n",
      "  warnings.warn(\n",
      "/Users/promilamalik/opt/anaconda3/lib/python3.9/site-packages/sklearn/ensemble/_forest.py:403: FutureWarning: Criterion 'mae' was deprecated in v1.0 and will be removed in version 1.2. Use `criterion='absolute_error'` which is equivalent.\n",
      "  warn(\n",
      "/Users/promilamalik/opt/anaconda3/lib/python3.9/site-packages/sklearn/model_selection/_validation.py:770: UserWarning: Scoring failed. The score on this train-test partition for these parameters will be set to nan. Details: \n",
      "Traceback (most recent call last):\n",
      "  File \"/Users/promilamalik/opt/anaconda3/lib/python3.9/site-packages/sklearn/model_selection/_validation.py\", line 761, in _score\n",
      "    scores = scorer(estimator, X_test, y_test)\n",
      "  File \"/Users/promilamalik/opt/anaconda3/lib/python3.9/site-packages/sklearn/metrics/_scorer.py\", line 216, in __call__\n",
      "    return self._score(\n",
      "  File \"/Users/promilamalik/opt/anaconda3/lib/python3.9/site-packages/sklearn/metrics/_scorer.py\", line 264, in _score\n",
      "    return self._sign * self._score_func(y_true, y_pred, **self._kwargs)\n",
      "  File \"/Users/promilamalik/opt/anaconda3/lib/python3.9/site-packages/sklearn/metrics/_classification.py\", line 211, in accuracy_score\n",
      "    y_type, y_true, y_pred = _check_targets(y_true, y_pred)\n",
      "  File \"/Users/promilamalik/opt/anaconda3/lib/python3.9/site-packages/sklearn/metrics/_classification.py\", line 104, in _check_targets\n",
      "    raise ValueError(\"{0} is not supported\".format(y_type))\n",
      "ValueError: continuous is not supported\n",
      "\n",
      "  warnings.warn(\n",
      "/Users/promilamalik/opt/anaconda3/lib/python3.9/site-packages/sklearn/ensemble/_forest.py:403: FutureWarning: Criterion 'mae' was deprecated in v1.0 and will be removed in version 1.2. Use `criterion='absolute_error'` which is equivalent.\n",
      "  warn(\n"
     ]
    },
    {
     "name": "stderr",
     "output_type": "stream",
     "text": [
      "/Users/promilamalik/opt/anaconda3/lib/python3.9/site-packages/sklearn/model_selection/_validation.py:770: UserWarning: Scoring failed. The score on this train-test partition for these parameters will be set to nan. Details: \n",
      "Traceback (most recent call last):\n",
      "  File \"/Users/promilamalik/opt/anaconda3/lib/python3.9/site-packages/sklearn/model_selection/_validation.py\", line 761, in _score\n",
      "    scores = scorer(estimator, X_test, y_test)\n",
      "  File \"/Users/promilamalik/opt/anaconda3/lib/python3.9/site-packages/sklearn/metrics/_scorer.py\", line 216, in __call__\n",
      "    return self._score(\n",
      "  File \"/Users/promilamalik/opt/anaconda3/lib/python3.9/site-packages/sklearn/metrics/_scorer.py\", line 264, in _score\n",
      "    return self._sign * self._score_func(y_true, y_pred, **self._kwargs)\n",
      "  File \"/Users/promilamalik/opt/anaconda3/lib/python3.9/site-packages/sklearn/metrics/_classification.py\", line 211, in accuracy_score\n",
      "    y_type, y_true, y_pred = _check_targets(y_true, y_pred)\n",
      "  File \"/Users/promilamalik/opt/anaconda3/lib/python3.9/site-packages/sklearn/metrics/_classification.py\", line 104, in _check_targets\n",
      "    raise ValueError(\"{0} is not supported\".format(y_type))\n",
      "ValueError: continuous is not supported\n",
      "\n",
      "  warnings.warn(\n",
      "/Users/promilamalik/opt/anaconda3/lib/python3.9/site-packages/sklearn/ensemble/_forest.py:403: FutureWarning: Criterion 'mae' was deprecated in v1.0 and will be removed in version 1.2. Use `criterion='absolute_error'` which is equivalent.\n",
      "  warn(\n",
      "/Users/promilamalik/opt/anaconda3/lib/python3.9/site-packages/sklearn/model_selection/_validation.py:770: UserWarning: Scoring failed. The score on this train-test partition for these parameters will be set to nan. Details: \n",
      "Traceback (most recent call last):\n",
      "  File \"/Users/promilamalik/opt/anaconda3/lib/python3.9/site-packages/sklearn/model_selection/_validation.py\", line 761, in _score\n",
      "    scores = scorer(estimator, X_test, y_test)\n",
      "  File \"/Users/promilamalik/opt/anaconda3/lib/python3.9/site-packages/sklearn/metrics/_scorer.py\", line 216, in __call__\n",
      "    return self._score(\n",
      "  File \"/Users/promilamalik/opt/anaconda3/lib/python3.9/site-packages/sklearn/metrics/_scorer.py\", line 264, in _score\n",
      "    return self._sign * self._score_func(y_true, y_pred, **self._kwargs)\n",
      "  File \"/Users/promilamalik/opt/anaconda3/lib/python3.9/site-packages/sklearn/metrics/_classification.py\", line 211, in accuracy_score\n",
      "    y_type, y_true, y_pred = _check_targets(y_true, y_pred)\n",
      "  File \"/Users/promilamalik/opt/anaconda3/lib/python3.9/site-packages/sklearn/metrics/_classification.py\", line 104, in _check_targets\n",
      "    raise ValueError(\"{0} is not supported\".format(y_type))\n",
      "ValueError: continuous is not supported\n",
      "\n",
      "  warnings.warn(\n",
      "/Users/promilamalik/opt/anaconda3/lib/python3.9/site-packages/sklearn/ensemble/_forest.py:403: FutureWarning: Criterion 'mae' was deprecated in v1.0 and will be removed in version 1.2. Use `criterion='absolute_error'` which is equivalent.\n",
      "  warn(\n",
      "/Users/promilamalik/opt/anaconda3/lib/python3.9/site-packages/sklearn/model_selection/_validation.py:770: UserWarning: Scoring failed. The score on this train-test partition for these parameters will be set to nan. Details: \n",
      "Traceback (most recent call last):\n",
      "  File \"/Users/promilamalik/opt/anaconda3/lib/python3.9/site-packages/sklearn/model_selection/_validation.py\", line 761, in _score\n",
      "    scores = scorer(estimator, X_test, y_test)\n",
      "  File \"/Users/promilamalik/opt/anaconda3/lib/python3.9/site-packages/sklearn/metrics/_scorer.py\", line 216, in __call__\n",
      "    return self._score(\n",
      "  File \"/Users/promilamalik/opt/anaconda3/lib/python3.9/site-packages/sklearn/metrics/_scorer.py\", line 264, in _score\n",
      "    return self._sign * self._score_func(y_true, y_pred, **self._kwargs)\n",
      "  File \"/Users/promilamalik/opt/anaconda3/lib/python3.9/site-packages/sklearn/metrics/_classification.py\", line 211, in accuracy_score\n",
      "    y_type, y_true, y_pred = _check_targets(y_true, y_pred)\n",
      "  File \"/Users/promilamalik/opt/anaconda3/lib/python3.9/site-packages/sklearn/metrics/_classification.py\", line 104, in _check_targets\n",
      "    raise ValueError(\"{0} is not supported\".format(y_type))\n",
      "ValueError: continuous is not supported\n",
      "\n",
      "  warnings.warn(\n",
      "/Users/promilamalik/opt/anaconda3/lib/python3.9/site-packages/sklearn/ensemble/_forest.py:403: FutureWarning: Criterion 'mae' was deprecated in v1.0 and will be removed in version 1.2. Use `criterion='absolute_error'` which is equivalent.\n",
      "  warn(\n",
      "/Users/promilamalik/opt/anaconda3/lib/python3.9/site-packages/sklearn/model_selection/_validation.py:770: UserWarning: Scoring failed. The score on this train-test partition for these parameters will be set to nan. Details: \n",
      "Traceback (most recent call last):\n",
      "  File \"/Users/promilamalik/opt/anaconda3/lib/python3.9/site-packages/sklearn/model_selection/_validation.py\", line 761, in _score\n",
      "    scores = scorer(estimator, X_test, y_test)\n",
      "  File \"/Users/promilamalik/opt/anaconda3/lib/python3.9/site-packages/sklearn/metrics/_scorer.py\", line 216, in __call__\n",
      "    return self._score(\n",
      "  File \"/Users/promilamalik/opt/anaconda3/lib/python3.9/site-packages/sklearn/metrics/_scorer.py\", line 264, in _score\n",
      "    return self._sign * self._score_func(y_true, y_pred, **self._kwargs)\n",
      "  File \"/Users/promilamalik/opt/anaconda3/lib/python3.9/site-packages/sklearn/metrics/_classification.py\", line 211, in accuracy_score\n",
      "    y_type, y_true, y_pred = _check_targets(y_true, y_pred)\n",
      "  File \"/Users/promilamalik/opt/anaconda3/lib/python3.9/site-packages/sklearn/metrics/_classification.py\", line 104, in _check_targets\n",
      "    raise ValueError(\"{0} is not supported\".format(y_type))\n",
      "ValueError: continuous is not supported\n",
      "\n",
      "  warnings.warn(\n",
      "/Users/promilamalik/opt/anaconda3/lib/python3.9/site-packages/sklearn/ensemble/_forest.py:403: FutureWarning: Criterion 'mae' was deprecated in v1.0 and will be removed in version 1.2. Use `criterion='absolute_error'` which is equivalent.\n",
      "  warn(\n",
      "/Users/promilamalik/opt/anaconda3/lib/python3.9/site-packages/sklearn/model_selection/_validation.py:770: UserWarning: Scoring failed. The score on this train-test partition for these parameters will be set to nan. Details: \n",
      "Traceback (most recent call last):\n",
      "  File \"/Users/promilamalik/opt/anaconda3/lib/python3.9/site-packages/sklearn/model_selection/_validation.py\", line 761, in _score\n",
      "    scores = scorer(estimator, X_test, y_test)\n",
      "  File \"/Users/promilamalik/opt/anaconda3/lib/python3.9/site-packages/sklearn/metrics/_scorer.py\", line 216, in __call__\n",
      "    return self._score(\n",
      "  File \"/Users/promilamalik/opt/anaconda3/lib/python3.9/site-packages/sklearn/metrics/_scorer.py\", line 264, in _score\n",
      "    return self._sign * self._score_func(y_true, y_pred, **self._kwargs)\n",
      "  File \"/Users/promilamalik/opt/anaconda3/lib/python3.9/site-packages/sklearn/metrics/_classification.py\", line 211, in accuracy_score\n",
      "    y_type, y_true, y_pred = _check_targets(y_true, y_pred)\n",
      "  File \"/Users/promilamalik/opt/anaconda3/lib/python3.9/site-packages/sklearn/metrics/_classification.py\", line 104, in _check_targets\n",
      "    raise ValueError(\"{0} is not supported\".format(y_type))\n",
      "ValueError: continuous is not supported\n",
      "\n",
      "  warnings.warn(\n",
      "/Users/promilamalik/opt/anaconda3/lib/python3.9/site-packages/sklearn/ensemble/_forest.py:403: FutureWarning: Criterion 'mae' was deprecated in v1.0 and will be removed in version 1.2. Use `criterion='absolute_error'` which is equivalent.\n",
      "  warn(\n",
      "/Users/promilamalik/opt/anaconda3/lib/python3.9/site-packages/sklearn/model_selection/_validation.py:770: UserWarning: Scoring failed. The score on this train-test partition for these parameters will be set to nan. Details: \n",
      "Traceback (most recent call last):\n",
      "  File \"/Users/promilamalik/opt/anaconda3/lib/python3.9/site-packages/sklearn/model_selection/_validation.py\", line 761, in _score\n",
      "    scores = scorer(estimator, X_test, y_test)\n",
      "  File \"/Users/promilamalik/opt/anaconda3/lib/python3.9/site-packages/sklearn/metrics/_scorer.py\", line 216, in __call__\n",
      "    return self._score(\n",
      "  File \"/Users/promilamalik/opt/anaconda3/lib/python3.9/site-packages/sklearn/metrics/_scorer.py\", line 264, in _score\n",
      "    return self._sign * self._score_func(y_true, y_pred, **self._kwargs)\n",
      "  File \"/Users/promilamalik/opt/anaconda3/lib/python3.9/site-packages/sklearn/metrics/_classification.py\", line 211, in accuracy_score\n",
      "    y_type, y_true, y_pred = _check_targets(y_true, y_pred)\n",
      "  File \"/Users/promilamalik/opt/anaconda3/lib/python3.9/site-packages/sklearn/metrics/_classification.py\", line 104, in _check_targets\n",
      "    raise ValueError(\"{0} is not supported\".format(y_type))\n",
      "ValueError: continuous is not supported\n",
      "\n",
      "  warnings.warn(\n",
      "/Users/promilamalik/opt/anaconda3/lib/python3.9/site-packages/sklearn/ensemble/_forest.py:403: FutureWarning: Criterion 'mae' was deprecated in v1.0 and will be removed in version 1.2. Use `criterion='absolute_error'` which is equivalent.\n",
      "  warn(\n"
     ]
    },
    {
     "name": "stderr",
     "output_type": "stream",
     "text": [
      "/Users/promilamalik/opt/anaconda3/lib/python3.9/site-packages/sklearn/model_selection/_validation.py:770: UserWarning: Scoring failed. The score on this train-test partition for these parameters will be set to nan. Details: \n",
      "Traceback (most recent call last):\n",
      "  File \"/Users/promilamalik/opt/anaconda3/lib/python3.9/site-packages/sklearn/model_selection/_validation.py\", line 761, in _score\n",
      "    scores = scorer(estimator, X_test, y_test)\n",
      "  File \"/Users/promilamalik/opt/anaconda3/lib/python3.9/site-packages/sklearn/metrics/_scorer.py\", line 216, in __call__\n",
      "    return self._score(\n",
      "  File \"/Users/promilamalik/opt/anaconda3/lib/python3.9/site-packages/sklearn/metrics/_scorer.py\", line 264, in _score\n",
      "    return self._sign * self._score_func(y_true, y_pred, **self._kwargs)\n",
      "  File \"/Users/promilamalik/opt/anaconda3/lib/python3.9/site-packages/sklearn/metrics/_classification.py\", line 211, in accuracy_score\n",
      "    y_type, y_true, y_pred = _check_targets(y_true, y_pred)\n",
      "  File \"/Users/promilamalik/opt/anaconda3/lib/python3.9/site-packages/sklearn/metrics/_classification.py\", line 104, in _check_targets\n",
      "    raise ValueError(\"{0} is not supported\".format(y_type))\n",
      "ValueError: continuous is not supported\n",
      "\n",
      "  warnings.warn(\n",
      "/Users/promilamalik/opt/anaconda3/lib/python3.9/site-packages/sklearn/ensemble/_forest.py:403: FutureWarning: Criterion 'mae' was deprecated in v1.0 and will be removed in version 1.2. Use `criterion='absolute_error'` which is equivalent.\n",
      "  warn(\n",
      "/Users/promilamalik/opt/anaconda3/lib/python3.9/site-packages/sklearn/model_selection/_validation.py:770: UserWarning: Scoring failed. The score on this train-test partition for these parameters will be set to nan. Details: \n",
      "Traceback (most recent call last):\n",
      "  File \"/Users/promilamalik/opt/anaconda3/lib/python3.9/site-packages/sklearn/model_selection/_validation.py\", line 761, in _score\n",
      "    scores = scorer(estimator, X_test, y_test)\n",
      "  File \"/Users/promilamalik/opt/anaconda3/lib/python3.9/site-packages/sklearn/metrics/_scorer.py\", line 216, in __call__\n",
      "    return self._score(\n",
      "  File \"/Users/promilamalik/opt/anaconda3/lib/python3.9/site-packages/sklearn/metrics/_scorer.py\", line 264, in _score\n",
      "    return self._sign * self._score_func(y_true, y_pred, **self._kwargs)\n",
      "  File \"/Users/promilamalik/opt/anaconda3/lib/python3.9/site-packages/sklearn/metrics/_classification.py\", line 211, in accuracy_score\n",
      "    y_type, y_true, y_pred = _check_targets(y_true, y_pred)\n",
      "  File \"/Users/promilamalik/opt/anaconda3/lib/python3.9/site-packages/sklearn/metrics/_classification.py\", line 104, in _check_targets\n",
      "    raise ValueError(\"{0} is not supported\".format(y_type))\n",
      "ValueError: continuous is not supported\n",
      "\n",
      "  warnings.warn(\n",
      "/Users/promilamalik/opt/anaconda3/lib/python3.9/site-packages/sklearn/ensemble/_forest.py:403: FutureWarning: Criterion 'mae' was deprecated in v1.0 and will be removed in version 1.2. Use `criterion='absolute_error'` which is equivalent.\n",
      "  warn(\n",
      "/Users/promilamalik/opt/anaconda3/lib/python3.9/site-packages/sklearn/model_selection/_validation.py:770: UserWarning: Scoring failed. The score on this train-test partition for these parameters will be set to nan. Details: \n",
      "Traceback (most recent call last):\n",
      "  File \"/Users/promilamalik/opt/anaconda3/lib/python3.9/site-packages/sklearn/model_selection/_validation.py\", line 761, in _score\n",
      "    scores = scorer(estimator, X_test, y_test)\n",
      "  File \"/Users/promilamalik/opt/anaconda3/lib/python3.9/site-packages/sklearn/metrics/_scorer.py\", line 216, in __call__\n",
      "    return self._score(\n",
      "  File \"/Users/promilamalik/opt/anaconda3/lib/python3.9/site-packages/sklearn/metrics/_scorer.py\", line 264, in _score\n",
      "    return self._sign * self._score_func(y_true, y_pred, **self._kwargs)\n",
      "  File \"/Users/promilamalik/opt/anaconda3/lib/python3.9/site-packages/sklearn/metrics/_classification.py\", line 211, in accuracy_score\n",
      "    y_type, y_true, y_pred = _check_targets(y_true, y_pred)\n",
      "  File \"/Users/promilamalik/opt/anaconda3/lib/python3.9/site-packages/sklearn/metrics/_classification.py\", line 104, in _check_targets\n",
      "    raise ValueError(\"{0} is not supported\".format(y_type))\n",
      "ValueError: continuous is not supported\n",
      "\n",
      "  warnings.warn(\n",
      "/Users/promilamalik/opt/anaconda3/lib/python3.9/site-packages/sklearn/ensemble/_forest.py:403: FutureWarning: Criterion 'mae' was deprecated in v1.0 and will be removed in version 1.2. Use `criterion='absolute_error'` which is equivalent.\n",
      "  warn(\n",
      "/Users/promilamalik/opt/anaconda3/lib/python3.9/site-packages/sklearn/model_selection/_validation.py:770: UserWarning: Scoring failed. The score on this train-test partition for these parameters will be set to nan. Details: \n",
      "Traceback (most recent call last):\n",
      "  File \"/Users/promilamalik/opt/anaconda3/lib/python3.9/site-packages/sklearn/model_selection/_validation.py\", line 761, in _score\n",
      "    scores = scorer(estimator, X_test, y_test)\n",
      "  File \"/Users/promilamalik/opt/anaconda3/lib/python3.9/site-packages/sklearn/metrics/_scorer.py\", line 216, in __call__\n",
      "    return self._score(\n",
      "  File \"/Users/promilamalik/opt/anaconda3/lib/python3.9/site-packages/sklearn/metrics/_scorer.py\", line 264, in _score\n",
      "    return self._sign * self._score_func(y_true, y_pred, **self._kwargs)\n",
      "  File \"/Users/promilamalik/opt/anaconda3/lib/python3.9/site-packages/sklearn/metrics/_classification.py\", line 211, in accuracy_score\n",
      "    y_type, y_true, y_pred = _check_targets(y_true, y_pred)\n",
      "  File \"/Users/promilamalik/opt/anaconda3/lib/python3.9/site-packages/sklearn/metrics/_classification.py\", line 104, in _check_targets\n",
      "    raise ValueError(\"{0} is not supported\".format(y_type))\n",
      "ValueError: continuous is not supported\n",
      "\n",
      "  warnings.warn(\n",
      "/Users/promilamalik/opt/anaconda3/lib/python3.9/site-packages/sklearn/ensemble/_forest.py:403: FutureWarning: Criterion 'mae' was deprecated in v1.0 and will be removed in version 1.2. Use `criterion='absolute_error'` which is equivalent.\n",
      "  warn(\n",
      "/Users/promilamalik/opt/anaconda3/lib/python3.9/site-packages/sklearn/model_selection/_validation.py:770: UserWarning: Scoring failed. The score on this train-test partition for these parameters will be set to nan. Details: \n",
      "Traceback (most recent call last):\n",
      "  File \"/Users/promilamalik/opt/anaconda3/lib/python3.9/site-packages/sklearn/model_selection/_validation.py\", line 761, in _score\n",
      "    scores = scorer(estimator, X_test, y_test)\n",
      "  File \"/Users/promilamalik/opt/anaconda3/lib/python3.9/site-packages/sklearn/metrics/_scorer.py\", line 216, in __call__\n",
      "    return self._score(\n",
      "  File \"/Users/promilamalik/opt/anaconda3/lib/python3.9/site-packages/sklearn/metrics/_scorer.py\", line 264, in _score\n",
      "    return self._sign * self._score_func(y_true, y_pred, **self._kwargs)\n",
      "  File \"/Users/promilamalik/opt/anaconda3/lib/python3.9/site-packages/sklearn/metrics/_classification.py\", line 211, in accuracy_score\n",
      "    y_type, y_true, y_pred = _check_targets(y_true, y_pred)\n",
      "  File \"/Users/promilamalik/opt/anaconda3/lib/python3.9/site-packages/sklearn/metrics/_classification.py\", line 104, in _check_targets\n",
      "    raise ValueError(\"{0} is not supported\".format(y_type))\n",
      "ValueError: continuous is not supported\n",
      "\n",
      "  warnings.warn(\n",
      "/Users/promilamalik/opt/anaconda3/lib/python3.9/site-packages/sklearn/ensemble/_forest.py:403: FutureWarning: Criterion 'mae' was deprecated in v1.0 and will be removed in version 1.2. Use `criterion='absolute_error'` which is equivalent.\n",
      "  warn(\n",
      "/Users/promilamalik/opt/anaconda3/lib/python3.9/site-packages/sklearn/model_selection/_validation.py:770: UserWarning: Scoring failed. The score on this train-test partition for these parameters will be set to nan. Details: \n",
      "Traceback (most recent call last):\n",
      "  File \"/Users/promilamalik/opt/anaconda3/lib/python3.9/site-packages/sklearn/model_selection/_validation.py\", line 761, in _score\n",
      "    scores = scorer(estimator, X_test, y_test)\n",
      "  File \"/Users/promilamalik/opt/anaconda3/lib/python3.9/site-packages/sklearn/metrics/_scorer.py\", line 216, in __call__\n",
      "    return self._score(\n",
      "  File \"/Users/promilamalik/opt/anaconda3/lib/python3.9/site-packages/sklearn/metrics/_scorer.py\", line 264, in _score\n",
      "    return self._sign * self._score_func(y_true, y_pred, **self._kwargs)\n",
      "  File \"/Users/promilamalik/opt/anaconda3/lib/python3.9/site-packages/sklearn/metrics/_classification.py\", line 211, in accuracy_score\n",
      "    y_type, y_true, y_pred = _check_targets(y_true, y_pred)\n",
      "  File \"/Users/promilamalik/opt/anaconda3/lib/python3.9/site-packages/sklearn/metrics/_classification.py\", line 104, in _check_targets\n",
      "    raise ValueError(\"{0} is not supported\".format(y_type))\n",
      "ValueError: continuous is not supported\n",
      "\n",
      "  warnings.warn(\n"
     ]
    },
    {
     "name": "stderr",
     "output_type": "stream",
     "text": [
      "/Users/promilamalik/opt/anaconda3/lib/python3.9/site-packages/sklearn/ensemble/_forest.py:403: FutureWarning: Criterion 'mae' was deprecated in v1.0 and will be removed in version 1.2. Use `criterion='absolute_error'` which is equivalent.\n",
      "  warn(\n",
      "/Users/promilamalik/opt/anaconda3/lib/python3.9/site-packages/sklearn/model_selection/_validation.py:770: UserWarning: Scoring failed. The score on this train-test partition for these parameters will be set to nan. Details: \n",
      "Traceback (most recent call last):\n",
      "  File \"/Users/promilamalik/opt/anaconda3/lib/python3.9/site-packages/sklearn/model_selection/_validation.py\", line 761, in _score\n",
      "    scores = scorer(estimator, X_test, y_test)\n",
      "  File \"/Users/promilamalik/opt/anaconda3/lib/python3.9/site-packages/sklearn/metrics/_scorer.py\", line 216, in __call__\n",
      "    return self._score(\n",
      "  File \"/Users/promilamalik/opt/anaconda3/lib/python3.9/site-packages/sklearn/metrics/_scorer.py\", line 264, in _score\n",
      "    return self._sign * self._score_func(y_true, y_pred, **self._kwargs)\n",
      "  File \"/Users/promilamalik/opt/anaconda3/lib/python3.9/site-packages/sklearn/metrics/_classification.py\", line 211, in accuracy_score\n",
      "    y_type, y_true, y_pred = _check_targets(y_true, y_pred)\n",
      "  File \"/Users/promilamalik/opt/anaconda3/lib/python3.9/site-packages/sklearn/metrics/_classification.py\", line 104, in _check_targets\n",
      "    raise ValueError(\"{0} is not supported\".format(y_type))\n",
      "ValueError: continuous is not supported\n",
      "\n",
      "  warnings.warn(\n",
      "/Users/promilamalik/opt/anaconda3/lib/python3.9/site-packages/sklearn/ensemble/_forest.py:403: FutureWarning: Criterion 'mae' was deprecated in v1.0 and will be removed in version 1.2. Use `criterion='absolute_error'` which is equivalent.\n",
      "  warn(\n",
      "/Users/promilamalik/opt/anaconda3/lib/python3.9/site-packages/sklearn/model_selection/_validation.py:770: UserWarning: Scoring failed. The score on this train-test partition for these parameters will be set to nan. Details: \n",
      "Traceback (most recent call last):\n",
      "  File \"/Users/promilamalik/opt/anaconda3/lib/python3.9/site-packages/sklearn/model_selection/_validation.py\", line 761, in _score\n",
      "    scores = scorer(estimator, X_test, y_test)\n",
      "  File \"/Users/promilamalik/opt/anaconda3/lib/python3.9/site-packages/sklearn/metrics/_scorer.py\", line 216, in __call__\n",
      "    return self._score(\n",
      "  File \"/Users/promilamalik/opt/anaconda3/lib/python3.9/site-packages/sklearn/metrics/_scorer.py\", line 264, in _score\n",
      "    return self._sign * self._score_func(y_true, y_pred, **self._kwargs)\n",
      "  File \"/Users/promilamalik/opt/anaconda3/lib/python3.9/site-packages/sklearn/metrics/_classification.py\", line 211, in accuracy_score\n",
      "    y_type, y_true, y_pred = _check_targets(y_true, y_pred)\n",
      "  File \"/Users/promilamalik/opt/anaconda3/lib/python3.9/site-packages/sklearn/metrics/_classification.py\", line 104, in _check_targets\n",
      "    raise ValueError(\"{0} is not supported\".format(y_type))\n",
      "ValueError: continuous is not supported\n",
      "\n",
      "  warnings.warn(\n",
      "/Users/promilamalik/opt/anaconda3/lib/python3.9/site-packages/sklearn/ensemble/_forest.py:403: FutureWarning: Criterion 'mae' was deprecated in v1.0 and will be removed in version 1.2. Use `criterion='absolute_error'` which is equivalent.\n",
      "  warn(\n",
      "/Users/promilamalik/opt/anaconda3/lib/python3.9/site-packages/sklearn/model_selection/_validation.py:770: UserWarning: Scoring failed. The score on this train-test partition for these parameters will be set to nan. Details: \n",
      "Traceback (most recent call last):\n",
      "  File \"/Users/promilamalik/opt/anaconda3/lib/python3.9/site-packages/sklearn/model_selection/_validation.py\", line 761, in _score\n",
      "    scores = scorer(estimator, X_test, y_test)\n",
      "  File \"/Users/promilamalik/opt/anaconda3/lib/python3.9/site-packages/sklearn/metrics/_scorer.py\", line 216, in __call__\n",
      "    return self._score(\n",
      "  File \"/Users/promilamalik/opt/anaconda3/lib/python3.9/site-packages/sklearn/metrics/_scorer.py\", line 264, in _score\n",
      "    return self._sign * self._score_func(y_true, y_pred, **self._kwargs)\n",
      "  File \"/Users/promilamalik/opt/anaconda3/lib/python3.9/site-packages/sklearn/metrics/_classification.py\", line 211, in accuracy_score\n",
      "    y_type, y_true, y_pred = _check_targets(y_true, y_pred)\n",
      "  File \"/Users/promilamalik/opt/anaconda3/lib/python3.9/site-packages/sklearn/metrics/_classification.py\", line 104, in _check_targets\n",
      "    raise ValueError(\"{0} is not supported\".format(y_type))\n",
      "ValueError: continuous is not supported\n",
      "\n",
      "  warnings.warn(\n",
      "/Users/promilamalik/opt/anaconda3/lib/python3.9/site-packages/sklearn/ensemble/_forest.py:403: FutureWarning: Criterion 'mae' was deprecated in v1.0 and will be removed in version 1.2. Use `criterion='absolute_error'` which is equivalent.\n",
      "  warn(\n",
      "/Users/promilamalik/opt/anaconda3/lib/python3.9/site-packages/sklearn/model_selection/_validation.py:770: UserWarning: Scoring failed. The score on this train-test partition for these parameters will be set to nan. Details: \n",
      "Traceback (most recent call last):\n",
      "  File \"/Users/promilamalik/opt/anaconda3/lib/python3.9/site-packages/sklearn/model_selection/_validation.py\", line 761, in _score\n",
      "    scores = scorer(estimator, X_test, y_test)\n",
      "  File \"/Users/promilamalik/opt/anaconda3/lib/python3.9/site-packages/sklearn/metrics/_scorer.py\", line 216, in __call__\n",
      "    return self._score(\n",
      "  File \"/Users/promilamalik/opt/anaconda3/lib/python3.9/site-packages/sklearn/metrics/_scorer.py\", line 264, in _score\n",
      "    return self._sign * self._score_func(y_true, y_pred, **self._kwargs)\n",
      "  File \"/Users/promilamalik/opt/anaconda3/lib/python3.9/site-packages/sklearn/metrics/_classification.py\", line 211, in accuracy_score\n",
      "    y_type, y_true, y_pred = _check_targets(y_true, y_pred)\n",
      "  File \"/Users/promilamalik/opt/anaconda3/lib/python3.9/site-packages/sklearn/metrics/_classification.py\", line 104, in _check_targets\n",
      "    raise ValueError(\"{0} is not supported\".format(y_type))\n",
      "ValueError: continuous is not supported\n",
      "\n",
      "  warnings.warn(\n",
      "/Users/promilamalik/opt/anaconda3/lib/python3.9/site-packages/sklearn/ensemble/_forest.py:403: FutureWarning: Criterion 'mae' was deprecated in v1.0 and will be removed in version 1.2. Use `criterion='absolute_error'` which is equivalent.\n",
      "  warn(\n",
      "/Users/promilamalik/opt/anaconda3/lib/python3.9/site-packages/sklearn/model_selection/_validation.py:770: UserWarning: Scoring failed. The score on this train-test partition for these parameters will be set to nan. Details: \n",
      "Traceback (most recent call last):\n",
      "  File \"/Users/promilamalik/opt/anaconda3/lib/python3.9/site-packages/sklearn/model_selection/_validation.py\", line 761, in _score\n",
      "    scores = scorer(estimator, X_test, y_test)\n",
      "  File \"/Users/promilamalik/opt/anaconda3/lib/python3.9/site-packages/sklearn/metrics/_scorer.py\", line 216, in __call__\n",
      "    return self._score(\n",
      "  File \"/Users/promilamalik/opt/anaconda3/lib/python3.9/site-packages/sklearn/metrics/_scorer.py\", line 264, in _score\n",
      "    return self._sign * self._score_func(y_true, y_pred, **self._kwargs)\n",
      "  File \"/Users/promilamalik/opt/anaconda3/lib/python3.9/site-packages/sklearn/metrics/_classification.py\", line 211, in accuracy_score\n",
      "    y_type, y_true, y_pred = _check_targets(y_true, y_pred)\n",
      "  File \"/Users/promilamalik/opt/anaconda3/lib/python3.9/site-packages/sklearn/metrics/_classification.py\", line 104, in _check_targets\n",
      "    raise ValueError(\"{0} is not supported\".format(y_type))\n",
      "ValueError: continuous is not supported\n",
      "\n",
      "  warnings.warn(\n",
      "/Users/promilamalik/opt/anaconda3/lib/python3.9/site-packages/sklearn/model_selection/_validation.py:770: UserWarning: Scoring failed. The score on this train-test partition for these parameters will be set to nan. Details: \n",
      "Traceback (most recent call last):\n",
      "  File \"/Users/promilamalik/opt/anaconda3/lib/python3.9/site-packages/sklearn/model_selection/_validation.py\", line 761, in _score\n",
      "    scores = scorer(estimator, X_test, y_test)\n",
      "  File \"/Users/promilamalik/opt/anaconda3/lib/python3.9/site-packages/sklearn/metrics/_scorer.py\", line 216, in __call__\n",
      "    return self._score(\n",
      "  File \"/Users/promilamalik/opt/anaconda3/lib/python3.9/site-packages/sklearn/metrics/_scorer.py\", line 264, in _score\n",
      "    return self._sign * self._score_func(y_true, y_pred, **self._kwargs)\n",
      "  File \"/Users/promilamalik/opt/anaconda3/lib/python3.9/site-packages/sklearn/metrics/_classification.py\", line 211, in accuracy_score\n",
      "    y_type, y_true, y_pred = _check_targets(y_true, y_pred)\n",
      "  File \"/Users/promilamalik/opt/anaconda3/lib/python3.9/site-packages/sklearn/metrics/_classification.py\", line 104, in _check_targets\n",
      "    raise ValueError(\"{0} is not supported\".format(y_type))\n",
      "ValueError: continuous is not supported\n",
      "\n",
      "  warnings.warn(\n"
     ]
    },
    {
     "name": "stderr",
     "output_type": "stream",
     "text": [
      "/Users/promilamalik/opt/anaconda3/lib/python3.9/site-packages/sklearn/model_selection/_validation.py:770: UserWarning: Scoring failed. The score on this train-test partition for these parameters will be set to nan. Details: \n",
      "Traceback (most recent call last):\n",
      "  File \"/Users/promilamalik/opt/anaconda3/lib/python3.9/site-packages/sklearn/model_selection/_validation.py\", line 761, in _score\n",
      "    scores = scorer(estimator, X_test, y_test)\n",
      "  File \"/Users/promilamalik/opt/anaconda3/lib/python3.9/site-packages/sklearn/metrics/_scorer.py\", line 216, in __call__\n",
      "    return self._score(\n",
      "  File \"/Users/promilamalik/opt/anaconda3/lib/python3.9/site-packages/sklearn/metrics/_scorer.py\", line 264, in _score\n",
      "    return self._sign * self._score_func(y_true, y_pred, **self._kwargs)\n",
      "  File \"/Users/promilamalik/opt/anaconda3/lib/python3.9/site-packages/sklearn/metrics/_classification.py\", line 211, in accuracy_score\n",
      "    y_type, y_true, y_pred = _check_targets(y_true, y_pred)\n",
      "  File \"/Users/promilamalik/opt/anaconda3/lib/python3.9/site-packages/sklearn/metrics/_classification.py\", line 104, in _check_targets\n",
      "    raise ValueError(\"{0} is not supported\".format(y_type))\n",
      "ValueError: continuous is not supported\n",
      "\n",
      "  warnings.warn(\n",
      "/Users/promilamalik/opt/anaconda3/lib/python3.9/site-packages/sklearn/model_selection/_validation.py:770: UserWarning: Scoring failed. The score on this train-test partition for these parameters will be set to nan. Details: \n",
      "Traceback (most recent call last):\n",
      "  File \"/Users/promilamalik/opt/anaconda3/lib/python3.9/site-packages/sklearn/model_selection/_validation.py\", line 761, in _score\n",
      "    scores = scorer(estimator, X_test, y_test)\n",
      "  File \"/Users/promilamalik/opt/anaconda3/lib/python3.9/site-packages/sklearn/metrics/_scorer.py\", line 216, in __call__\n",
      "    return self._score(\n",
      "  File \"/Users/promilamalik/opt/anaconda3/lib/python3.9/site-packages/sklearn/metrics/_scorer.py\", line 264, in _score\n",
      "    return self._sign * self._score_func(y_true, y_pred, **self._kwargs)\n",
      "  File \"/Users/promilamalik/opt/anaconda3/lib/python3.9/site-packages/sklearn/metrics/_classification.py\", line 211, in accuracy_score\n",
      "    y_type, y_true, y_pred = _check_targets(y_true, y_pred)\n",
      "  File \"/Users/promilamalik/opt/anaconda3/lib/python3.9/site-packages/sklearn/metrics/_classification.py\", line 104, in _check_targets\n",
      "    raise ValueError(\"{0} is not supported\".format(y_type))\n",
      "ValueError: continuous is not supported\n",
      "\n",
      "  warnings.warn(\n"
     ]
    }
   ],
   "source": [
    "GF_grid=GridSearchCV(RandomForestRegressor(),param,cv=10,scoring='accuracy',n_jobs=-1,verbose=2)\n",
    "GF_grid.fit(x_train,y_train)\n",
    "GF_grid_pred=GF_grid.best_estimator_.predict(x_test)"
   ]
  },
  {
   "cell_type": "code",
   "execution_count": 62,
   "id": "0978a6da",
   "metadata": {},
   "outputs": [
    {
     "data": {
      "text/plain": [
       "{'criterion': 'mse', 'n_estimators': 100}"
      ]
     },
     "execution_count": 62,
     "metadata": {},
     "output_type": "execute_result"
    }
   ],
   "source": [
    "GF_grid.best_params_"
   ]
  },
  {
   "cell_type": "code",
   "execution_count": 63,
   "id": "d312e8de",
   "metadata": {},
   "outputs": [
    {
     "name": "stdout",
     "output_type": "stream",
     "text": [
      "MSE: 0.5357107764393741\n",
      "MAE: 0.554128618224039\n",
      "r2_score: 0.33841769366977725\n"
     ]
    }
   ],
   "source": [
    "print('MSE:',mean_squared_error(GF_grid_pred,y_test))\n",
    "print('MAE:',mean_absolute_error(GF_grid_pred,y_test))\n",
    "print('r2_score:',r2_score(GF_grid_pred,y_test))"
   ]
  },
  {
   "cell_type": "code",
   "execution_count": 64,
   "id": "5cab1f8d",
   "metadata": {},
   "outputs": [
    {
     "data": {
      "text/plain": [
       "<AxesSubplot:xlabel='capacity_mw', ylabel='Density'>"
      ]
     },
     "execution_count": 64,
     "metadata": {},
     "output_type": "execute_result"
    },
    {
     "data": {
      "image/png": "[encoded data removed]",
      "text/plain": [
       "<Figure size 432x288 with 1 Axes>"
      ]
     },
     "metadata": {},
     "output_type": "display_data"
    }
   ],
   "source": [
    "sns.distplot(GF_grid_pred-y_test)"
   ]
  },
  {
   "cell_type": "code",
   "execution_count": 65,
   "id": "a87ffbdf",
   "metadata": {},
   "outputs": [
    {
     "data": {
      "text/plain": [
       "[<matplotlib.lines.Line2D at 0x7fa7d3a237c0>]"
      ]
     },
     "execution_count": 65,
     "metadata": {},
     "output_type": "execute_result"
    },
    {
     "data": {
      "image/png": "[encoded data removed]",
      "text/plain": [
       "<Figure size 432x288 with 1 Axes>"
      ]
     },
     "metadata": {},
     "output_type": "display_data"
    }
   ],
   "source": [
    "plt.scatter(GF_grid_pred,y_test)\n",
    "plt.plot(y_test,y_test,linewidth=2,color='Red')"
   ]
  },
  {
   "cell_type": "markdown",
   "id": "b6b7274c",
   "metadata": {},
   "source": [
    "# 'primary_fuel' AS TARGET , CREATING CLASSIFICATION MODEL"
   ]
  },
  {
   "cell_type": "markdown",
   "id": "4345d8b5",
   "metadata": {},
   "source": [
    "# Dividing data into X and Y"
   ]
  },
  {
   "cell_type": "code",
   "execution_count": 67,
   "id": "6fd635bb",
   "metadata": {},
   "outputs": [],
   "source": [
    "x=df.drop(['primary_fuel'],axis=1)\n",
    "y=df['primary_fuel']"
   ]
  },
  {
   "cell_type": "code",
   "execution_count": 68,
   "id": "08968551",
   "metadata": {},
   "outputs": [
    {
     "data": {
      "text/plain": [
       "(907, 5)"
      ]
     },
     "execution_count": 68,
     "metadata": {},
     "output_type": "execute_result"
    }
   ],
   "source": [
    "x.shape"
   ]
  },
  {
   "cell_type": "code",
   "execution_count": 69,
   "id": "4089270a",
   "metadata": {},
   "outputs": [
    {
     "data": {
      "text/plain": [
       "(907,)"
      ]
     },
     "execution_count": 69,
     "metadata": {},
     "output_type": "execute_result"
    }
   ],
   "source": [
    "\n",
    "y.shape"
   ]
  },
  {
   "cell_type": "code",
   "execution_count": 70,
   "id": "a16c2fef",
   "metadata": {},
   "outputs": [],
   "source": [
    "from sklearn.model_selection import train_test_split"
   ]
  },
  {
   "cell_type": "code",
   "execution_count": 71,
   "id": "e0a452de",
   "metadata": {},
   "outputs": [],
   "source": [
    "x_train,x_test,y_train,y_test=train_test_split(x,y,test_size=.27,random_state=42)"
   ]
  },
  {
   "cell_type": "code",
   "execution_count": 72,
   "id": "914cc69b",
   "metadata": {},
   "outputs": [
    {
     "data": {
      "text/plain": [
       "(662, 5)"
      ]
     },
     "execution_count": 72,
     "metadata": {},
     "output_type": "execute_result"
    }
   ],
   "source": [
    "x_train.shape"
   ]
  },
  {
   "cell_type": "code",
   "execution_count": 73,
   "id": "691db50a",
   "metadata": {},
   "outputs": [
    {
     "data": {
      "text/plain": [
       "(245, 5)"
      ]
     },
     "execution_count": 73,
     "metadata": {},
     "output_type": "execute_result"
    }
   ],
   "source": [
    "x_test.shape"
   ]
  },
  {
   "cell_type": "code",
   "execution_count": 74,
   "id": "e491882c",
   "metadata": {},
   "outputs": [
    {
     "data": {
      "text/plain": [
       "(662,)"
      ]
     },
     "execution_count": 74,
     "metadata": {},
     "output_type": "execute_result"
    }
   ],
   "source": [
    "y_train.shape"
   ]
  },
  {
   "cell_type": "code",
   "execution_count": 75,
   "id": "c015af9a",
   "metadata": {},
   "outputs": [
    {
     "data": {
      "text/plain": [
       "(245,)"
      ]
     },
     "execution_count": 75,
     "metadata": {},
     "output_type": "execute_result"
    }
   ],
   "source": [
    "y_test.shape"
   ]
  },
  {
   "cell_type": "code",
   "execution_count": 76,
   "id": "e7ff59b0",
   "metadata": {},
   "outputs": [],
   "source": [
    "from sklearn.linear_model import LogisticRegression\n",
    "\n",
    "from sklearn.svm import SVC\n",
    "from sklearn.tree import DecisionTreeClassifier\n",
    "from sklearn.neighbors import KNeighborsClassifier\n",
    "from sklearn.model_selection import train_test_split\n",
    "from sklearn.metrics import accuracy_score,confusion_matrix,classification_report\n",
    "from sklearn.ensemble import RandomForestClassifier\n",
    "from sklearn.ensemble import AdaBoostClassifier\n",
    "from sklearn.ensemble import BaggingClassifier\n",
    "from sklearn.ensemble import GradientBoostingClassifier\n",
    "from sklearn.model_selection import GridSearchCV\n",
    "from sklearn.metrics import precision_score\n",
    "from sklearn.metrics import recall_score\n",
    "from sklearn.metrics import f1_score\n",
    "\n",
    "import warnings\n",
    "from sklearn.model_selection import cross_val_score\n",
    "warnings.filterwarnings('ignore')"
   ]
  },
  {
   "cell_type": "markdown",
   "id": "7c4a865c",
   "metadata": {},
   "source": [
    "# Logistic Regression"
   ]
  },
  {
   "cell_type": "code",
   "execution_count": 77,
   "id": "8ba6a9e6",
   "metadata": {},
   "outputs": [
    {
     "name": "stdout",
     "output_type": "stream",
     "text": [
      "cross validation score: 0.667008681925809\n"
     ]
    }
   ],
   "source": [
    "logreg=LogisticRegression()\n",
    "logreg_score=cross_val_score(logreg,x,y,cv=5,scoring='accuracy')\n",
    "print(\"cross validation score:\",np.mean(logreg_score))"
   ]
  },
  {
   "cell_type": "code",
   "execution_count": 78,
   "id": "3f1c67e2",
   "metadata": {},
   "outputs": [
    {
     "name": "stdout",
     "output_type": "stream",
     "text": [
      "0.6775510204081633\n",
      "[[ 4  2  0  1  0  0  0  1]\n",
      " [ 1 52  0  9  0  0  3  0]\n",
      " [ 1 13  0  8  0  0  0  1]\n",
      " [ 0 18  0 59  0  0  0  0]\n",
      " [ 0  3  0  0  0  0  0  0]\n",
      " [ 0  4  0  4  0  0  0  0]\n",
      " [ 0  4  0  0  0  0 16  3]\n",
      " [ 0  0  0  0  0  0  3 35]]\n",
      "              precision    recall  f1-score   support\n",
      "\n",
      "           0       0.67      0.50      0.57         8\n",
      "           1       0.54      0.80      0.65        65\n",
      "           2       0.00      0.00      0.00        23\n",
      "           3       0.73      0.77      0.75        77\n",
      "           4       0.00      0.00      0.00         3\n",
      "           5       0.00      0.00      0.00         8\n",
      "           6       0.73      0.70      0.71        23\n",
      "           7       0.88      0.92      0.90        38\n",
      "\n",
      "    accuracy                           0.68       245\n",
      "   macro avg       0.44      0.46      0.45       245\n",
      "weighted avg       0.60      0.68      0.63       245\n",
      "\n",
      "Training accuracy:: 0.6782477341389728\n",
      "Test accuracy:: 0.6775510204081633\n"
     ]
    }
   ],
   "source": [
    "logreg.fit(x_train,y_train)\n",
    "LR_predicted=logreg.predict(x_test)\n",
    "\n",
    "print(accuracy_score(y_test,LR_predicted))\n",
    "print(confusion_matrix(y_test,LR_predicted))\n",
    "print(classification_report(y_test,LR_predicted))\n",
    "print(\"Training accuracy::\",logreg.score(x_train,y_train))\n",
    "print(\"Test accuracy::\",logreg.score(x_test,y_test))\n"
   ]
  },
  {
   "cell_type": "markdown",
   "id": "a85f24d4",
   "metadata": {},
   "source": [
    "# Decision Tree Classifier "
   ]
  },
  {
   "cell_type": "code",
   "execution_count": 79,
   "id": "8b47ea42",
   "metadata": {},
   "outputs": [
    {
     "name": "stdout",
     "output_type": "stream",
     "text": [
      "cross validation score for svm: 0.7189059559225305\n"
     ]
    }
   ],
   "source": [
    "dtc=DecisionTreeClassifier()\n",
    "dtc_score=cross_val_score(dtc,x,y,cv=5,scoring='accuracy')\n",
    "print(\"cross validation score for svm:\",np.mean(dtc_score))"
   ]
  },
  {
   "cell_type": "code",
   "execution_count": 80,
   "id": "e56238f8",
   "metadata": {},
   "outputs": [
    {
     "name": "stdout",
     "output_type": "stream",
     "text": [
      "0.7142857142857143\n",
      "[[ 5  3  0  0  0  0  0  0]\n",
      " [ 4 42  8 11  0  0  0  0]\n",
      " [ 1  9  4  9  0  0  0  0]\n",
      " [ 0 11  3 61  0  2  0  0]\n",
      " [ 0  1  0  1  1  0  0  0]\n",
      " [ 0  2  1  3  0  2  0  0]\n",
      " [ 0  0  0  0  0  0 23  0]\n",
      " [ 0  0  0  0  0  0  1 37]]\n",
      "              precision    recall  f1-score   support\n",
      "\n",
      "           0       0.50      0.62      0.56         8\n",
      "           1       0.62      0.65      0.63        65\n",
      "           2       0.25      0.17      0.21        23\n",
      "           3       0.72      0.79      0.75        77\n",
      "           4       1.00      0.33      0.50         3\n",
      "           5       0.50      0.25      0.33         8\n",
      "           6       0.96      1.00      0.98        23\n",
      "           7       1.00      0.97      0.99        38\n",
      "\n",
      "    accuracy                           0.71       245\n",
      "   macro avg       0.69      0.60      0.62       245\n",
      "weighted avg       0.70      0.71      0.70       245\n",
      "\n",
      "Training accuracy:: 1.0\n",
      "Test accuracy:: 0.7142857142857143\n"
     ]
    }
   ],
   "source": [
    "dtc.fit(x_train,y_train)\n",
    "predicted_dtc=dtc.predict(x_test)\n",
    "print(accuracy_score(y_test,predicted_dtc))\n",
    "print(confusion_matrix(y_test,predicted_dtc))\n",
    "print(classification_report(y_test,predicted_dtc))\n",
    "print(\"Training accuracy::\",dtc.score(x_train,y_train))\n",
    "print(\"Test accuracy::\",dtc.score(x_test,y_test))"
   ]
  },
  {
   "cell_type": "markdown",
   "id": "aba3c2e8",
   "metadata": {},
   "source": [
    "# KNeighbors Classifier"
   ]
  },
  {
   "cell_type": "code",
   "execution_count": 81,
   "id": "3b3c9e63",
   "metadata": {},
   "outputs": [
    {
     "name": "stdout",
     "output_type": "stream",
     "text": [
      "cross validation score for knn: 0.5215773177099143\n"
     ]
    }
   ],
   "source": [
    "knn=KNeighborsClassifier()\n",
    "knn_score=cross_val_score(knn,x,y,cv=5,scoring='accuracy')\n",
    "print(\"cross validation score for knn:\",np.mean(knn_score))"
   ]
  },
  {
   "cell_type": "code",
   "execution_count": 82,
   "id": "a685297f",
   "metadata": {},
   "outputs": [
    {
     "name": "stdout",
     "output_type": "stream",
     "text": [
      "0.5918367346938775\n",
      "[[ 7  1  0  0  0  0  0  0]\n",
      " [ 3 36  4 22  0  0  0  0]\n",
      " [ 2 10  2  9  0  0  0  0]\n",
      " [ 0 35  3 39  0  0  0  0]\n",
      " [ 0  2  0  1  0  0  0  0]\n",
      " [ 0  5  1  2  0  0  0  0]\n",
      " [ 0  0  0  0  0  0 23  0]\n",
      " [ 0  0  0  0  0  0  0 38]]\n",
      "              precision    recall  f1-score   support\n",
      "\n",
      "           0       0.58      0.88      0.70         8\n",
      "           1       0.40      0.55      0.47        65\n",
      "           2       0.20      0.09      0.12        23\n",
      "           3       0.53      0.51      0.52        77\n",
      "           4       0.00      0.00      0.00         3\n",
      "           5       0.00      0.00      0.00         8\n",
      "           6       1.00      1.00      1.00        23\n",
      "           7       1.00      1.00      1.00        38\n",
      "\n",
      "    accuracy                           0.59       245\n",
      "   macro avg       0.47      0.50      0.48       245\n",
      "weighted avg       0.56      0.59      0.57       245\n",
      "\n",
      "Training accuracy:: 0.7250755287009063\n",
      "Test accuracy:: 0.5918367346938775\n"
     ]
    }
   ],
   "source": [
    "knn.fit(x_train,y_train)\n",
    "predicted_knn=knn.predict(x_test)\n",
    "print(accuracy_score(y_test,predicted_knn))\n",
    "print(confusion_matrix(y_test,predicted_knn))\n",
    "print(classification_report(y_test,predicted_knn))\n",
    "print(\"Training accuracy::\",knn.score(x_train,y_train))\n",
    "print(\"Test accuracy::\",knn.score(x_test,y_test))"
   ]
  },
  {
   "cell_type": "markdown",
   "id": "7a52780b",
   "metadata": {},
   "source": [
    "# Random Forest Classifier"
   ]
  },
  {
   "cell_type": "code",
   "execution_count": 83,
   "id": "8a363ba3",
   "metadata": {},
   "outputs": [
    {
     "name": "stdout",
     "output_type": "stream",
     "text": [
      "cross validation score for rfc: 0.759765648715925\n"
     ]
    }
   ],
   "source": [
    "rfc=RandomForestClassifier()\n",
    "rfc_score=cross_val_score(rfc,x,y,cv=5,scoring='accuracy')\n",
    "print(\"cross validation score for rfc:\",np.mean(rfc_score))"
   ]
  },
  {
   "cell_type": "code",
   "execution_count": 84,
   "id": "17946c56",
   "metadata": {},
   "outputs": [
    {
     "name": "stdout",
     "output_type": "stream",
     "text": [
      "0.7551020408163265\n",
      "[[ 6  2  0  0  0  0  0  0]\n",
      " [ 4 49  4  8  0  0  0  0]\n",
      " [ 1 12  3  7  0  0  0  0]\n",
      " [ 0 10  1 66  0  0  0  0]\n",
      " [ 0  1  1  1  0  0  0  0]\n",
      " [ 0  2  1  5  0  0  0  0]\n",
      " [ 0  0  0  0  0  0 23  0]\n",
      " [ 0  0  0  0  0  0  0 38]]\n",
      "              precision    recall  f1-score   support\n",
      "\n",
      "           0       0.55      0.75      0.63         8\n",
      "           1       0.64      0.75      0.70        65\n",
      "           2       0.30      0.13      0.18        23\n",
      "           3       0.76      0.86      0.80        77\n",
      "           4       0.00      0.00      0.00         3\n",
      "           5       0.00      0.00      0.00         8\n",
      "           6       1.00      1.00      1.00        23\n",
      "           7       1.00      1.00      1.00        38\n",
      "\n",
      "    accuracy                           0.76       245\n",
      "   macro avg       0.53      0.56      0.54       245\n",
      "weighted avg       0.70      0.76      0.72       245\n",
      "\n",
      "Training accuracy:: 1.0\n",
      "Test accuracy:: 0.7551020408163265\n"
     ]
    }
   ],
   "source": [
    "rfc.fit(x_train,y_train)\n",
    "predicted_rfc=rfc.predict(x_test)\n",
    "print(accuracy_score(y_test,predicted_rfc))\n",
    "print(confusion_matrix(y_test,predicted_rfc))\n",
    "print(classification_report(y_test,predicted_rfc))\n",
    "print(\"Training accuracy::\",rfc.score(x_train,y_train))\n",
    "print(\"Test accuracy::\",rfc.score(x_test,y_test))"
   ]
  },
  {
   "cell_type": "markdown",
   "id": "705e0e71",
   "metadata": {},
   "source": [
    "# Ada Boost Classifier"
   ]
  },
  {
   "cell_type": "code",
   "execution_count": 85,
   "id": "edf1714a",
   "metadata": {},
   "outputs": [
    {
     "name": "stdout",
     "output_type": "stream",
     "text": [
      "cross validation score for Ada boost: 0.4807203907203907\n"
     ]
    }
   ],
   "source": [
    "adb=AdaBoostClassifier()\n",
    "adb_score=cross_val_score(adb,x,y,cv=10,scoring='accuracy')\n",
    "print(\"cross validation score for Ada boost:\",np.mean(adb_score))"
   ]
  },
  {
   "cell_type": "code",
   "execution_count": 86,
   "id": "c11fd970",
   "metadata": {},
   "outputs": [
    {
     "name": "stdout",
     "output_type": "stream",
     "text": [
      "0.35918367346938773\n",
      "[[ 0  8  0  0  0  0  0  0]\n",
      " [ 0 65  0  0  0  0  0  0]\n",
      " [ 0 23  0  0  0  0  0  0]\n",
      " [ 0 77  0  0  0  0  0  0]\n",
      " [ 0  3  0  0  0  0  0  0]\n",
      " [ 0  8  0  0  0  0  0  0]\n",
      " [ 0  0  0  0  0  0 23  0]\n",
      " [ 0  0  0  0  0  0 38  0]]\n",
      "              precision    recall  f1-score   support\n",
      "\n",
      "           0       0.00      0.00      0.00         8\n",
      "           1       0.35      1.00      0.52        65\n",
      "           2       0.00      0.00      0.00        23\n",
      "           3       0.00      0.00      0.00        77\n",
      "           4       0.00      0.00      0.00         3\n",
      "           5       0.00      0.00      0.00         8\n",
      "           6       0.38      1.00      0.55        23\n",
      "           7       0.00      0.00      0.00        38\n",
      "\n",
      "    accuracy                           0.36       245\n",
      "   macro avg       0.09      0.25      0.13       245\n",
      "weighted avg       0.13      0.36      0.19       245\n",
      "\n",
      "Training accuracy:: 0.4501510574018127\n",
      "Test accuracy:: 0.35918367346938773\n"
     ]
    }
   ],
   "source": [
    "adb.fit(x_train,y_train)\n",
    "predicted_adb=adb.predict(x_test)\n",
    "print(accuracy_score(y_test,predicted_adb))\n",
    "print(confusion_matrix(y_test,predicted_adb))\n",
    "print(classification_report(y_test,predicted_adb))\n",
    "print(\"Training accuracy::\",adb.score(x_train,y_train))\n",
    "print(\"Test accuracy::\",adb.score(x_test,y_test))"
   ]
  },
  {
   "cell_type": "markdown",
   "id": "adfdfe40",
   "metadata": {},
   "source": [
    "# Bagging Classifier"
   ]
  },
  {
   "cell_type": "code",
   "execution_count": 87,
   "id": "6dbc6f58",
   "metadata": {},
   "outputs": [
    {
     "name": "stdout",
     "output_type": "stream",
     "text": [
      "cross validation score for BAGGING Classifier: 0.7408791208791209\n"
     ]
    }
   ],
   "source": [
    "bgc=BaggingClassifier()\n",
    "bgc_score=cross_val_score(bgc,x,y,cv=10,scoring='accuracy')\n",
    "print(\"cross validation score for BAGGING Classifier:\",np.mean(bgc_score))"
   ]
  },
  {
   "cell_type": "code",
   "execution_count": 88,
   "id": "71795720",
   "metadata": {},
   "outputs": [
    {
     "name": "stdout",
     "output_type": "stream",
     "text": [
      "0.7755102040816326\n",
      "[[ 6  2  0  0  0  0  0  0]\n",
      " [ 2 54  2  7  0  0  0  0]\n",
      " [ 1  9  4  9  0  0  0  0]\n",
      " [ 0 12  0 65  0  0  0  0]\n",
      " [ 0  1  1  1  0  0  0  0]\n",
      " [ 0  2  1  5  0  0  0  0]\n",
      " [ 0  0  0  0  0  0 23  0]\n",
      " [ 0  0  0  0  0  0  0 38]]\n",
      "              precision    recall  f1-score   support\n",
      "\n",
      "           0       0.67      0.75      0.71         8\n",
      "           1       0.68      0.83      0.74        65\n",
      "           2       0.50      0.17      0.26        23\n",
      "           3       0.75      0.84      0.79        77\n",
      "           4       0.00      0.00      0.00         3\n",
      "           5       0.00      0.00      0.00         8\n",
      "           6       1.00      1.00      1.00        23\n",
      "           7       1.00      1.00      1.00        38\n",
      "\n",
      "    accuracy                           0.78       245\n",
      "   macro avg       0.57      0.57      0.56       245\n",
      "weighted avg       0.73      0.78      0.74       245\n",
      "\n",
      "Training accuracy:: 0.9788519637462235\n",
      "Test accuracy:: 0.7755102040816326\n"
     ]
    }
   ],
   "source": [
    "bgc.fit(x_train,y_train)\n",
    "predicted_bgc=bgc.predict(x_test)\n",
    "print(accuracy_score(y_test,predicted_bgc))\n",
    "print(confusion_matrix(y_test,predicted_bgc))\n",
    "print(classification_report(y_test,predicted_bgc))\n",
    "print(\"Training accuracy::\",bgc.score(x_train,y_train))\n",
    "print(\"Test accuracy::\",bgc.score(x_test,y_test))"
   ]
  },
  {
   "cell_type": "markdown",
   "id": "6c8fae05",
   "metadata": {},
   "source": [
    "# Gradient Boosting Classifier"
   ]
  },
  {
   "cell_type": "code",
   "execution_count": 89,
   "id": "fcbf11d8",
   "metadata": {},
   "outputs": [
    {
     "name": "stdout",
     "output_type": "stream",
     "text": [
      "cross validation score for Gradient Boosting Classifier: 0.751892551892552\n"
     ]
    }
   ],
   "source": [
    "grbc=GradientBoostingClassifier()\n",
    "grbc_score=cross_val_score(grbc,x,y,cv=10,scoring='accuracy')\n",
    "print(\"cross validation score for Gradient Boosting Classifier:\",np.mean(grbc_score))"
   ]
  },
  {
   "cell_type": "code",
   "execution_count": 90,
   "id": "1ecbc324",
   "metadata": {},
   "outputs": [
    {
     "name": "stdout",
     "output_type": "stream",
     "text": [
      "0.7673469387755102\n",
      "[[ 5  3  0  0  0  0  0  0]\n",
      " [ 2 52  2  8  1  0  0  0]\n",
      " [ 1 12  2  8  0  0  0  0]\n",
      " [ 0  9  0 67  0  1  0  0]\n",
      " [ 0  2  0  1  0  0  0  0]\n",
      " [ 0  3  0  4  0  1  0  0]\n",
      " [ 0  0  0  0  0  0 23  0]\n",
      " [ 0  0  0  0  0  0  0 38]]\n",
      "              precision    recall  f1-score   support\n",
      "\n",
      "           0       0.62      0.62      0.62         8\n",
      "           1       0.64      0.80      0.71        65\n",
      "           2       0.50      0.09      0.15        23\n",
      "           3       0.76      0.87      0.81        77\n",
      "           4       0.00      0.00      0.00         3\n",
      "           5       0.50      0.12      0.20         8\n",
      "           6       1.00      1.00      1.00        23\n",
      "           7       1.00      1.00      1.00        38\n",
      "\n",
      "    accuracy                           0.77       245\n",
      "   macro avg       0.63      0.56      0.56       245\n",
      "weighted avg       0.74      0.77      0.73       245\n",
      "\n",
      "Training accuracy:: 0.9712990936555891\n",
      "Test accuracy:: 0.7673469387755102\n"
     ]
    }
   ],
   "source": [
    "grbc.fit(x_train,y_train)\n",
    "predicted_grbc=grbc.predict(x_test)\n",
    "print(accuracy_score(y_test,predicted_grbc))\n",
    "print(confusion_matrix(y_test,predicted_grbc))\n",
    "print(classification_report(y_test,predicted_grbc))\n",
    "print(\"Training accuracy::\",grbc.score(x_train,y_train))\n",
    "print(\"Test accuracy::\",grbc.score(x_test,y_test))"
   ]
  },
  {
   "cell_type": "markdown",
   "id": "c23efc2c",
   "metadata": {},
   "source": [
    "# Random Forest Classifier"
   ]
  },
  {
   "cell_type": "code",
   "execution_count": 91,
   "id": "5b9e0171",
   "metadata": {},
   "outputs": [],
   "source": [
    "rfc=RandomForestClassifier()\n",
    "param_grid={\n",
    "    'criterion' : [\"gini\", \"entropy\"],\n",
    "    'n_estimators':[200,50],\n",
    "    'min_samples_split':[2,3],\n",
    "     'random_state':[10]              \n",
    "}"
   ]
  },
  {
   "cell_type": "code",
   "execution_count": 92,
   "id": "ecb3aaff",
   "metadata": {},
   "outputs": [],
   "source": [
    "rfc_grid=GridSearchCV(RandomForestClassifier(),param_grid,cv=4,scoring='accuracy',n_jobs=-1,verbose=2)"
   ]
  },
  {
   "cell_type": "code",
   "execution_count": 93,
   "id": "a76d6e1f",
   "metadata": {},
   "outputs": [
    {
     "name": "stdout",
     "output_type": "stream",
     "text": [
      "Fitting 4 folds for each of 8 candidates, totalling 32 fits\n",
      "Accuracy after parameter tuning:: 0.7673469387755102\n"
     ]
    }
   ],
   "source": [
    "rfc_grid.fit(x_train,y_train)\n",
    "rfc_pred=rfc_grid.best_estimator_.predict(x_test)\n",
    "print(\"Accuracy after parameter tuning::\",accuracy_score(y_test,rfc_pred))"
   ]
  },
  {
   "cell_type": "code",
   "execution_count": 94,
   "id": "fd7d9418",
   "metadata": {},
   "outputs": [
    {
     "data": {
      "text/plain": [
       "{'criterion': 'entropy',\n",
       " 'min_samples_split': 3,\n",
       " 'n_estimators': 200,\n",
       " 'random_state': 10}"
      ]
     },
     "execution_count": 94,
     "metadata": {},
     "output_type": "execute_result"
    }
   ],
   "source": [
    "rfc_grid.best_params_"
   ]
  },
  {
   "cell_type": "code",
   "execution_count": 95,
   "id": "46f2fb9b",
   "metadata": {},
   "outputs": [],
   "source": [
    "best_param={\n",
    "    'criterion' : ['gini'],\n",
    "    'n_estimators':[200],\n",
    "    'min_samples_split':[2],\n",
    "     'random_state':[10]    }"
   ]
  },
  {
   "cell_type": "code",
   "execution_count": 96,
   "id": "0348b361",
   "metadata": {},
   "outputs": [],
   "source": [
    "best_rfc_grid=GridSearchCV(RandomForestClassifier(),best_param,cv=4,scoring='accuracy',n_jobs=-1,verbose=2)"
   ]
  },
  {
   "cell_type": "code",
   "execution_count": 97,
   "id": "d3a18762",
   "metadata": {},
   "outputs": [
    {
     "name": "stdout",
     "output_type": "stream",
     "text": [
      "Fitting 4 folds for each of 1 candidates, totalling 4 fits\n",
      "Accuracy after parameter tuning:: 0.7551020408163265\n"
     ]
    }
   ],
   "source": [
    "best_rfc_grid.fit(x_train,y_train)\n",
    "best_rfc_pred=best_rfc_grid.best_estimator_.predict(x_test)\n",
    "print(\"Accuracy after parameter tuning::\",accuracy_score(y_test,best_rfc_pred))"
   ]
  },
  {
   "cell_type": "code",
   "execution_count": 98,
   "id": "ca728db9",
   "metadata": {},
   "outputs": [
    {
     "name": "stdout",
     "output_type": "stream",
     "text": [
      "CLASSIFICATION REPORT::\n",
      "               precision    recall  f1-score   support\n",
      "\n",
      "           0       0.60      0.75      0.67         8\n",
      "           1       0.65      0.75      0.70        65\n",
      "           2       0.22      0.09      0.12        23\n",
      "           3       0.74      0.87      0.80        77\n",
      "           4       0.00      0.00      0.00         3\n",
      "           5       0.00      0.00      0.00         8\n",
      "           6       1.00      1.00      1.00        23\n",
      "           7       1.00      1.00      1.00        38\n",
      "\n",
      "    accuracy                           0.76       245\n",
      "   macro avg       0.53      0.56      0.54       245\n",
      "weighted avg       0.70      0.76      0.72       245\n",
      "\n"
     ]
    }
   ],
   "source": [
    "print(\"CLASSIFICATION REPORT::\\n\",classification_report(y_test,best_rfc_pred))"
   ]
  },
  {
   "cell_type": "code",
   "execution_count": 99,
   "id": "8f667d72",
   "metadata": {},
   "outputs": [
    {
     "data": {
      "text/plain": [
       "<AxesSubplot:>"
      ]
     },
     "execution_count": 99,
     "metadata": {},
     "output_type": "execute_result"
    },
    {
     "data": {
      "image/png": "[encoded data removed]",
      "text/plain": [
       "<Figure size 432x288 with 2 Axes>"
      ]
     },
     "metadata": {},
     "output_type": "display_data"
    }
   ],
   "source": [
    "clsf_repo = classification_report(y_test,best_rfc_pred,output_dict=True)\n",
    "sns.heatmap(pd.DataFrame(clsf_repo).T, annot=True)"
   ]
  },
  {
   "cell_type": "markdown",
   "id": "3c967877",
   "metadata": {},
   "source": [
    "# AUC AND ROC Score"
   ]
  },
  {
   "cell_type": "code",
   "execution_count": 100,
   "id": "ce3e4809",
   "metadata": {},
   "outputs": [],
   "source": [
    "from sklearn.metrics import roc_auc_score"
   ]
  },
  {
   "cell_type": "code",
   "execution_count": 101,
   "id": "1647a352",
   "metadata": {},
   "outputs": [
    {
     "name": "stdout",
     "output_type": "stream",
     "text": [
      "Fitting 4 folds for each of 1 candidates, totalling 4 fits\n",
      "One-vs-One ROC AUC scores:\n",
      "0.844087 (macro),\n",
      "0.868185 (weighted by prevalence)\n",
      "========================================\n",
      "One-vs-Rest ROC AUC scores:\n",
      "0.855566 (macro),\n",
      "0.917017 (weighted by prevalence)\n"
     ]
    }
   ],
   "source": [
    "y_prob = best_rfc_grid.fit(x_train,y_train).predict_proba(x_test)\n",
    "\n",
    "macro_roc_auc_ovo = roc_auc_score(y_test, y_prob, multi_class=\"ovo\", average=\"macro\")\n",
    "weighted_roc_auc_ovo = roc_auc_score(y_test, y_prob, multi_class=\"ovo\", average=\"weighted\")\n",
    "macro_roc_auc_ovr = roc_auc_score(y_test, y_prob, multi_class=\"ovr\", average=\"macro\")\n",
    "weighted_roc_auc_ovr = roc_auc_score(y_test, y_prob, multi_class=\"ovr\", average=\"weighted\")\n",
    "print(\"One-vs-One ROC AUC scores:\\n{:.6f} (macro),\\n{:.6f} \"\n",
    "      \"(weighted by prevalence)\"\n",
    "      .format(macro_roc_auc_ovo, weighted_roc_auc_ovo))\n",
    "print(\"=\"*40)\n",
    "print(\"One-vs-Rest ROC AUC scores:\\n{:.6f} (macro),\\n{:.6f} \"\n",
    "      \"(weighted by prevalence)\"\n",
    "      .format(macro_roc_auc_ovr, weighted_roc_auc_ovr))"
   ]
  },
  {
   "cell_type": "markdown",
   "id": "c0bea21c",
   "metadata": {},
   "source": [
    "# Saving the Model"
   ]
  },
  {
   "cell_type": "code",
   "execution_count": 102,
   "id": "e926acb1",
   "metadata": {},
   "outputs": [
    {
     "data": {
      "text/plain": [
       "['Global Power Plant.obj']"
      ]
     },
     "execution_count": 102,
     "metadata": {},
     "output_type": "execute_result"
    }
   ],
   "source": [
    "import joblib\n",
    "joblib.dump(best_rfc_grid.best_estimator_,'Global Power Plant.obj')"
   ]
  },
  {
   "cell_type": "code",
   "execution_count": 103,
   "id": "cffe0c2b",
   "metadata": {},
   "outputs": [],
   "source": [
    "import pickle\n",
    "filename=\"Global_Power_Plant.pkl \"\n",
    "pickle.dump(best_rfc_grid, open(filename,'wb'))"
   ]
  },
  {
   "cell_type": "code",
   "execution_count": 104,
   "id": "370a7816",
   "metadata": {},
   "outputs": [
    {
     "data": {
      "text/html": [
       "<div>\n",
       "<style scoped>\n",
       "    .dataframe tbody tr th:only-of-type {\n",
       "        vertical-align: middle;\n",
       "    }\n",
       "\n",
       "    .dataframe tbody tr th {\n",
       "        vertical-align: top;\n",
       "    }\n",
       "\n",
       "    .dataframe thead th {\n",
       "        text-align: right;\n",
       "    }\n",
       "</style>\n",
       "<table border=\"1\" class=\"dataframe\">\n",
       "  <thead>\n",
       "    <tr style=\"text-align: right;\">\n",
       "      <th></th>\n",
       "      <th>original</th>\n",
       "      <th>predicted</th>\n",
       "    </tr>\n",
       "  </thead>\n",
       "  <tbody>\n",
       "    <tr>\n",
       "      <th>0</th>\n",
       "      <td>2</td>\n",
       "      <td>3</td>\n",
       "    </tr>\n",
       "    <tr>\n",
       "      <th>1</th>\n",
       "      <td>7</td>\n",
       "      <td>7</td>\n",
       "    </tr>\n",
       "    <tr>\n",
       "      <th>2</th>\n",
       "      <td>3</td>\n",
       "      <td>3</td>\n",
       "    </tr>\n",
       "    <tr>\n",
       "      <th>3</th>\n",
       "      <td>3</td>\n",
       "      <td>3</td>\n",
       "    </tr>\n",
       "    <tr>\n",
       "      <th>4</th>\n",
       "      <td>3</td>\n",
       "      <td>3</td>\n",
       "    </tr>\n",
       "    <tr>\n",
       "      <th>...</th>\n",
       "      <td>...</td>\n",
       "      <td>...</td>\n",
       "    </tr>\n",
       "    <tr>\n",
       "      <th>240</th>\n",
       "      <td>3</td>\n",
       "      <td>3</td>\n",
       "    </tr>\n",
       "    <tr>\n",
       "      <th>241</th>\n",
       "      <td>1</td>\n",
       "      <td>1</td>\n",
       "    </tr>\n",
       "    <tr>\n",
       "      <th>242</th>\n",
       "      <td>1</td>\n",
       "      <td>1</td>\n",
       "    </tr>\n",
       "    <tr>\n",
       "      <th>243</th>\n",
       "      <td>3</td>\n",
       "      <td>3</td>\n",
       "    </tr>\n",
       "    <tr>\n",
       "      <th>244</th>\n",
       "      <td>1</td>\n",
       "      <td>1</td>\n",
       "    </tr>\n",
       "  </tbody>\n",
       "</table>\n",
       "<p>245 rows × 2 columns</p>\n",
       "</div>"
      ],
      "text/plain": [
       "     original  predicted\n",
       "0           2          3\n",
       "1           7          7\n",
       "2           3          3\n",
       "3           3          3\n",
       "4           3          3\n",
       "..        ...        ...\n",
       "240         3          3\n",
       "241         1          1\n",
       "242         1          1\n",
       "243         3          3\n",
       "244         1          1\n",
       "\n",
       "[245 rows x 2 columns]"
      ]
     },
     "execution_count": 104,
     "metadata": {},
     "output_type": "execute_result"
    }
   ],
   "source": [
    "import numpy as np\n",
    "a=np.array(y_test)\n",
    "predicted= np.array(best_rfc_pred)\n",
    "rf_com= pd.DataFrame({'original':a, 'predicted':predicted}, index= range(len(a)))\n",
    "rf_com"
   ]
  },
  {
   "cell_type": "code",
   "execution_count": null,
   "id": "c8fbd30c",
   "metadata": {},
   "outputs": [],
   "source": []
  }
 ],
 "metadata": {
  "kernelspec": {
   "display_name": "Python 3 (ipykernel)",
   "language": "python",
   "name": "python3"
  },
  "language_info": {
   "codemirror_mode": {
    "name": "ipython",
    "version": 3
   },
   "file_extension": ".py",
   "mimetype": "text/x-python",
   "name": "python",
   "nbconvert_exporter": "python",
   "pygments_lexer": "ipython3",
   "version": "3.9.7"
  }
 },
 "nbformat": 4,
 "nbformat_minor": 5
}
