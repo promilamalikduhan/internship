{
 "cells": [
  {
   "cell_type": "code",
   "execution_count": 1,
   "id": "55c057e2",
   "metadata": {},
   "outputs": [],
   "source": [
    "import pandas as pd\n",
    "import numpy as np\n",
    "import seaborn as sns\n",
    "import matplotlib.pyplot as plt\n",
    "from sklearn.model_selection import train_test_split"
   ]
  },
  {
   "cell_type": "code",
   "execution_count": 2,
   "id": "7e610332",
   "metadata": {},
   "outputs": [],
   "source": [
    "df = pd.read_csv(\"advertising-sales-prediction.csv\")"
   ]
  },
  {
   "cell_type": "code",
   "execution_count": 3,
   "id": "7ceead83",
   "metadata": {},
   "outputs": [
    {
     "data": {
      "text/html": [
       "<div>\n",
       "<style scoped>\n",
       "    .dataframe tbody tr th:only-of-type {\n",
       "        vertical-align: middle;\n",
       "    }\n",
       "\n",
       "    .dataframe tbody tr th {\n",
       "        vertical-align: top;\n",
       "    }\n",
       "\n",
       "    .dataframe thead th {\n",
       "        text-align: right;\n",
       "    }\n",
       "</style>\n",
       "<table border=\"1\" class=\"dataframe\">\n",
       "  <thead>\n",
       "    <tr style=\"text-align: right;\">\n",
       "      <th></th>\n",
       "      <th>Unnamed: 0</th>\n",
       "      <th>TV</th>\n",
       "      <th>radio</th>\n",
       "      <th>newspaper</th>\n",
       "      <th>sales</th>\n",
       "    </tr>\n",
       "  </thead>\n",
       "  <tbody>\n",
       "    <tr>\n",
       "      <th>0</th>\n",
       "      <td>1</td>\n",
       "      <td>230.1</td>\n",
       "      <td>37.8</td>\n",
       "      <td>69.2</td>\n",
       "      <td>22.1</td>\n",
       "    </tr>\n",
       "    <tr>\n",
       "      <th>1</th>\n",
       "      <td>2</td>\n",
       "      <td>44.5</td>\n",
       "      <td>39.3</td>\n",
       "      <td>45.1</td>\n",
       "      <td>10.4</td>\n",
       "    </tr>\n",
       "    <tr>\n",
       "      <th>2</th>\n",
       "      <td>3</td>\n",
       "      <td>17.2</td>\n",
       "      <td>45.9</td>\n",
       "      <td>69.3</td>\n",
       "      <td>9.3</td>\n",
       "    </tr>\n",
       "    <tr>\n",
       "      <th>3</th>\n",
       "      <td>4</td>\n",
       "      <td>151.5</td>\n",
       "      <td>41.3</td>\n",
       "      <td>58.5</td>\n",
       "      <td>18.5</td>\n",
       "    </tr>\n",
       "    <tr>\n",
       "      <th>4</th>\n",
       "      <td>5</td>\n",
       "      <td>180.8</td>\n",
       "      <td>10.8</td>\n",
       "      <td>58.4</td>\n",
       "      <td>12.9</td>\n",
       "    </tr>\n",
       "    <tr>\n",
       "      <th>5</th>\n",
       "      <td>6</td>\n",
       "      <td>8.7</td>\n",
       "      <td>48.9</td>\n",
       "      <td>75.0</td>\n",
       "      <td>7.2</td>\n",
       "    </tr>\n",
       "    <tr>\n",
       "      <th>6</th>\n",
       "      <td>7</td>\n",
       "      <td>57.5</td>\n",
       "      <td>32.8</td>\n",
       "      <td>23.5</td>\n",
       "      <td>11.8</td>\n",
       "    </tr>\n",
       "    <tr>\n",
       "      <th>7</th>\n",
       "      <td>8</td>\n",
       "      <td>120.2</td>\n",
       "      <td>19.6</td>\n",
       "      <td>11.6</td>\n",
       "      <td>13.2</td>\n",
       "    </tr>\n",
       "    <tr>\n",
       "      <th>8</th>\n",
       "      <td>9</td>\n",
       "      <td>8.6</td>\n",
       "      <td>2.1</td>\n",
       "      <td>1.0</td>\n",
       "      <td>4.8</td>\n",
       "    </tr>\n",
       "    <tr>\n",
       "      <th>9</th>\n",
       "      <td>10</td>\n",
       "      <td>199.8</td>\n",
       "      <td>2.6</td>\n",
       "      <td>21.2</td>\n",
       "      <td>10.6</td>\n",
       "    </tr>\n",
       "  </tbody>\n",
       "</table>\n",
       "</div>"
      ],
      "text/plain": [
       "   Unnamed: 0     TV  radio  newspaper  sales\n",
       "0           1  230.1   37.8       69.2   22.1\n",
       "1           2   44.5   39.3       45.1   10.4\n",
       "2           3   17.2   45.9       69.3    9.3\n",
       "3           4  151.5   41.3       58.5   18.5\n",
       "4           5  180.8   10.8       58.4   12.9\n",
       "5           6    8.7   48.9       75.0    7.2\n",
       "6           7   57.5   32.8       23.5   11.8\n",
       "7           8  120.2   19.6       11.6   13.2\n",
       "8           9    8.6    2.1        1.0    4.8\n",
       "9          10  199.8    2.6       21.2   10.6"
      ]
     },
     "execution_count": 3,
     "metadata": {},
     "output_type": "execute_result"
    }
   ],
   "source": [
    "df.head(10)"
   ]
  },
  {
   "cell_type": "markdown",
   "id": "780d95fd",
   "metadata": {},
   "source": [
    "# Data Inspection"
   ]
  },
  {
   "cell_type": "code",
   "execution_count": 4,
   "id": "b413334d",
   "metadata": {},
   "outputs": [
    {
     "data": {
      "text/plain": [
       "(200, 5)"
      ]
     },
     "execution_count": 4,
     "metadata": {},
     "output_type": "execute_result"
    }
   ],
   "source": [
    "df.shape"
   ]
  },
  {
   "cell_type": "code",
   "execution_count": 5,
   "id": "31feff03",
   "metadata": {},
   "outputs": [
    {
     "data": {
      "text/html": [
       "<div>\n",
       "<style scoped>\n",
       "    .dataframe tbody tr th:only-of-type {\n",
       "        vertical-align: middle;\n",
       "    }\n",
       "\n",
       "    .dataframe tbody tr th {\n",
       "        vertical-align: top;\n",
       "    }\n",
       "\n",
       "    .dataframe thead th {\n",
       "        text-align: right;\n",
       "    }\n",
       "</style>\n",
       "<table border=\"1\" class=\"dataframe\">\n",
       "  <thead>\n",
       "    <tr style=\"text-align: right;\">\n",
       "      <th></th>\n",
       "      <th>Unnamed: 0</th>\n",
       "      <th>TV</th>\n",
       "      <th>radio</th>\n",
       "      <th>newspaper</th>\n",
       "      <th>sales</th>\n",
       "    </tr>\n",
       "  </thead>\n",
       "  <tbody>\n",
       "    <tr>\n",
       "      <th>195</th>\n",
       "      <td>196</td>\n",
       "      <td>38.2</td>\n",
       "      <td>3.7</td>\n",
       "      <td>13.8</td>\n",
       "      <td>7.6</td>\n",
       "    </tr>\n",
       "    <tr>\n",
       "      <th>196</th>\n",
       "      <td>197</td>\n",
       "      <td>94.2</td>\n",
       "      <td>4.9</td>\n",
       "      <td>8.1</td>\n",
       "      <td>9.7</td>\n",
       "    </tr>\n",
       "    <tr>\n",
       "      <th>197</th>\n",
       "      <td>198</td>\n",
       "      <td>177.0</td>\n",
       "      <td>9.3</td>\n",
       "      <td>6.4</td>\n",
       "      <td>12.8</td>\n",
       "    </tr>\n",
       "    <tr>\n",
       "      <th>198</th>\n",
       "      <td>199</td>\n",
       "      <td>283.6</td>\n",
       "      <td>42.0</td>\n",
       "      <td>66.2</td>\n",
       "      <td>25.5</td>\n",
       "    </tr>\n",
       "    <tr>\n",
       "      <th>199</th>\n",
       "      <td>200</td>\n",
       "      <td>232.1</td>\n",
       "      <td>8.6</td>\n",
       "      <td>8.7</td>\n",
       "      <td>13.4</td>\n",
       "    </tr>\n",
       "  </tbody>\n",
       "</table>\n",
       "</div>"
      ],
      "text/plain": [
       "     Unnamed: 0     TV  radio  newspaper  sales\n",
       "195         196   38.2    3.7       13.8    7.6\n",
       "196         197   94.2    4.9        8.1    9.7\n",
       "197         198  177.0    9.3        6.4   12.8\n",
       "198         199  283.6   42.0       66.2   25.5\n",
       "199         200  232.1    8.6        8.7   13.4"
      ]
     },
     "execution_count": 5,
     "metadata": {},
     "output_type": "execute_result"
    }
   ],
   "source": [
    "df.tail()"
   ]
  },
  {
   "cell_type": "code",
   "execution_count": 6,
   "id": "a8c33122",
   "metadata": {},
   "outputs": [
    {
     "name": "stdout",
     "output_type": "stream",
     "text": [
      "<class 'pandas.core.frame.DataFrame'>\n",
      "RangeIndex: 200 entries, 0 to 199\n",
      "Data columns (total 5 columns):\n",
      " #   Column      Non-Null Count  Dtype  \n",
      "---  ------      --------------  -----  \n",
      " 0   Unnamed: 0  200 non-null    int64  \n",
      " 1   TV          200 non-null    float64\n",
      " 2   radio       200 non-null    float64\n",
      " 3   newspaper   200 non-null    float64\n",
      " 4   sales       200 non-null    float64\n",
      "dtypes: float64(4), int64(1)\n",
      "memory usage: 7.9 KB\n"
     ]
    }
   ],
   "source": [
    "df.info()"
   ]
  },
  {
   "cell_type": "markdown",
   "id": "7525734f",
   "metadata": {},
   "source": [
    "All features and Target are float values\n",
    "\n",
    "There is no Nan or missing values in dataset"
   ]
  },
  {
   "cell_type": "code",
   "execution_count": 7,
   "id": "161dc91a",
   "metadata": {},
   "outputs": [
    {
     "data": {
      "text/html": [
       "<div>\n",
       "<style scoped>\n",
       "    .dataframe tbody tr th:only-of-type {\n",
       "        vertical-align: middle;\n",
       "    }\n",
       "\n",
       "    .dataframe tbody tr th {\n",
       "        vertical-align: top;\n",
       "    }\n",
       "\n",
       "    .dataframe thead th {\n",
       "        text-align: right;\n",
       "    }\n",
       "</style>\n",
       "<table border=\"1\" class=\"dataframe\">\n",
       "  <thead>\n",
       "    <tr style=\"text-align: right;\">\n",
       "      <th></th>\n",
       "      <th>Unnamed: 0</th>\n",
       "      <th>TV</th>\n",
       "      <th>radio</th>\n",
       "      <th>newspaper</th>\n",
       "      <th>sales</th>\n",
       "    </tr>\n",
       "  </thead>\n",
       "  <tbody>\n",
       "    <tr>\n",
       "      <th>count</th>\n",
       "      <td>200.000000</td>\n",
       "      <td>200.000000</td>\n",
       "      <td>200.000000</td>\n",
       "      <td>200.000000</td>\n",
       "      <td>200.000000</td>\n",
       "    </tr>\n",
       "    <tr>\n",
       "      <th>mean</th>\n",
       "      <td>100.500000</td>\n",
       "      <td>147.042500</td>\n",
       "      <td>23.264000</td>\n",
       "      <td>30.554000</td>\n",
       "      <td>14.022500</td>\n",
       "    </tr>\n",
       "    <tr>\n",
       "      <th>std</th>\n",
       "      <td>57.879185</td>\n",
       "      <td>85.854236</td>\n",
       "      <td>14.846809</td>\n",
       "      <td>21.778621</td>\n",
       "      <td>5.217457</td>\n",
       "    </tr>\n",
       "    <tr>\n",
       "      <th>min</th>\n",
       "      <td>1.000000</td>\n",
       "      <td>0.700000</td>\n",
       "      <td>0.000000</td>\n",
       "      <td>0.300000</td>\n",
       "      <td>1.600000</td>\n",
       "    </tr>\n",
       "    <tr>\n",
       "      <th>25%</th>\n",
       "      <td>50.750000</td>\n",
       "      <td>74.375000</td>\n",
       "      <td>9.975000</td>\n",
       "      <td>12.750000</td>\n",
       "      <td>10.375000</td>\n",
       "    </tr>\n",
       "    <tr>\n",
       "      <th>50%</th>\n",
       "      <td>100.500000</td>\n",
       "      <td>149.750000</td>\n",
       "      <td>22.900000</td>\n",
       "      <td>25.750000</td>\n",
       "      <td>12.900000</td>\n",
       "    </tr>\n",
       "    <tr>\n",
       "      <th>75%</th>\n",
       "      <td>150.250000</td>\n",
       "      <td>218.825000</td>\n",
       "      <td>36.525000</td>\n",
       "      <td>45.100000</td>\n",
       "      <td>17.400000</td>\n",
       "    </tr>\n",
       "    <tr>\n",
       "      <th>max</th>\n",
       "      <td>200.000000</td>\n",
       "      <td>296.400000</td>\n",
       "      <td>49.600000</td>\n",
       "      <td>114.000000</td>\n",
       "      <td>27.000000</td>\n",
       "    </tr>\n",
       "  </tbody>\n",
       "</table>\n",
       "</div>"
      ],
      "text/plain": [
       "       Unnamed: 0          TV       radio   newspaper       sales\n",
       "count  200.000000  200.000000  200.000000  200.000000  200.000000\n",
       "mean   100.500000  147.042500   23.264000   30.554000   14.022500\n",
       "std     57.879185   85.854236   14.846809   21.778621    5.217457\n",
       "min      1.000000    0.700000    0.000000    0.300000    1.600000\n",
       "25%     50.750000   74.375000    9.975000   12.750000   10.375000\n",
       "50%    100.500000  149.750000   22.900000   25.750000   12.900000\n",
       "75%    150.250000  218.825000   36.525000   45.100000   17.400000\n",
       "max    200.000000  296.400000   49.600000  114.000000   27.000000"
      ]
     },
     "execution_count": 7,
     "metadata": {},
     "output_type": "execute_result"
    }
   ],
   "source": [
    "df.describe()"
   ]
  },
  {
   "cell_type": "markdown",
   "id": "e7e56164",
   "metadata": {},
   "source": [
    "There is huge spending on TV advertisement on an average 147,000 dollars and minimum on radio of 23,000 dollars"
   ]
  },
  {
   "cell_type": "markdown",
   "id": "018bc116",
   "metadata": {},
   "source": [
    "# Null-value"
   ]
  },
  {
   "cell_type": "code",
   "execution_count": 8,
   "id": "2cf52d71",
   "metadata": {},
   "outputs": [
    {
     "data": {
      "text/plain": [
       "Unnamed: 0    0\n",
       "TV            0\n",
       "radio         0\n",
       "newspaper     0\n",
       "sales         0\n",
       "dtype: int64"
      ]
     },
     "execution_count": 8,
     "metadata": {},
     "output_type": "execute_result"
    }
   ],
   "source": [
    "df.isnull().sum()"
   ]
  },
  {
   "cell_type": "code",
   "execution_count": 9,
   "id": "00830aed",
   "metadata": {},
   "outputs": [
    {
     "data": {
      "text/plain": [
       "<AxesSubplot:>"
      ]
     },
     "execution_count": 9,
     "metadata": {},
     "output_type": "execute_result"
    },
    {
     "data": {
      "image/png": "[encoded data removed]",
      "text/plain": [
       "<Figure size 432x288 with 2 Axes>"
      ]
     },
     "metadata": {
      "needs_background": "light"
     },
     "output_type": "display_data"
    }
   ],
   "source": [
    "sns.heatmap(df.isnull())"
   ]
  },
  {
   "cell_type": "markdown",
   "id": "12942204",
   "metadata": {},
   "source": [
    "Data is clean"
   ]
  },
  {
   "cell_type": "markdown",
   "id": "5920dcfb",
   "metadata": {},
   "source": [
    "# skewness"
   ]
  },
  {
   "cell_type": "code",
   "execution_count": 10,
   "id": "35bde7a5",
   "metadata": {},
   "outputs": [
    {
     "data": {
      "text/plain": [
       "Unnamed: 0    0.000000\n",
       "TV           -0.069853\n",
       "radio         0.094175\n",
       "newspaper     0.894720\n",
       "sales         0.407571\n",
       "dtype: float64"
      ]
     },
     "execution_count": 10,
     "metadata": {},
     "output_type": "execute_result"
    }
   ],
   "source": [
    "df.skew()"
   ]
  },
  {
   "cell_type": "code",
   "execution_count": 11,
   "id": "df560573",
   "metadata": {},
   "outputs": [],
   "source": [
    "import warnings\n",
    "warnings.filterwarnings('ignore')"
   ]
  },
  {
   "cell_type": "code",
   "execution_count": 12,
   "id": "8d951475",
   "metadata": {},
   "outputs": [],
   "source": [
    "from scipy.stats import boxcox"
   ]
  },
  {
   "cell_type": "code",
   "execution_count": 13,
   "id": "9a7018f5",
   "metadata": {},
   "outputs": [],
   "source": [
    "df['newspaper']=boxcox(df['newspaper'],.5)"
   ]
  },
  {
   "cell_type": "code",
   "execution_count": 14,
   "id": "b89a7910",
   "metadata": {},
   "outputs": [
    {
     "data": {
      "text/plain": [
       "Unnamed: 0    0.000000\n",
       "TV           -0.069853\n",
       "radio         0.094175\n",
       "newspaper     0.062388\n",
       "sales         0.407571\n",
       "dtype: float64"
      ]
     },
     "execution_count": 14,
     "metadata": {},
     "output_type": "execute_result"
    }
   ],
   "source": [
    "df.skew()"
   ]
  },
  {
   "cell_type": "code",
   "execution_count": 15,
   "id": "7feed355",
   "metadata": {},
   "outputs": [
    {
     "data": {
      "image/png": "[encoded data removed]",
      "text/plain": [
       "<Figure size 432x288 with 1 Axes>"
      ]
     },
     "metadata": {
      "needs_background": "light"
     },
     "output_type": "display_data"
    }
   ],
   "source": [
    "sns.distplot(df['TV'])\n",
    "plt.show()"
   ]
  },
  {
   "cell_type": "code",
   "execution_count": 16,
   "id": "23e1440c",
   "metadata": {},
   "outputs": [
    {
     "data": {
      "image/png": "[encoded data removed]",
      "text/plain": [
       "<Figure size 432x288 with 1 Axes>"
      ]
     },
     "metadata": {
      "needs_background": "light"
     },
     "output_type": "display_data"
    }
   ],
   "source": [
    "sns.distplot(df['radio'])\n",
    "plt.show()"
   ]
  },
  {
   "cell_type": "code",
   "execution_count": 17,
   "id": "3fc5ead7",
   "metadata": {},
   "outputs": [
    {
     "data": {
      "image/png": "[encoded data removed]",
      "text/plain": [
       "<Figure size 432x288 with 1 Axes>"
      ]
     },
     "metadata": {
      "needs_background": "light"
     },
     "output_type": "display_data"
    }
   ],
   "source": [
    "sns.distplot(df['newspaper'])\n",
    "plt.show()"
   ]
  },
  {
   "cell_type": "code",
   "execution_count": 18,
   "id": "c6efbe59",
   "metadata": {},
   "outputs": [
    {
     "data": {
      "image/png": "[encoded data removed]",
      "text/plain": [
       "<Figure size 432x288 with 1 Axes>"
      ]
     },
     "metadata": {
      "needs_background": "light"
     },
     "output_type": "display_data"
    }
   ],
   "source": [
    "sns.distplot(df['sales'])\n",
    "plt.show()"
   ]
  },
  {
   "cell_type": "markdown",
   "id": "21817a34",
   "metadata": {},
   "source": [
    "# Removing Outliers"
   ]
  },
  {
   "cell_type": "code",
   "execution_count": 19,
   "id": "c81df6f7",
   "metadata": {},
   "outputs": [
    {
     "data": {
      "image/png": "[encoded data removed]",
      "text/plain": [
       "<Figure size 432x288 with 1 Axes>"
      ]
     },
     "metadata": {
      "needs_background": "light"
     },
     "output_type": "display_data"
    }
   ],
   "source": [
    "plt.boxplot(df['TV'])\n",
    "plt.show()"
   ]
  },
  {
   "cell_type": "code",
   "execution_count": 20,
   "id": "07587e56",
   "metadata": {},
   "outputs": [
    {
     "data": {
      "image/png": "[encoded data removed]",
      "text/plain": [
       "<Figure size 432x288 with 1 Axes>"
      ]
     },
     "metadata": {
      "needs_background": "light"
     },
     "output_type": "display_data"
    }
   ],
   "source": [
    "plt.boxplot(df['radio'])\n",
    "plt.show()\n"
   ]
  },
  {
   "cell_type": "code",
   "execution_count": 21,
   "id": "0e2c0858",
   "metadata": {},
   "outputs": [
    {
     "data": {
      "image/png": "[encoded data removed]",
      "text/plain": [
       "<Figure size 720x720 with 6 Axes>"
      ]
     },
     "metadata": {
      "needs_background": "light"
     },
     "output_type": "display_data"
    }
   ],
   "source": [
    "# to check all variables at once\n",
    "\n",
    "df.hist( bins = 10, figsize = (10,10))\n",
    "plt.show()"
   ]
  },
  {
   "cell_type": "markdown",
   "id": "f1491c82",
   "metadata": {},
   "source": [
    "Spending budget for advertisments on TV is in all range, same for Radio but less than TV. But on newspapers, less budget is spend"
   ]
  },
  {
   "cell_type": "code",
   "execution_count": 22,
   "id": "9ddeb104",
   "metadata": {},
   "outputs": [
    {
     "data": {
      "image/png": "[encoded data removed]",
      "text/plain": [
       "<Figure size 900x900 with 30 Axes>"
      ]
     },
     "metadata": {
      "needs_background": "light"
     },
     "output_type": "display_data"
    }
   ],
   "source": [
    "sns.pairplot(df, size=2.5)\n",
    "plt.show()"
   ]
  },
  {
   "cell_type": "markdown",
   "id": "14ac6859",
   "metadata": {},
   "source": [
    "arget Sales is directly correlated with TV, little with Radio but there is no correlation with Newspaper.\n",
    "There is no correlation seems between all features.\n"
   ]
  },
  {
   "cell_type": "code",
   "execution_count": 23,
   "id": "5311ccf6",
   "metadata": {},
   "outputs": [],
   "source": [
    "from scipy.stats import zscore"
   ]
  },
  {
   "cell_type": "code",
   "execution_count": 24,
   "id": "c450f4d2",
   "metadata": {},
   "outputs": [
    {
     "data": {
      "text/plain": [
       "array([[1.72341210e+00, 9.69852266e-01, 9.81522472e-01, 1.56309461e+00,\n",
       "        1.55205313e+00],\n",
       "       [1.70609137e+00, 1.19737623e+00, 1.08280781e+00, 7.74855194e-01,\n",
       "        6.96046111e-01],\n",
       "       [1.68877065e+00, 1.51615499e+00, 1.52846331e+00, 1.56604912e+00,\n",
       "        9.07405869e-01],\n",
       "       [1.67144992e+00, 5.20496822e-02, 1.21785493e+00, 1.23357596e+00,\n",
       "        8.60330287e-01],\n",
       "       [1.65412920e+00, 3.94182198e-01, 8.41613655e-01, 1.23036007e+00,\n",
       "        2.15683025e-01],\n",
       "       [1.63680847e+00, 1.61540845e+00, 1.73103399e+00, 1.73106889e+00,\n",
       "        1.31091086e+00],\n",
       "       [1.61948775e+00, 1.04557682e+00, 6.43904671e-01, 1.43678801e-01,\n",
       "        4.27042783e-01],\n",
       "       [1.60216702e+00, 3.13436589e-01, 2.47406325e-01, 8.52652825e-01,\n",
       "        1.58039455e-01],\n",
       "       [1.58484630e+00, 1.61657614e+00, 1.42906863e+00, 2.03568892e+00,\n",
       "        1.77205942e+00],\n",
       "       [1.56752558e+00, 6.16042873e-01, 1.39530685e+00, 2.63332869e-01,\n",
       "        6.57617064e-01],\n",
       "       [1.55020485e+00, 9.45155670e-01, 1.17923146e+00, 1.08436840e-01,\n",
       "        1.04190753e+00],\n",
       "       [1.53288413e+00, 7.90028350e-01, 4.96973404e-02, 1.54396138e+00,\n",
       "        6.48970529e-01],\n",
       "       [1.51556340e+00, 1.43908760e+00, 7.99208859e-01, 1.46436938e+00,\n",
       "        9.26620392e-01],\n",
       "       [1.49824268e+00, 5.78501712e-01, 1.05768905e+00, 1.20797302e+00,\n",
       "        8.30547775e-01],\n",
       "       [1.48092195e+00, 6.66253447e-01, 6.50657027e-01, 8.07641928e-01,\n",
       "        9.56402904e-01],\n",
       "       [1.46360123e+00, 5.64664612e-01, 1.65000572e+00, 1.04903522e+00,\n",
       "        1.60969670e+00],\n",
       "       [1.44628050e+00, 9.25304978e-01, 9.00494200e-01, 2.72279688e+00,\n",
       "        2.92541119e-01],\n",
       "       [1.42895978e+00, 1.56887609e+00, 1.10306488e+00, 1.14575858e+00,\n",
       "        1.99398717e+00],\n",
       "       [1.41163905e+00, 9.08957349e-01, 1.86635121e-01, 4.23879865e-01,\n",
       "        5.23115400e-01],\n",
       "       [1.39431833e+00, 3.00679600e-03, 4.29449843e-02, 3.78392733e-01,\n",
       "        1.10963873e-01],\n",
       "       [1.37699760e+00, 8.33232798e-01, 2.99534513e-01, 1.06589741e+00,\n",
       "        7.64257669e-01],\n",
       "       [1.35967688e+00, 1.05509347e+00, 1.22649795e+00, 1.43678801e-01,\n",
       "        2.92541119e-01],\n",
       "       [1.34235616e+00, 1.56286250e+00, 4.97243498e-01, 9.35686184e-01,\n",
       "        1.61834324e+00],\n",
       "       [1.32503543e+00, 9.48833887e-01, 4.29719938e-01, 1.04630767e-02,\n",
       "        2.83894584e-01],\n",
       "       [1.30771471e+00, 9.89527805e-01, 7.20071247e-01, 4.23879865e-01,\n",
       "        8.30547775e-01],\n",
       "       [1.29039398e+00, 1.35285385e+00, 1.33453565e+00, 3.56006466e-01,\n",
       "        3.88613736e-01],\n",
       "       [1.27307326e+00, 4.83714657e-02, 4.07572210e-01, 7.81956865e-01,\n",
       "        1.87821967e-01],\n",
       "       [1.25575253e+00, 1.08662104e+00, 4.43224650e-01, 1.74306253e-01,\n",
       "        3.60752677e-01],\n",
       "       [1.23843181e+00, 1.18820988e+00, 2.59020377e-01, 1.74306253e-01,\n",
       "        9.37188380e-01],\n",
       "       [1.22111108e+00, 8.92609721e-01, 4.90491142e-01, 6.13487141e-01,\n",
       "        6.76831588e-01],\n",
       "       [1.20379036e+00, 1.70316018e+00, 3.40048650e-01, 7.04546681e-01,\n",
       "        1.41755147e+00],\n",
       "       [1.18646963e+00, 3.98677796e-01, 3.95958157e-01, 5.27632526e-01,\n",
       "        4.07828260e-01],\n",
       "       [1.16914891e+00, 5.82004775e-01, 1.46958277e+00, 1.65886160e-01,\n",
       "        8.49762299e-01],\n",
       "       [1.15182818e+00, 1.38438142e+00, 2.20396901e-01, 2.25808619e+00,\n",
       "        6.48970529e-01],\n",
       "       [1.13450746e+00, 5.99520091e-01, 1.47633512e+00, 1.18977295e+00,\n",
       "        8.68976822e-01],\n",
       "       [1.11718674e+00, 1.67747105e+00, 1.29402151e+00, 1.09379666e+00,\n",
       "        2.34897549e-01],\n",
       "       [1.09986601e+00, 1.39956136e+00, 1.38666383e+00, 1.42788026e+00,\n",
       "        2.18613240e+00],\n",
       "       [1.08254529e+00, 8.44734522e-01, 1.76479577e+00, 7.96748948e-01,\n",
       "        1.30178396e-01],\n",
       "       [1.06522456e+00, 1.21372386e+00, 2.32010953e-01, 3.85835748e-01,\n",
       "        7.53689682e-01],\n",
       "       [1.04790384e+00, 9.45330823e-01, 9.74770116e-01, 2.54214524e-01,\n",
       "        1.43676599e+00],\n",
       "       [1.03058311e+00, 6.47570443e-01, 6.50927121e-02, 2.36774660e-01,\n",
       "        4.95254341e-01],\n",
       "       [1.01326239e+00, 3.49810063e-01, 6.84418807e-01, 5.31587283e-01,\n",
       "        5.91326959e-01],\n",
       "       [9.95941664e-01, 1.71133400e+00, 2.99534513e-01, 1.86769474e+00,\n",
       "        1.28304980e+00],\n",
       "       [9.78620939e-01, 6.98948705e-01, 1.00367020e+00, 8.74648181e-04,\n",
       "        2.15683025e-01],\n",
       "       [9.61300215e-01, 1.42390765e+00, 1.64487393e-01, 7.08285217e-01,\n",
       "        1.06112206e+00],\n",
       "       [9.43979490e-01, 3.27623995e-01, 5.15880000e-02, 2.32397474e-01,\n",
       "        1.68607443e-01],\n",
       "       [9.26658765e-01, 6.69581357e-01, 9.02384859e-01, 4.10629831e-01,\n",
       "        6.57617064e-01],\n",
       "       [9.09338041e-01, 1.08428567e+00, 1.23135965e+00, 4.12416366e-01,\n",
       "        1.76341289e+00],\n",
       "       [8.92017316e-01, 9.35989321e-01, 5.03995854e-01, 9.46143488e-01,\n",
       "        1.49392920e-01],\n",
       "       [8.74696592e-01, 9.35814168e-01, 7.80842451e-01, 4.55550447e-01,\n",
       "        8.30547775e-01],\n",
       "       [8.57375867e-01, 6.16042873e-01, 1.36154507e+00, 3.65011663e-01,\n",
       "        5.03900877e-01],\n",
       "       [8.40055142e-01, 5.44638766e-01, 9.22641928e-01, 1.59442906e+00,\n",
       "        6.38402541e-01],\n",
       "       [8.22734418e-01, 8.09879042e-01, 1.24486436e+00, 5.66952663e-01,\n",
       "        1.64812575e+00],\n",
       "       [8.05413693e-01, 4.15200577e-01, 1.54872038e+00, 1.23999953e+00,\n",
       "        1.37912242e+00],\n",
       "       [7.88092969e-01, 1.35051848e+00, 3.73810430e-01, 5.66662552e-01,\n",
       "        1.18697718e+00],\n",
       "       [7.70772244e-01, 6.05533683e-01, 1.76479577e+00, 1.28148863e+00,\n",
       "        1.85948550e+00],\n",
       "       [7.53451519e-01, 1.63175608e+00, 3.26543937e-01, 6.36497731e-01,\n",
       "        1.63755776e+00],\n",
       "       [7.36130795e-01, 1.26606546e-01, 2.74415749e-01, 5.23966170e-01,\n",
       "        1.58039455e-01],\n",
       "       [7.18810070e-01, 7.44488528e-01, 1.77830048e+00, 4.91806608e-01,\n",
       "        1.87870003e+00],\n",
       "       [7.01489346e-01, 7.43320840e-01, 4.21076922e-01, 1.02784902e+00,\n",
       "        8.41115763e-01],\n",
       "       [6.84168621e-01, 1.09228433e+00, 1.43582099e+00, 2.52678300e-01,\n",
       "        1.13798015e+00],\n",
       "       [6.66847897e-01, 1.33417085e+00, 1.31238792e+00, 1.10937324e+00,\n",
       "        1.95555812e+00],\n",
       "       [6.49527172e-01, 1.07727954e+00, 5.24252922e-01, 4.18304911e-02,\n",
       "        3.22323631e-01],\n",
       "       [6.32206447e-01, 5.17781948e-01, 4.27829278e-01, 1.10225467e+00,\n",
       "        4.32326777e-03],\n",
       "       [6.14885723e-01, 1.86158622e-01, 1.31914027e+00, 1.16047828e-01,\n",
       "        7.64257669e-01],\n",
       "       [5.97564998e-01, 9.11292725e-01, 9.42898996e-01, 2.06092275e+00,\n",
       "        9.07405869e-01],\n",
       "       [5.80244274e-01, 1.34917564e+00, 9.02114765e-02, 1.79806665e+00,\n",
       "        8.68976822e-01],\n",
       "       [5.62923549e-01, 9.04082253e-02, 5.91776482e-01, 9.56964653e-01,\n",
       "        1.19610408e-01],\n",
       "       [5.45602824e-01, 1.05509347e+00, 2.86029801e-01, 8.96540728e-01,\n",
       "        9.37188380e-01],\n",
       "       [5.28282100e-01, 8.14549794e-01, 1.39341619e+00, 3.71205936e-02,\n",
       "        1.59048218e+00],\n",
       "       [5.10961375e-01, 6.07869059e-01, 4.95352838e-01, 5.31587283e-01,\n",
       "        8.21901240e-01],\n",
       "       [4.93640651e-01, 4.34876116e-01, 6.05281194e-01, 2.41144925e-01,\n",
       "        3.11755643e-01],\n",
       "       [4.76319926e-01, 1.40405696e+00, 6.57409383e-01, 3.67170601e-01,\n",
       "        1.00347849e+00],\n",
       "       [4.58999202e-01, 2.06009314e-01, 1.18598381e+00, 2.23622209e-01,\n",
       "        5.80758971e-01],\n",
       "       [4.41678477e-01, 7.74848409e-01, 9.02114765e-02, 7.47661651e-01,\n",
       "        5.72112435e-01],\n",
       "       [4.24357752e-01, 1.51965805e+00, 1.37991148e+00, 2.12194471e+00,\n",
       "        1.02269301e+00],\n",
       "       [4.07037028e-01, 1.39588315e+00, 1.46283041e+00, 2.90191276e-01,\n",
       "        1.36855443e+00],\n",
       "       [3.89716303e-01, 3.09933525e-01, 3.53553362e-01, 6.74445131e-01,\n",
       "        3.41057791e-02],\n",
       "       [3.72395579e-01, 1.65394214e+00, 4.48086346e-01, 1.01980839e+00,\n",
       "        1.67598681e+00],\n",
       "       [3.55074854e-01, 3.62479475e-01, 1.05093669e+00, 1.64053001e-01,\n",
       "        5.80758971e-01],\n",
       "       [3.37754129e-01, 8.24883830e-01, 2.32010953e-01, 2.05337635e-01,\n",
       "        4.27042783e-01],\n",
       "       [3.20433405e-01, 1.08311798e+00, 1.29402151e+00, 4.59600641e-01,\n",
       "        3.30970166e-01],\n",
       "       [3.03112680e-01, 8.37728396e-01, 2.00139833e-01, 2.75861785e-01,\n",
       "        5.23115400e-01],\n",
       "       [2.85791956e-01, 9.18298852e-01, 1.43393033e+00, 4.06512034e-01,\n",
       "        8.11813615e-02],\n",
       "       [2.68471231e-01, 7.76016097e-01, 1.33264499e+00, 3.31377634e-01,\n",
       "        1.47519504e+00],\n",
       "       [2.51150506e-01, 5.38975481e-01, 3.28434597e-01, 1.45830743e+00,\n",
       "        2.26251013e-01],\n",
       "       [2.33829782e-01, 8.26051518e-01, 2.86029801e-01, 5.60506324e-01,\n",
       "        3.88613736e-01],\n",
       "       [2.16509057e-01, 4.24366926e-01, 1.17058844e+00, 1.38174010e+00,\n",
       "        3.79967201e-01],\n",
       "       [1.99188333e-01, 6.85928986e-01, 1.50982681e-01, 1.68540016e+00,\n",
       "        2.15683025e-01],\n",
       "       [1.81867608e-01, 4.34876116e-01, 1.65675807e+00, 9.97964748e-01,\n",
       "        5.14468865e-01],\n",
       "       [1.64546884e-01, 1.48792614e-01, 1.24000266e+00, 1.02784902e+00,\n",
       "        5.42329924e-01],\n",
       "       [1.47226159e-01, 1.38303858e+00, 1.46958277e+00, 2.97343158e-01,\n",
       "        1.29169634e+00],\n",
       "       [1.29905434e-01, 8.25058983e-01, 6.91171163e-01, 1.24961438e+00,\n",
       "        1.03326100e+00],\n",
       "       [1.12584710e-01, 1.21273132e+00, 8.93741844e-01, 1.65371357e+00,\n",
       "        1.57126765e+00],\n",
       "       [9.52639852e-02, 4.62900623e-01, 6.25538262e-01, 9.03970725e-01,\n",
       "        4.84686354e-01],\n",
       "       [7.79432606e-02, 1.89836839e-01, 5.62876398e-01, 1.04903522e+00,\n",
       "        5.52897912e-01],\n",
       "       [6.06225361e-02, 5.90353742e-01, 1.33453565e+00, 1.33301442e+00,\n",
       "        4.46257307e-01],\n",
       "       [4.33018115e-02, 4.42057396e-01, 1.52873340e-01, 2.21009887e-01,\n",
       "        2.83894584e-01],\n",
       "       [2.59810869e-02, 1.66579418e+00, 1.28537849e+00, 9.91099345e-01,\n",
       "        2.18613240e+00],\n",
       "       [8.66036229e-03, 1.38283424e-01, 1.24486436e+00, 8.04014892e-01,\n",
       "        6.10541482e-01],\n",
       "       [8.66036229e-03, 8.79940308e-01, 1.28051680e+00, 9.42661222e-01,\n",
       "        4.46257307e-01],\n",
       "       [2.59810869e-02, 1.74402926e+00, 8.80237132e-01, 2.41193703e+00,\n",
       "        1.87870003e+00],\n",
       "       [4.33018115e-02, 1.55486384e+00, 8.88880147e-01, 2.52678300e-01,\n",
       "        1.49392920e-01],\n",
       "       [6.06225361e-02, 4.77088029e-01, 4.09462869e-01, 4.46996354e-01,\n",
       "        1.30178396e-01],\n",
       "       [7.79432606e-02, 1.06443498e+00, 7.45190011e-01, 1.39537466e+00,\n",
       "        1.28304980e+00],\n",
       "       [9.52639852e-02, 1.06755854e-01, 1.56222509e+00, 1.24961438e+00,\n",
       "        9.94831951e-01],\n",
       "       [1.12584710e-01, 1.42507534e+00, 8.28108943e-01, 1.52385811e-01,\n",
       "        1.31091086e+00],\n",
       "       [1.29905434e-01, 6.61407543e-01, 1.55061104e+00, 1.58943020e-01,\n",
       "        1.02269301e+00],\n",
       "       [1.47226159e-01, 1.56403019e+00, 1.54385868e+00, 3.94500707e-02,\n",
       "        1.67598681e+00],\n",
       "       [1.64546884e-01, 1.26527727e+00, 2.45515665e-01, 1.37421317e+00,\n",
       "        1.11011909e+00],\n",
       "       [1.81867608e-01, 9.19641692e-01, 1.01717491e+00, 1.16872641e+00,\n",
       "        1.19610408e-01],\n",
       "       [1.99188333e-01, 1.10530405e+00, 9.95027184e-01, 1.58943020e-01,\n",
       "        1.49440956e+00],\n",
       "       [2.16509057e-01, 3.34630122e-01, 5.31005278e-01, 1.76563543e+00,\n",
       "        1.48912557e-02],\n",
       "       [2.33829782e-01, 7.30476274e-01, 1.79882765e-01, 9.18933677e-01,\n",
       "        3.60752677e-01],\n",
       "       [2.51150506e-01, 8.03865450e-01, 1.58923451e+00, 3.60828829e-01,\n",
       "        1.10963873e-01],\n",
       "       [2.68471231e-01, 8.40063771e-01, 7.92456503e-01, 1.04226804e+00,\n",
       "        2.73326596e-01],\n",
       "       [2.85791956e-01, 9.15759131e-02, 6.05281194e-01, 3.94500707e-02,\n",
       "        3.50184689e-01],\n",
       "       [3.03112680e-01, 8.24883830e-01, 1.51684926e+00, 6.35702865e-01,\n",
       "        8.88191346e-01],\n",
       "       [3.20433405e-01, 2.49213762e-01, 9.20751268e-01, 1.84868232e+00,\n",
       "        3.60752677e-01],\n",
       "       [3.37754129e-01, 1.49046586e+00, 4.90491142e-01, 2.05337635e-01,\n",
       "        1.42619800e+00],\n",
       "       [3.55074854e-01, 6.70544700e-02, 2.38763309e-01, 8.14884191e-01,\n",
       "        2.83894584e-01],\n",
       "       [3.72395579e-01, 1.49747198e+00, 1.05606848e-01, 9.63502716e-01,\n",
       "        1.34933991e+00],\n",
       "       [3.89716303e-01, 8.98623313e-01, 1.40881156e+00, 5.85248317e-01,\n",
       "        4.65471830e-01],\n",
       "       [4.07037028e-01, 2.79573643e-01, 7.65447079e-01, 7.95865131e-01,\n",
       "        2.26251013e-01],\n",
       "       [4.24357752e-01, 9.62846140e-01, 6.10142891e-01, 1.70829607e+00,\n",
       "        1.09090457e+00],\n",
       "       [4.41678477e-01, 6.98773552e-01, 7.74090095e-01, 2.49146030e-02,\n",
       "        6.57617064e-01],\n",
       "       [4.58999202e-01, 1.62591764e+00, 1.05579839e+00, 9.70422285e-01,\n",
       "        1.42619800e+00],\n",
       "       [4.76319926e-01, 7.80511695e-01, 1.57086811e+00, 1.03593300e+00,\n",
       "        1.00347849e+00],\n",
       "       [4.93640651e-01, 8.55418865e-01, 1.73778635e+00, 1.64778750e+00,\n",
       "        2.05163074e+00],\n",
       "       [5.10961375e-01, 1.02105537e+00, 7.60585383e-01, 7.00803816e-01,\n",
       "        8.30547775e-01],\n",
       "       [5.28282100e-01, 1.70882347e+00, 1.10306488e+00, 1.07702861e+00,\n",
       "        2.38692417e+00],\n",
       "       [5.45602824e-01, 1.37971067e+00, 1.37504978e+00, 6.97056606e-01,\n",
       "        2.54112072e-01],\n",
       "       [5.62923549e-01, 1.61891151e+00, 2.65772733e-01, 1.81483556e+00,\n",
       "        1.59912871e+00],\n",
       "       [5.80244274e-01, 8.49580427e-01, 6.91171163e-01, 7.74855194e-01,\n",
       "        1.07169004e+00],\n",
       "       [5.97564998e-01, 1.28612050e+00, 1.03554132e+00, 1.45527300e+00,\n",
       "        6.19188018e-01],\n",
       "       [6.14885723e-01, 1.15300409e+00, 1.60273923e+00, 1.09379666e+00,\n",
       "        4.65471830e-01],\n",
       "       [6.32206447e-01, 1.41806922e+00, 1.06255074e+00, 1.02784902e+00,\n",
       "        8.68976822e-01],\n",
       "       [6.49527172e-01, 1.47896413e+00, 3.80562786e-01, 1.27195443e+00,\n",
       "        1.30226433e+00],\n",
       "       [6.66847897e-01, 1.21489154e+00, 1.77992105e-01, 3.01025360e-01,\n",
       "        8.49762299e-01],\n",
       "       [6.84168621e-01, 4.42057396e-01, 1.39341619e+00, 1.88628219e+00,\n",
       "        1.28304980e+00],\n",
       "       [7.01489346e-01, 8.59914463e-01, 4.22967582e-01, 7.61299819e-01,\n",
       "        5.99973494e-01],\n",
       "       [7.18810070e-01, 5.44813920e-01, 8.19465927e-01, 1.74806889e+00,\n",
       "        9.94831951e-01],\n",
       "       [7.36130795e-01, 8.57754241e-01, 6.70914095e-01, 4.99804564e-01,\n",
       "        1.16776266e+00],\n",
       "       [7.53451519e-01, 4.95595880e-01, 1.18598381e+00, 3.56639928e-01,\n",
       "        6.96046111e-01],\n",
       "       [7.70772244e-01, 5.93681653e-01, 5.71519414e-01, 5.39481500e-01,\n",
       "        5.03900877e-01],\n",
       "       [7.88092969e-01, 7.87313476e-02, 1.44257334e+00, 1.05223385e+00,\n",
       "        7.15260635e-01],\n",
       "       [8.05413693e-01, 1.08662104e+00, 1.07794612e+00, 1.07702861e+00,\n",
       "        1.58039455e-01],\n",
       "       [8.22734418e-01, 1.12281936e+00, 1.73778635e+00, 7.45435707e-01,\n",
       "        2.18613240e+00],\n",
       "       [8.40055142e-01, 1.27327593e+00, 1.15033137e+00, 8.31134637e-01,\n",
       "        5.99973494e-01],\n",
       "       [8.57375867e-01, 1.19504085e+00, 1.71239749e-01, 2.95601744e-01,\n",
       "        7.53689682e-01],\n",
       "       [8.74696592e-01, 1.56070228e+00, 6.32290618e-01, 4.63645352e-01,\n",
       "        3.99181724e-01],\n",
       "       [8.92017316e-01, 3.04095087e-01, 1.00367020e+00, 9.04123071e-01,\n",
       "        4.65471830e-01],\n",
       "       [9.09338041e-01, 5.90353742e-01, 2.43084817e-03, 6.74445131e-01,\n",
       "        4.95254341e-01],\n",
       "       [9.26658765e-01, 2.83251860e-01, 1.10981724e+00, 4.91806608e-01,\n",
       "        9.56402904e-01],\n",
       "       [9.43979490e-01, 4.75920341e-01, 1.46120984e-01, 1.01181041e+00,\n",
       "        3.03109107e-01],\n",
       "       [9.61300215e-01, 1.66912209e+00, 7.87594807e-01, 1.35343306e+00,\n",
       "        2.07949180e+00],\n",
       "       [9.78620939e-01, 6.20538471e-01, 1.36640677e+00, 9.66964214e-01,\n",
       "        2.45465537e-01],\n",
       "       [9.95941664e-01, 3.21989902e-02, 1.48308748e+00, 1.03444101e-01,\n",
       "        7.53689682e-01],\n",
       "       [1.01326239e+00, 1.58037782e+00, 9.20751268e-01, 7.78514222e-01,\n",
       "        1.29169634e+00],\n",
       "       [1.03058311e+00, 1.79152496e-01, 3.28434597e-01, 3.65011663e-01,\n",
       "        2.15683025e-01],\n",
       "       [1.04790384e+00, 2.97264113e-01, 3.48691665e-01, 1.97126837e-01,\n",
       "        7.25348259e-02],\n",
       "       [1.06522456e+00, 7.16288868e-01, 8.46475352e-01, 9.25197207e-01,\n",
       "        1.38824932e-01],\n",
       "       [1.08254529e+00, 4.82926468e-01, 3.48691665e-01, 3.94500707e-02,\n",
       "        1.68607443e-01],\n",
       "       [1.09986601e+00, 1.92172214e-01, 9.13998912e-01, 1.18977295e+00,\n",
       "        7.64257669e-01],\n",
       "       [1.11718674e+00, 3.48467222e-01, 5.78271770e-01, 1.38474492e+00,\n",
       "        4.07828260e-01],\n",
       "       [1.13450746e+00, 1.02123053e+00, 1.34128800e+00, 2.00075071e+00,\n",
       "        4.07828260e-01],\n",
       "       [1.15182818e+00, 1.50798117e+00, 9.68017760e-01, 2.42073402e-01,\n",
       "        1.15719467e+00],\n",
       "       [1.16914891e+00, 6.97781017e-01, 1.21974559e+00, 3.61581340e-01,\n",
       "        3.50184689e-01],\n",
       "       [1.18646963e+00, 7.98202165e-01, 2.26879163e-02, 1.20453312e+00,\n",
       "        5.91326959e-01],\n",
       "       [1.20379036e+00, 1.60273904e+00, 8.55118367e-01, 1.28343326e+00,\n",
       "        1.87821967e-01],\n",
       "       [1.22111108e+00, 1.13315340e+00, 7.87594807e-01, 4.18140328e-01,\n",
       "        1.08033658e+00],\n",
       "       [1.23843181e+00, 2.03849092e-01, 1.59625696e-01, 8.58012435e-01,\n",
       "        9.17493494e-02],\n",
       "       [1.25575253e+00, 1.48813048e+00, 2.13644545e-01, 4.99971899e-01,\n",
       "        1.23405277e+00],\n",
       "       [1.27307326e+00, 2.49388915e-01, 1.09145083e+00, 7.68158551e-01,\n",
       "        4.46257307e-01],\n",
       "       [1.29039398e+00, 8.79940308e-01, 1.34128800e+00, 7.47661651e-01,\n",
       "        4.84686354e-01],\n",
       "       [1.30771471e+00, 1.51633014e+00, 1.73103399e+00, 6.51745599e-01,\n",
       "        2.49356478e+00],\n",
       "       [1.32503543e+00, 1.18353913e+00, 4.68343414e-01, 3.11912423e-01,\n",
       "        1.18697718e+00],\n",
       "       [1.34235616e+00, 2.70407294e-01, 1.04418434e+00, 3.89982728e-01,\n",
       "        4.46257307e-01],\n",
       "       [1.35967688e+00, 1.51399477e+00, 1.41556392e+00, 1.33556727e-01,\n",
       "        4.27042783e-01],\n",
       "       [1.37699760e+00, 2.16693657e-01, 8.95632503e-01, 4.64503706e-01,\n",
       "        2.73326596e-01],\n",
       "       [1.39431833e+00, 1.11601758e-01, 1.39530685e+00, 1.11076317e+00,\n",
       "        6.76831588e-01],\n",
       "       [1.41163905e+00, 8.34400486e-01, 1.20624088e+00, 4.65317703e-02,\n",
       "        3.50184689e-01],\n",
       "       [1.42895978e+00, 1.06075676e+00, 1.18598381e+00, 1.52385811e-01,\n",
       "        1.02269301e+00],\n",
       "       [1.44628050e+00, 1.64127273e+00, 1.33264499e+00, 1.63923092e+00,\n",
       "        2.33984859e+00],\n",
       "       [1.46360123e+00, 1.24659427e+00, 1.32616272e-01, 1.65886160e-01,\n",
       "        6.87399576e-01],\n",
       "       [1.48092195e+00, 6.76762637e-01, 1.47444446e+00, 3.50445868e-01,\n",
       "        1.64812575e+00],\n",
       "       [1.49824268e+00, 8.80728498e-02, 1.42906863e+00, 8.67752879e-03,\n",
       "        7.15260635e-01],\n",
       "       [1.51556340e+00, 5.14454038e-01, 3.67058074e-01, 4.29635106e-01,\n",
       "        6.29756005e-01],\n",
       "       [1.53288413e+00, 1.62258973e+00, 6.32290618e-01, 1.58155966e+00,\n",
       "        3.60752677e-01],\n",
       "       [1.55020485e+00, 1.49863967e+00, 7.53833027e-01, 1.48755990e-01,\n",
       "        1.40698348e+00],\n",
       "       [1.56752558e+00, 1.25576062e+00, 1.20435022e+00, 1.34317973e+00,\n",
       "        6.19188018e-01],\n",
       "       [1.58484630e+00, 8.35393020e-01, 8.41613655e-01, 1.32293490e+00,\n",
       "        7.92118728e-01],\n",
       "       [1.60216702e+00, 1.51615499e+00, 1.29402151e+00, 2.36774660e-01,\n",
       "        1.56069967e+00],\n",
       "       [1.61948775e+00, 2.30705910e-01, 1.26512143e+00, 1.59442906e+00,\n",
       "        1.07169004e+00],\n",
       "       [1.63680847e+00, 3.10313024e-02, 8.32970639e-01, 1.32293490e+00,\n",
       "        6.29756005e-01],\n",
       "       [1.65412920e+00, 1.27094056e+00, 1.32103093e+00, 7.00729744e-01,\n",
       "        1.23405277e+00],\n",
       "       [1.67144992e+00, 6.17035408e-01, 1.24000266e+00, 1.12793536e+00,\n",
       "        8.30547775e-01],\n",
       "       [1.68877065e+00, 3.49810063e-01, 9.42898996e-01, 1.28343326e+00,\n",
       "        2.34897549e-01],\n",
       "       [1.70609137e+00, 1.59456522e+00, 1.26512143e+00, 1.47344507e+00,\n",
       "        2.20534693e+00],\n",
       "       [1.72341210e+00, 9.93206022e-01, 9.90165488e-01, 1.07702861e+00,\n",
       "        1.19610408e-01]])"
      ]
     },
     "execution_count": 24,
     "metadata": {},
     "output_type": "execute_result"
    }
   ],
   "source": [
    "z=np.abs(zscore(df))\n",
    "a=np.array(z)\n",
    "a"
   ]
  },
  {
   "cell_type": "code",
   "execution_count": 25,
   "id": "b4f08eba",
   "metadata": {},
   "outputs": [
    {
     "name": "stdout",
     "output_type": "stream",
     "text": [
      "(array([], dtype=int64), array([], dtype=int64))\n"
     ]
    }
   ],
   "source": [
    "threashold=3\n",
    "print(np.where(z>3))"
   ]
  },
  {
   "cell_type": "markdown",
   "id": "f0ba0d18",
   "metadata": {},
   "source": [
    "# correlation"
   ]
  },
  {
   "cell_type": "code",
   "execution_count": 26,
   "id": "bbe72609",
   "metadata": {},
   "outputs": [
    {
     "data": {
      "text/html": [
       "<div>\n",
       "<style scoped>\n",
       "    .dataframe tbody tr th:only-of-type {\n",
       "        vertical-align: middle;\n",
       "    }\n",
       "\n",
       "    .dataframe tbody tr th {\n",
       "        vertical-align: top;\n",
       "    }\n",
       "\n",
       "    .dataframe thead th {\n",
       "        text-align: right;\n",
       "    }\n",
       "</style>\n",
       "<table border=\"1\" class=\"dataframe\">\n",
       "  <thead>\n",
       "    <tr style=\"text-align: right;\">\n",
       "      <th></th>\n",
       "      <th>Unnamed: 0</th>\n",
       "      <th>TV</th>\n",
       "      <th>radio</th>\n",
       "      <th>newspaper</th>\n",
       "      <th>sales</th>\n",
       "    </tr>\n",
       "  </thead>\n",
       "  <tbody>\n",
       "    <tr>\n",
       "      <th>Unnamed: 0</th>\n",
       "      <td>1.000000</td>\n",
       "      <td>0.017715</td>\n",
       "      <td>-0.110680</td>\n",
       "      <td>-0.147337</td>\n",
       "      <td>-0.051616</td>\n",
       "    </tr>\n",
       "    <tr>\n",
       "      <th>TV</th>\n",
       "      <td>0.017715</td>\n",
       "      <td>1.000000</td>\n",
       "      <td>0.054809</td>\n",
       "      <td>0.045976</td>\n",
       "      <td>0.782224</td>\n",
       "    </tr>\n",
       "    <tr>\n",
       "      <th>radio</th>\n",
       "      <td>-0.110680</td>\n",
       "      <td>0.054809</td>\n",
       "      <td>1.000000</td>\n",
       "      <td>0.313430</td>\n",
       "      <td>0.576223</td>\n",
       "    </tr>\n",
       "    <tr>\n",
       "      <th>newspaper</th>\n",
       "      <td>-0.147337</td>\n",
       "      <td>0.045976</td>\n",
       "      <td>0.313430</td>\n",
       "      <td>1.000000</td>\n",
       "      <td>0.204725</td>\n",
       "    </tr>\n",
       "    <tr>\n",
       "      <th>sales</th>\n",
       "      <td>-0.051616</td>\n",
       "      <td>0.782224</td>\n",
       "      <td>0.576223</td>\n",
       "      <td>0.204725</td>\n",
       "      <td>1.000000</td>\n",
       "    </tr>\n",
       "  </tbody>\n",
       "</table>\n",
       "</div>"
      ],
      "text/plain": [
       "            Unnamed: 0        TV     radio  newspaper     sales\n",
       "Unnamed: 0    1.000000  0.017715 -0.110680  -0.147337 -0.051616\n",
       "TV            0.017715  1.000000  0.054809   0.045976  0.782224\n",
       "radio        -0.110680  0.054809  1.000000   0.313430  0.576223\n",
       "newspaper    -0.147337  0.045976  0.313430   1.000000  0.204725\n",
       "sales        -0.051616  0.782224  0.576223   0.204725  1.000000"
      ]
     },
     "execution_count": 26,
     "metadata": {},
     "output_type": "execute_result"
    }
   ],
   "source": [
    "corr=df.corr()\n",
    "corr"
   ]
  },
  {
   "cell_type": "code",
   "execution_count": 27,
   "id": "2226b89b",
   "metadata": {},
   "outputs": [
    {
     "data": {
      "text/plain": [
       "<AxesSubplot:>"
      ]
     },
     "execution_count": 27,
     "metadata": {},
     "output_type": "execute_result"
    },
    {
     "data": {
      "image/png": "[encoded data removed]",
      "text/plain": [
       "<Figure size 720x720 with 2 Axes>"
      ]
     },
     "metadata": {
      "needs_background": "light"
     },
     "output_type": "display_data"
    }
   ],
   "source": [
    "# Heatmap\n",
    "figure=plt.figure(figsize=(10,10))\n",
    "sns.heatmap(corr,annot=True, fmt=\".2f\")"
   ]
  },
  {
   "cell_type": "markdown",
   "id": "cbf33fd7",
   "metadata": {},
   "source": [
    "As is visible from the pairplot and the heatmap, the variable TV seems to be most correlated with Sales"
   ]
  },
  {
   "cell_type": "markdown",
   "id": "1c216a23",
   "metadata": {},
   "source": [
    "# Data Preprocessing"
   ]
  },
  {
   "cell_type": "code",
   "execution_count": 32,
   "id": "fcd49a78",
   "metadata": {},
   "outputs": [],
   "source": [
    "X=df.drop('sales',axis=1)\n",
    "Y=df['sales']"
   ]
  },
  {
   "cell_type": "markdown",
   "id": "370b3732",
   "metadata": {},
   "source": [
    "# Train_Test_Split"
   ]
  },
  {
   "cell_type": "code",
   "execution_count": 33,
   "id": "6b0fc109",
   "metadata": {},
   "outputs": [],
   "source": [
    "x_train,x_test,y_train,y_test=train_test_split(X,Y,test_size=.2,random_state=22)\n"
   ]
  },
  {
   "cell_type": "code",
   "execution_count": 34,
   "id": "ec0d2000",
   "metadata": {},
   "outputs": [
    {
     "data": {
      "text/plain": [
       "((160, 4), (40, 4))"
      ]
     },
     "execution_count": 34,
     "metadata": {},
     "output_type": "execute_result"
    }
   ],
   "source": [
    "x_train.shape,x_test.shape"
   ]
  },
  {
   "cell_type": "markdown",
   "id": "b7789313",
   "metadata": {},
   "source": [
    "# Model Training"
   ]
  },
  {
   "cell_type": "markdown",
   "id": "df8769fb",
   "metadata": {},
   "source": [
    "# Linear Regression Algorithm"
   ]
  },
  {
   "cell_type": "code",
   "execution_count": 35,
   "id": "0e7d4cb9",
   "metadata": {},
   "outputs": [],
   "source": [
    "from sklearn.linear_model import LinearRegression\n",
    "from sklearn.metrics import mean_squared_error,mean_absolute_error,r2_score"
   ]
  },
  {
   "cell_type": "code",
   "execution_count": 36,
   "id": "2a7ed921",
   "metadata": {},
   "outputs": [],
   "source": [
    "lr=LinearRegression()"
   ]
  },
  {
   "cell_type": "code",
   "execution_count": 37,
   "id": "ee86c1de",
   "metadata": {},
   "outputs": [
    {
     "data": {
      "text/plain": [
       "LinearRegression()"
      ]
     },
     "execution_count": 37,
     "metadata": {},
     "output_type": "execute_result"
    }
   ],
   "source": [
    "lr.fit(x_train,y_train)"
   ]
  },
  {
   "cell_type": "code",
   "execution_count": 38,
   "id": "f99d552b",
   "metadata": {},
   "outputs": [],
   "source": [
    "pred=lr.predict(x_test)"
   ]
  },
  {
   "cell_type": "code",
   "execution_count": 39,
   "id": "27df184d",
   "metadata": {},
   "outputs": [
    {
     "name": "stdout",
     "output_type": "stream",
     "text": [
      "mean squared error 2.484347863300331\n",
      "mean absolute error 1.1781839254818964\n",
      "r2 score 0.9027944258298182\n"
     ]
    }
   ],
   "source": [
    "print('mean squared error',mean_squared_error(y_test,pred))\n",
    "print('mean absolute error',mean_absolute_error(y_test,pred))\n",
    "print('r2 score',r2_score(pred,y_test))"
   ]
  },
  {
   "cell_type": "code",
   "execution_count": 40,
   "id": "35023b11",
   "metadata": {},
   "outputs": [],
   "source": [
    "from sklearn.model_selection import cross_val_score\n",
    "score=cross_val_score(lr,x,y,cv=5)"
   ]
  },
  {
   "cell_type": "code",
   "execution_count": 41,
   "id": "01200402",
   "metadata": {},
   "outputs": [
    {
     "name": "stdout",
     "output_type": "stream",
     "text": [
      "[0.86722053 0.91597051 0.9297226  0.81385233 0.89583165]\n",
      "0.8845195240759567\n",
      "0.041118253386604825\n"
     ]
    }
   ],
   "source": [
    "print(score)\n",
    "print(score.mean())\n",
    "print(score.std())"
   ]
  },
  {
   "cell_type": "markdown",
   "id": "5bee3731",
   "metadata": {},
   "source": [
    "# Ridge\n"
   ]
  },
  {
   "cell_type": "code",
   "execution_count": 42,
   "id": "99e3799a",
   "metadata": {},
   "outputs": [],
   "source": [
    "from sklearn.linear_model import Ridge"
   ]
  },
  {
   "cell_type": "code",
   "execution_count": 43,
   "id": "8817f8f7",
   "metadata": {},
   "outputs": [],
   "source": [
    "rd=Ridge()"
   ]
  },
  {
   "cell_type": "code",
   "execution_count": 44,
   "id": "c8c9f3db",
   "metadata": {},
   "outputs": [
    {
     "data": {
      "text/plain": [
       "Ridge()"
      ]
     },
     "execution_count": 44,
     "metadata": {},
     "output_type": "execute_result"
    }
   ],
   "source": [
    "rd.fit(x_train,y_train)"
   ]
  },
  {
   "cell_type": "code",
   "execution_count": 45,
   "id": "97095ec7",
   "metadata": {},
   "outputs": [],
   "source": [
    "pred=rd.predict(x_test)"
   ]
  },
  {
   "cell_type": "code",
   "execution_count": 46,
   "id": "e7ee3ea9",
   "metadata": {},
   "outputs": [
    {
     "name": "stdout",
     "output_type": "stream",
     "text": [
      "mean squared error 2.4842813110091626\n",
      "mean absolute error 1.1781789737942105\n",
      "r2 score 0.9027948759437199\n"
     ]
    }
   ],
   "source": [
    "print('mean squared error',mean_squared_error(y_test,pred))\n",
    "print('mean absolute error',mean_absolute_error(y_test,pred))\n",
    "print('r2 score',r2_score(pred,y_test))"
   ]
  },
  {
   "cell_type": "code",
   "execution_count": 47,
   "id": "948ffa08",
   "metadata": {},
   "outputs": [
    {
     "name": "stdout",
     "output_type": "stream",
     "text": [
      "[0.86722077 0.91597082 0.92972282 0.813861   0.89582814]\n",
      "0.8845207085486673\n",
      "0.04111515608904386\n"
     ]
    }
   ],
   "source": [
    "score=cross_val_score(rd,x,y,cv=5)\n",
    "print(score)\n",
    "print(score.mean())\n",
    "print(score.std())"
   ]
  },
  {
   "cell_type": "markdown",
   "id": "a6c148ef",
   "metadata": {},
   "source": [
    "# Lasso Regression"
   ]
  },
  {
   "cell_type": "code",
   "execution_count": 48,
   "id": "90e9c8de",
   "metadata": {},
   "outputs": [],
   "source": [
    "from sklearn.linear_model import Lasso"
   ]
  },
  {
   "cell_type": "code",
   "execution_count": 49,
   "id": "d6c6c6fe",
   "metadata": {},
   "outputs": [],
   "source": [
    "ls=Lasso()"
   ]
  },
  {
   "cell_type": "code",
   "execution_count": 50,
   "id": "198600b7",
   "metadata": {},
   "outputs": [
    {
     "data": {
      "text/plain": [
       "Lasso()"
      ]
     },
     "execution_count": 50,
     "metadata": {},
     "output_type": "execute_result"
    }
   ],
   "source": [
    "ls.fit(x_train,y_train)"
   ]
  },
  {
   "cell_type": "code",
   "execution_count": 51,
   "id": "26de1b69",
   "metadata": {},
   "outputs": [],
   "source": [
    "pred=ls.predict(x_test)"
   ]
  },
  {
   "cell_type": "code",
   "execution_count": 52,
   "id": "48c4b552",
   "metadata": {},
   "outputs": [
    {
     "name": "stdout",
     "output_type": "stream",
     "text": [
      "mean_squared_error 2.417237455360752\n",
      "mean_absolute_error 1.1647721332987357\n",
      "r2_score 0.9199168616801312\n"
     ]
    }
   ],
   "source": [
    "print('mean_squared_error',mean_squared_error(y_test,pred))\n",
    "print('mean_absolute_error',mean_absolute_error(y_test,pred))\n",
    "print('r2_score',r2_score(y_test,pred))"
   ]
  },
  {
   "cell_type": "code",
   "execution_count": 53,
   "id": "0d5e1235",
   "metadata": {},
   "outputs": [
    {
     "name": "stdout",
     "output_type": "stream",
     "text": [
      "[0.87094347 0.91750505 0.92996116 0.8220553  0.89270188]\n",
      "0.886633369428927\n",
      "0.03816722477095456\n"
     ]
    }
   ],
   "source": [
    "score=cross_val_score(ls,x,y,cv=5)\n",
    "print(score)\n",
    "print(score.mean())\n",
    "print(score.std())"
   ]
  },
  {
   "cell_type": "code",
   "execution_count": 54,
   "id": "939673de",
   "metadata": {},
   "outputs": [],
   "source": [
    "from sklearn.linear_model import ElasticNet"
   ]
  },
  {
   "cell_type": "code",
   "execution_count": 55,
   "id": "2c72c0d9",
   "metadata": {},
   "outputs": [],
   "source": [
    "en=ElasticNet()"
   ]
  },
  {
   "cell_type": "code",
   "execution_count": 56,
   "id": "98bf2a66",
   "metadata": {},
   "outputs": [
    {
     "data": {
      "text/plain": [
       "ElasticNet()"
      ]
     },
     "execution_count": 56,
     "metadata": {},
     "output_type": "execute_result"
    }
   ],
   "source": [
    "en.fit(x_train,y_train)"
   ]
  },
  {
   "cell_type": "code",
   "execution_count": 57,
   "id": "84a5cd7f",
   "metadata": {},
   "outputs": [],
   "source": [
    "pred=en.predict(x_test)"
   ]
  },
  {
   "cell_type": "code",
   "execution_count": 58,
   "id": "597f01da",
   "metadata": {},
   "outputs": [
    {
     "name": "stdout",
     "output_type": "stream",
     "text": [
      "mean_squared_error 2.4309055051510935\n",
      "mean_absolute_error 1.1661329737000485\n",
      "r2_score 0.919464038843262\n"
     ]
    }
   ],
   "source": [
    "print('mean_squared_error',mean_squared_error(pred,y_test))\n",
    "print('mean_absolute_error',mean_absolute_error(y_test,pred))\n",
    "print('r2_score',r2_score(y_test,pred))"
   ]
  },
  {
   "cell_type": "code",
   "execution_count": 59,
   "id": "9a120fe7",
   "metadata": {},
   "outputs": [
    {
     "name": "stdout",
     "output_type": "stream",
     "text": [
      "[0.87008275 0.91735067 0.92990435 0.82085121 0.8940822 ]\n",
      "0.8864542371877494\n",
      "0.03865868644990519\n"
     ]
    }
   ],
   "source": [
    "score=cross_val_score(en,x,y,cv=5)\n",
    "print(score)\n",
    "print(score.mean())\n",
    "print(score.std())"
   ]
  },
  {
   "cell_type": "markdown",
   "id": "7818956b",
   "metadata": {},
   "source": [
    "# support vector machine"
   ]
  },
  {
   "cell_type": "code",
   "execution_count": 60,
   "id": "13e0b6de",
   "metadata": {},
   "outputs": [
    {
     "data": {
      "text/plain": [
       "SVR()"
      ]
     },
     "execution_count": 60,
     "metadata": {},
     "output_type": "execute_result"
    }
   ],
   "source": [
    "from sklearn.svm import SVR\n",
    "svr=SVR()\n",
    "svr.fit(x_train,y_train)"
   ]
  },
  {
   "cell_type": "code",
   "execution_count": 61,
   "id": "4984941b",
   "metadata": {},
   "outputs": [],
   "source": [
    "pred=svr.predict(x_test)"
   ]
  },
  {
   "cell_type": "code",
   "execution_count": 62,
   "id": "fdcc844b",
   "metadata": {},
   "outputs": [
    {
     "name": "stdout",
     "output_type": "stream",
     "text": [
      "mean_squared_error 6.305104767676083\n",
      "mean_absolute_error 1.878615005845069\n",
      "r2_score 0.7911117188295796\n"
     ]
    }
   ],
   "source": [
    "print('mean_squared_error',mean_squared_error(y_test,pred))\n",
    "print('mean_absolute_error',mean_absolute_error(y_test,pred))\n",
    "print('r2_score',r2_score(y_test,pred))"
   ]
  },
  {
   "cell_type": "code",
   "execution_count": 63,
   "id": "ee367bef",
   "metadata": {},
   "outputs": [],
   "source": [
    "score=cross_val_score(svr,x,y,cv=5)\n"
   ]
  },
  {
   "cell_type": "code",
   "execution_count": 64,
   "id": "005ba859",
   "metadata": {},
   "outputs": [
    {
     "name": "stdout",
     "output_type": "stream",
     "text": [
      "[0.74722781 0.8353086  0.75464605 0.78995917 0.62104104]\n",
      "0.749636529828942\n",
      "0.0714609212191472\n"
     ]
    }
   ],
   "source": [
    "print(score)\n",
    "print(score.mean())\n",
    "print(score.std())"
   ]
  },
  {
   "cell_type": "markdown",
   "id": "2a8fa1fa",
   "metadata": {},
   "source": [
    "# Decision Tree Regressor"
   ]
  },
  {
   "cell_type": "code",
   "execution_count": 65,
   "id": "e32bb01c",
   "metadata": {},
   "outputs": [],
   "source": [
    "from sklearn.tree import DecisionTreeRegressor\n",
    "dtr=DecisionTreeRegressor()\n",
    "dtr.fit(x_train,y_train)\n",
    "DecisionTreeRegressor()\n",
    "pred=dtr.predict(x_test)"
   ]
  },
  {
   "cell_type": "code",
   "execution_count": 66,
   "id": "0582ff01",
   "metadata": {},
   "outputs": [
    {
     "name": "stdout",
     "output_type": "stream",
     "text": [
      "mean_squared_error 1.41675\n",
      "mean_absolute_error 0.9424999999999999\n",
      "r2_score 0.953063036499349\n"
     ]
    }
   ],
   "source": [
    "print('mean_squared_error',mean_squared_error(y_test,pred))\n",
    "print('mean_absolute_error',mean_absolute_error(y_test,pred))\n",
    "print('r2_score',r2_score(y_test,pred))"
   ]
  },
  {
   "cell_type": "code",
   "execution_count": 67,
   "id": "424d69aa",
   "metadata": {},
   "outputs": [
    {
     "name": "stdout",
     "output_type": "stream",
     "text": [
      "[0.95809068 0.95362352 0.91281224 0.94626717 0.95838635]\n",
      "0.9458359922364347\n",
      "0.017082671564340155\n"
     ]
    }
   ],
   "source": [
    "score=cross_val_score(dtr,x,y,cv=5)\n",
    "print(score)\n",
    "print(score.mean())\n",
    "print(score.std())\n"
   ]
  },
  {
   "cell_type": "markdown",
   "id": "9649b43f",
   "metadata": {},
   "source": [
    "# RandomForest Regressor"
   ]
  },
  {
   "cell_type": "code",
   "execution_count": 68,
   "id": "33e01587",
   "metadata": {},
   "outputs": [
    {
     "data": {
      "text/plain": [
       "RandomForestRegressor()"
      ]
     },
     "execution_count": 68,
     "metadata": {},
     "output_type": "execute_result"
    }
   ],
   "source": [
    "from sklearn.ensemble import RandomForestRegressor\n",
    "rf=RandomForestRegressor()\n",
    "rf.fit(x_train,y_train)"
   ]
  },
  {
   "cell_type": "code",
   "execution_count": 69,
   "id": "8f8080d0",
   "metadata": {},
   "outputs": [],
   "source": [
    "pred=rf.predict(x_test)"
   ]
  },
  {
   "cell_type": "code",
   "execution_count": 70,
   "id": "c74176a3",
   "metadata": {},
   "outputs": [
    {
     "name": "stdout",
     "output_type": "stream",
     "text": [
      "mean_squared_error 0.5537411999999999\n",
      "mean_absolute_error 0.6153500000000005\n",
      "r2 score 0.9810079028468801\n"
     ]
    }
   ],
   "source": [
    "print('mean_squared_error',mean_squared_error(y_test,pred))\n",
    "print('mean_absolute_error',mean_absolute_error(y_test,pred))  \n",
    "print('r2 score',r2_score(pred,y_test))"
   ]
  },
  {
   "cell_type": "code",
   "execution_count": 71,
   "id": "482e35a2",
   "metadata": {},
   "outputs": [
    {
     "name": "stdout",
     "output_type": "stream",
     "text": [
      "[0.947432   0.9490054  0.91564309 0.95803966 0.9646401 ]\n",
      "0.9469520483913876\n",
      "0.016855265607172328\n"
     ]
    }
   ],
   "source": [
    "score=cross_val_score(dtr,x,y,cv=5)\n",
    "print(score)\n",
    "print(score.mean())\n",
    "print(score.std())"
   ]
  },
  {
   "cell_type": "markdown",
   "id": "add840aa",
   "metadata": {},
   "source": [
    "# Hyperparameter Tuning"
   ]
  },
  {
   "cell_type": "code",
   "execution_count": null,
   "id": "d554f908",
   "metadata": {},
   "outputs": [],
   "source": [
    "from sklearn.model_selection import GridSearchCV\n",
    "model=RandomForestRegressor()\n",
    "param={'n_estimators':[10,30,50,70,100],'criterion':['mse','mae'],'min_samples_split':[1,2,3,4,5],'min_samples_leaf':[1,2,3,4,5]}\n",
    "grid=GridSearchCV(estimator=model,param_grid=param,cv=5)\n",
    "grid.fit(x_train,y_train)"
   ]
  },
  {
   "cell_type": "code",
   "execution_count": null,
   "id": "588335d1",
   "metadata": {},
   "outputs": [],
   "source": [
    "print(grid)\n",
    "print(grid.best_score_)\n",
    "print(grid.best_estimator_.criterion)\n",
    "print(grid.best_params_)"
   ]
  },
  {
   "cell_type": "code",
   "execution_count": null,
   "id": "7546df6e",
   "metadata": {},
   "outputs": [],
   "source": [
    "import joblib"
   ]
  },
  {
   "cell_type": "code",
   "execution_count": null,
   "id": "b07e9cb7",
   "metadata": {},
   "outputs": [],
   "source": [
    "joblib.dump(RandomForestRegressor,'Advertising_sales.obj')"
   ]
  }
 ],
 "metadata": {
  "kernelspec": {
   "display_name": "Python 3 (ipykernel)",
   "language": "python",
   "name": "python3"
  },
  "language_info": {
   "codemirror_mode": {
    "name": "ipython",
    "version": 3
   },
   "file_extension": ".py",
   "mimetype": "text/x-python",
   "name": "python",
   "nbconvert_exporter": "python",
   "pygments_lexer": "ipython3",
   "version": "3.9.7"
  }
 },
 "nbformat": 4,
 "nbformat_minor": 5
}
