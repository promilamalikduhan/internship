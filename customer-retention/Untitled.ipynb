{
 "cells": [
  {
   "cell_type": "code",
   "execution_count": 1,
   "id": "09cfd11a",
   "metadata": {},
   "outputs": [],
   "source": [
    "import numpy as np\n",
    "import pandas as pd\n",
    "import matplotlib.pyplot as plt\n",
    "import seaborn as sns\n",
    "import warnings\n",
    "warnings.filterwarnings('ignore')\n",
    "%matplotlib inline\n",
    "import sys  "
   ]
  },
  {
   "cell_type": "code",
   "execution_count": 8,
   "id": "70bf35aa",
   "metadata": {},
   "outputs": [
    {
     "ename": "SyntaxError",
     "evalue": "invalid syntax (3032341516.py, line 2)",
     "output_type": "error",
     "traceback": [
      "\u001b[0;36m  Input \u001b[0;32mIn [8]\u001b[0;36m\u001b[0m\n\u001b[0;31m    df1=(df.encoding ='ISO-8859-1').round(decimals=2)\u001b[0m\n\u001b[0m                     ^\u001b[0m\n\u001b[0;31mSyntaxError\u001b[0m\u001b[0;31m:\u001b[0m invalid syntax\n"
     ]
    }
   ],
   "source": [
    "df = pd.read_excel('customer_retention_dataset.xlsx', engine='openpyxl')\n",
    "df1=(df.encoding ='ISO-8859-1').round(decimals=2)"
   ]
  },
  {
   "cell_type": "code",
   "execution_count": 3,
   "id": "204eafc3",
   "metadata": {},
   "outputs": [
    {
     "data": {
      "text/plain": [
       "Index(['1Gender of respondent', '2 How old are you? ',\n",
       "       '3 Which city do you shop online from?',\n",
       "       '4 What is the Pin Code of where you shop online from?',\n",
       "       '5 Since How Long You are Shopping Online ?',\n",
       "       '6 How many times you have made an online purchase in the past 1 year?',\n",
       "       '7 How do you access the internet while shopping on-line?',\n",
       "       '8 Which device do you use to access the online shopping?',\n",
       "       '9 What is the screen size of your mobile device?\\t\\t\\t\\t\\t\\t                                        ',\n",
       "       '10 What is the operating system (OS) of your device?\\t\\t\\t\\t                                          ',\n",
       "       '11 What browser do you run on your device to access the website?\\t\\t\\t                                                          ',\n",
       "       '12 Which channel did you follow to arrive at your favorite online store for the first time?                                                                   ',\n",
       "       '13 After first visit, how do you reach the online retail store?\\t\\t\\t\\t                                                   ',\n",
       "       '14 How much time do you explore the e- retail store before making a purchase decision?                                                                   ',\n",
       "       '15 What is your preferred payment Option?\\t\\t\\t\\t\\t                                                                                                                               ',\n",
       "       '16 How frequently do you abandon (selecting an items and leaving without making payment) your shopping cart?\\t\\t\\t\\t\\t\\t\\t                                                   ',\n",
       "       '17 Why did you abandon the “Bag”, “Shopping Cart”?\\t\\t\\t\\t\\t                                                                                                                                                       ',\n",
       "       '18 The content on the website must be easy to read and understand',\n",
       "       '19 Information on similar product to the one highlighted  is important for product comparison',\n",
       "       '20 Complete information on listed seller and product being offered is important for purchase decision.',\n",
       "       '21 All relevant information on listed products must be stated clearly',\n",
       "       '22 Ease of navigation in website', '23 Loading and processing speed',\n",
       "       '24 User friendly Interface of the website',\n",
       "       '25 Convenient Payment methods',\n",
       "       '26 Trust that the online retail store will fulfill its part of the transaction at the stipulated time',\n",
       "       '27 Empathy (readiness to assist with queries) towards the customers',\n",
       "       '28 Being able to guarantee the privacy of the customer',\n",
       "       '29 Responsiveness, availability of several communication channels (email, online rep, twitter, phone etc.)',\n",
       "       '30 Online shopping gives monetary benefit and discounts',\n",
       "       '31 Enjoyment is derived from shopping online',\n",
       "       '32 Shopping online is convenient and flexible',\n",
       "       '33 Return and replacement policy of the e-tailer is important for purchase decision',\n",
       "       '34 Gaining access to loyalty programs is a benefit of shopping online',\n",
       "       '35 Displaying quality Information on the website improves satisfaction of customers',\n",
       "       '36 User derive satisfaction while shopping on a good quality website or application',\n",
       "       '37 Net Benefit derived from shopping online can lead to users satisfaction',\n",
       "       '38 User satisfaction cannot exist without trust',\n",
       "       '39 Offering a wide variety of listed product in several category',\n",
       "       '40 Provision of complete and relevant product information',\n",
       "       '41 Monetary savings',\n",
       "       '42 The Convenience of patronizing the online retailer',\n",
       "       '43 Shopping on the website gives you the sense of adventure',\n",
       "       '44 Shopping on your preferred e-tailer enhances your social status',\n",
       "       '45 You feel gratification shopping on your favorite e-tailer',\n",
       "       '46 Shopping on the website helps you fulfill certain roles',\n",
       "       '47 Getting value for money spent',\n",
       "       'From the following, tick any (or all) of the online retailers you have shopped from;                                                                           ',\n",
       "       'Easy to use website or application',\n",
       "       'Visual appealing web-page layout', 'Wild variety of product on offer',\n",
       "       'Complete, relevant description information of products',\n",
       "       'Fast loading website speed of website and application',\n",
       "       'Reliability of the website or application',\n",
       "       'Quickness to complete purchase',\n",
       "       'Availability of several payment options', 'Speedy order delivery ',\n",
       "       'Privacy of customers’ information',\n",
       "       'Security of customer financial information',\n",
       "       'Perceived Trustworthiness',\n",
       "       'Presence of online assistance through multi-channel',\n",
       "       'Longer time to get logged in (promotion, sales period)',\n",
       "       'Longer time in displaying graphics and photos (promotion, sales period)',\n",
       "       'Late declaration of price (promotion, sales period)',\n",
       "       'Longer page loading time (promotion, sales period)',\n",
       "       'Limited mode of payment on most products (promotion, sales period)',\n",
       "       'Longer delivery period', 'Change in website/Application design',\n",
       "       'Frequent disruption when moving from one page to another',\n",
       "       'Website is as efficient as before',\n",
       "       'Which of the Indian online retailer would you recommend to a friend?'],\n",
       "      dtype='object')"
      ]
     },
     "execution_count": 3,
     "metadata": {},
     "output_type": "execute_result"
    }
   ],
   "source": [
    "df.columns"
   ]
  },
  {
   "cell_type": "code",
   "execution_count": null,
   "id": "2441a7d0",
   "metadata": {},
   "outputs": [],
   "source": []
  }
 ],
 "metadata": {
  "kernelspec": {
   "display_name": "Python 3 (ipykernel)",
   "language": "python",
   "name": "python3"
  },
  "language_info": {
   "codemirror_mode": {
    "name": "ipython",
    "version": 3
   },
   "file_extension": ".py",
   "mimetype": "text/x-python",
   "name": "python",
   "nbconvert_exporter": "python",
   "pygments_lexer": "ipython3",
   "version": "3.9.7"
  }
 },
 "nbformat": 4,
 "nbformat_minor": 5
}
